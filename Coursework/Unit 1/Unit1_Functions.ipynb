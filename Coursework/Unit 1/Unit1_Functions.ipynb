{
 "cells": [
  {
   "cell_type": "markdown",
   "id": "c4230680-ba23-4630-bdcc-5cf607c2c436",
   "metadata": {},
   "source": [
    "# Grading: x of 3 correct\n",
    "- [x] Takes string\n",
    "- [x] Returns Boolean\n",
    "- [x] Tested on inputs from strings quiz"
   ]
  },
  {
   "cell_type": "markdown",
   "id": "79b9b181-ebe4-49aa-ae71-0bd72176b056",
   "metadata": {},
   "source": [
    "## Unit 1 Functions Quiz\n",
    "* The objective of this quiz is for you to write a function called `palindrome` that implements the palindorme checker that you wrote earlier as a function.\n",
    "    * `palindrome` takes a single input that is a string\n",
    "    * `palindrome` returns a single output that is a Boolean.\n",
    "* Test the `palindrome` function with the same inputs that you used with the previous quiz."
   ]
  },
  {
   "cell_type": "code",
   "execution_count": 1,
   "id": "53aeda80-8714-47eb-b914-76c37e7858ac",
   "metadata": {},
   "outputs": [],
   "source": [
    "# Write your code here for the palidrome function here.\n",
    "\n",
    "# I accidentally did this earlier as it was just a quicker and easier way to check the test cases, so I'll copy and paste it here. Oops.\n",
    "def palindrome(s):\n",
    "    \"\"\"\n",
    "        Check to see if a string is a palindrome.\n",
    "\n",
    "        Args:\n",
    "            s (str): a given string of any length\n",
    "\n",
    "        Returns:\n",
    "            bool: True if the string is a palindrome, False otherwise\n",
    "\n",
    "    \"\"\"\n",
    "    s = s.lower().replace(' ', '') # Convert to lowercase and remove spaces (otherwise test cases 1/3 will fail)\n",
    "    reversed_s = s[::-1]\n",
    "    return s == reversed_s"
   ]
  },
  {
   "cell_type": "code",
   "execution_count": 2,
   "id": "79112d3d-c6af-405b-b8f4-cc54aeedfa84",
   "metadata": {},
   "outputs": [
    {
     "name": "stdout",
     "output_type": "stream",
     "text": [
      "Madam: True\n",
      "madam: True\n",
      "was it a car or a cat I saw: True\n",
      "ThesiS: False\n",
      "Be a TarHeel: False\n"
     ]
    }
   ],
   "source": [
    "# Write the code here for testing the palindrome function.\n",
    "test_cases = ['Madam', 'madam', 'was it a car or a cat I saw', 'ThesiS', 'Be a TarHeel']\n",
    "\n",
    "for string in test_cases:\n",
    "    print(f'{string}: {palindrome(string)}')"
   ]
  }
 ],
 "metadata": {
  "kernelspec": {
   "display_name": "Python 3",
   "language": "python",
   "name": "python3"
  },
  "language_info": {
   "codemirror_mode": {
    "name": "ipython",
    "version": 3
   },
   "file_extension": ".py",
   "mimetype": "text/x-python",
   "name": "python",
   "nbconvert_exporter": "python",
   "pygments_lexer": "ipython3",
   "version": "3.11.9"
  }
 },
 "nbformat": 4,
 "nbformat_minor": 5
}
