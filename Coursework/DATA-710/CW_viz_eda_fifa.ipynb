{
    "cells": [
        {
            "cell_type": "markdown",
            "metadata": {},
            "source": [
                "In this example we will do some _Exploratory Data Analysis_ (EDA) using data on players from the 2010 World Cup\n",
                "\n",
                "The data frame contains 595 observations on the following variables:\n",
                "\n",
                "Variable      | Description\n",
                "--------------|--------------------------------------------------------\n",
                "`Player`      | Player's last name\n",
                "`Team`        | Country\n",
                "`Position`    | a factor (levels: `Defender`, `Forward`, `Goalkeeper`, `Midfielder`)\n",
                "`Time`        | Time played in minutes\n",
                "`Shots`       | Number of shots attempted\n",
                "`Passes`      | Number of passes made\n",
                "`Tackles`     | Number of tackles made\n",
                "`Saves`       | Number of saves made\n",
                "\n",
                "\n",
                "1. Load the `tidyverse` package\n"
            ]
        },
        {
            "cell_type": "code",
            "execution_count": 1,
            "metadata": {
                "vscode": {
                    "languageId": "r"
                }
            },
            "outputs": [
                {
                    "name": "stderr",
                    "output_type": "stream",
                    "text": [
                        "── \u001b[1mAttaching core tidyverse packages\u001b[22m ──────────────────────── tidyverse 2.0.0 ──\n",
                        "\u001b[32m✔\u001b[39m \u001b[34mdplyr    \u001b[39m 1.1.4     \u001b[32m✔\u001b[39m \u001b[34mreadr    \u001b[39m 2.1.5\n",
                        "\u001b[32m✔\u001b[39m \u001b[34mforcats  \u001b[39m 1.0.0     \u001b[32m✔\u001b[39m \u001b[34mstringr  \u001b[39m 1.5.1\n",
                        "\u001b[32m✔\u001b[39m \u001b[34mggplot2  \u001b[39m 3.5.1     \u001b[32m✔\u001b[39m \u001b[34mtibble   \u001b[39m 3.2.1\n",
                        "\u001b[32m✔\u001b[39m \u001b[34mlubridate\u001b[39m 1.9.4     \u001b[32m✔\u001b[39m \u001b[34mtidyr    \u001b[39m 1.3.1\n",
                        "\u001b[32m✔\u001b[39m \u001b[34mpurrr    \u001b[39m 1.0.2     \n",
                        "── \u001b[1mConflicts\u001b[22m ────────────────────────────────────────── tidyverse_conflicts() ──\n",
                        "\u001b[31m✖\u001b[39m \u001b[34mdplyr\u001b[39m::\u001b[32mfilter()\u001b[39m masks \u001b[34mstats\u001b[39m::filter()\n",
                        "\u001b[31m✖\u001b[39m \u001b[34mdplyr\u001b[39m::\u001b[32mlag()\u001b[39m    masks \u001b[34mstats\u001b[39m::lag()\n",
                        "\u001b[36mℹ\u001b[39m Use the conflicted package (\u001b[3m\u001b[34m<http://conflicted.r-lib.org/>\u001b[39m\u001b[23m) to force all conflicts to become errors\n"
                    ]
                }
            ],
            "source": [
                "library(tidyverse)\n",
                "\n"
            ]
        },
        {
            "cell_type": "markdown",
            "metadata": {},
            "source": [
                "2. Get the data:\n",
                "\n"
            ]
        },
        {
            "cell_type": "code",
            "execution_count": 2,
            "metadata": {
                "vscode": {
                    "languageId": "r"
                }
            },
            "outputs": [
                {
                    "name": "stderr",
                    "output_type": "stream",
                    "text": [
                        "\u001b[1mRows: \u001b[22m\u001b[34m595\u001b[39m \u001b[1mColumns: \u001b[22m\u001b[34m8\u001b[39m\n",
                        "\u001b[36m──\u001b[39m \u001b[1mColumn specification\u001b[22m \u001b[36m────────────────────────────────────────────────────────\u001b[39m\n",
                        "\u001b[1mDelimiter:\u001b[22m \",\"\n",
                        "\u001b[31mchr\u001b[39m (3): Player, Team, Position\n",
                        "\u001b[32mdbl\u001b[39m (5): Time, Shots, Passes, Tackles, Saves\n",
                        "\n",
                        "\u001b[36mℹ\u001b[39m Use `spec()` to retrieve the full column specification for this data.\n",
                        "\u001b[36mℹ\u001b[39m Specify the column types or set `show_col_types = FALSE` to quiet this message.\n"
                    ]
                }
            ],
            "source": [
                "fifa_link <- \"https://raw.githubusercontent.com/reisanar/datasets/master/worldcup.csv\"\n",
                "fifa10 <- read_csv(fifa_link)\n"
            ]
        },
        {
            "cell_type": "markdown",
            "metadata": {},
            "source": [
                "3. Learn about the nature of the data\n",
                "\n"
            ]
        },
        {
            "cell_type": "code",
            "execution_count": 3,
            "metadata": {
                "vscode": {
                    "languageId": "r"
                }
            },
            "outputs": [
                {
                    "name": "stdout",
                    "output_type": "stream",
                    "text": [
                        "Rows: 595\n",
                        "Columns: 8\n",
                        "$ Player   \u001b[3m\u001b[90m<chr>\u001b[39m\u001b[23m \"Abdoun\", \"Abe\", \"Abidal\", \"Abou Diaby\", \"Aboubakar\", \"Abreu\"…\n",
                        "$ Team     \u001b[3m\u001b[90m<chr>\u001b[39m\u001b[23m \"Algeria\", \"Japan\", \"France\", \"France\", \"Cameroon\", \"Uruguay\"…\n",
                        "$ Position \u001b[3m\u001b[90m<chr>\u001b[39m\u001b[23m \"Midfielder\", \"Midfielder\", \"Defender\", \"Midfielder\", \"Forwar…\n",
                        "$ Time     \u001b[3m\u001b[90m<dbl>\u001b[39m\u001b[23m 16, 351, 180, 270, 46, 72, 138, 33, 21, 103, 270, 55, 106, 27…\n",
                        "$ Shots    \u001b[3m\u001b[90m<dbl>\u001b[39m\u001b[23m 0, 0, 0, 1, 2, 0, 0, 0, 5, 0, 2, 0, 2, 1, 1, 1, 5, 9, 0, 1, 0…\n",
                        "$ Passes   \u001b[3m\u001b[90m<dbl>\u001b[39m\u001b[23m 6, 101, 91, 111, 16, 15, 51, 9, 22, 38, 120, 31, 57, 123, 172…\n",
                        "$ Tackles  \u001b[3m\u001b[90m<dbl>\u001b[39m\u001b[23m 0, 14, 6, 5, 0, 0, 2, 0, 0, 1, 10, 2, 2, 11, 13, 7, 3, 18, 0,…\n",
                        "$ Saves    \u001b[3m\u001b[90m<dbl>\u001b[39m\u001b[23m 0, 0, 0, 0, 0, 0, 0, 0, 0, 0, 0, 0, 0, 0, 0, 0, 0, 0, 0, 0, 0…\n"
                    ]
                }
            ],
            "source": [
                "glimpse(fifa10)\n",
                "\n"
            ]
        },
        {
            "cell_type": "code",
            "execution_count": 10,
            "metadata": {
                "vscode": {
                    "languageId": "r"
                }
            },
            "outputs": [
                {
                    "data": {
                        "text/html": [
                            "<table class=\"dataframe\">\n",
                            "<caption>A spec_tbl_df: 3 × 8</caption>\n",
                            "<thead>\n",
                            "\t<tr><th scope=col>Player</th><th scope=col>Team</th><th scope=col>Position</th><th scope=col>Time</th><th scope=col>Shots</th><th scope=col>Passes</th><th scope=col>Tackles</th><th scope=col>Saves</th></tr>\n",
                            "\t<tr><th scope=col>&lt;chr&gt;</th><th scope=col>&lt;chr&gt;</th><th scope=col>&lt;chr&gt;</th><th scope=col>&lt;dbl&gt;</th><th scope=col>&lt;dbl&gt;</th><th scope=col>&lt;dbl&gt;</th><th scope=col>&lt;dbl&gt;</th><th scope=col>&lt;dbl&gt;</th></tr>\n",
                            "</thead>\n",
                            "<tbody>\n",
                            "\t<tr><td>Casillas       </td><td>Spain</td><td>Goalkeeper</td><td>540</td><td>0</td><td>67</td><td>0</td><td>11</td></tr>\n",
                            "\t<tr><td>TorresF        </td><td>Spain</td><td>Forward   </td><td>278</td><td>9</td><td>50</td><td>0</td><td> 0</td></tr>\n",
                            "\t<tr><td>Pedro Rodriguez</td><td>Spain</td><td>Midfielder</td><td>116</td><td>5</td><td>80</td><td>0</td><td> 0</td></tr>\n",
                            "</tbody>\n",
                            "</table>\n"
                        ],
                        "text/latex": [
                            "A spec\\_tbl\\_df: 3 × 8\n",
                            "\\begin{tabular}{llllllll}\n",
                            " Player & Team & Position & Time & Shots & Passes & Tackles & Saves\\\\\n",
                            " <chr> & <chr> & <chr> & <dbl> & <dbl> & <dbl> & <dbl> & <dbl>\\\\\n",
                            "\\hline\n",
                            "\t Casillas        & Spain & Goalkeeper & 540 & 0 & 67 & 0 & 11\\\\\n",
                            "\t TorresF         & Spain & Forward    & 278 & 9 & 50 & 0 &  0\\\\\n",
                            "\t Pedro Rodriguez & Spain & Midfielder & 116 & 5 & 80 & 0 &  0\\\\\n",
                            "\\end{tabular}\n"
                        ],
                        "text/markdown": [
                            "\n",
                            "A spec_tbl_df: 3 × 8\n",
                            "\n",
                            "| Player &lt;chr&gt; | Team &lt;chr&gt; | Position &lt;chr&gt; | Time &lt;dbl&gt; | Shots &lt;dbl&gt; | Passes &lt;dbl&gt; | Tackles &lt;dbl&gt; | Saves &lt;dbl&gt; |\n",
                            "|---|---|---|---|---|---|---|---|\n",
                            "| Casillas        | Spain | Goalkeeper | 540 | 0 | 67 | 0 | 11 |\n",
                            "| TorresF         | Spain | Forward    | 278 | 9 | 50 | 0 |  0 |\n",
                            "| Pedro Rodriguez | Spain | Midfielder | 116 | 5 | 80 | 0 |  0 |\n",
                            "\n"
                        ],
                        "text/plain": [
                            "  Player          Team  Position   Time Shots Passes Tackles Saves\n",
                            "1 Casillas        Spain Goalkeeper 540  0     67     0       11   \n",
                            "2 TorresF         Spain Forward    278  9     50     0        0   \n",
                            "3 Pedro Rodriguez Spain Midfielder 116  5     80     0        0   "
                        ]
                    },
                    "metadata": {},
                    "output_type": "display_data"
                }
            ],
            "source": [
                "fifa10 |>\n",
                "  filter(Team == \"Spain\")  |> \n",
                "  sample_n(3)"
            ]
        },
        {
            "cell_type": "markdown",
            "metadata": {},
            "source": [
                "**Challenge**\n",
                "\n",
                "- Use the `filter()` function to find the names of at least 3 players from Spain's national team during the 2010 world cup.\n",
                "\n",
                "## Boxplot \n",
                "\n",
                "4. We can create a boxplot that shows the relationship between the number of `Passes` by a player (vertical axis) based on his `Position` in the field (horizontal axis).\n"
            ]
        },
        {
            "cell_type": "code",
            "execution_count": null,
            "metadata": {
                "vscode": {
                    "languageId": "r"
                }
            },
            "outputs": [],
            "source": [
                "\n",
                "\n"
            ]
        },
        {
            "cell_type": "markdown",
            "metadata": {},
            "source": [
                "**Challenge**\n",
                "\n",
                "- What do you notice from the above boxplots ?\n",
                "\n",
                "- Can you create a boxplot that shows the relationship between the number of `Shots` by a player (vertical axis) based on his `Position` in the field (horizontal axis).\n",
                "\n",
                "- What do you notice?\n",
                "\n",
                "\n",
                "\n",
                "## Scatterplot\n",
                "\n",
                "5. To understand the relationship between the number of passes and the number of tackles, let us use a _scatter plot_ with `Tackles` in the horizontal axis, and `Passes` in the vertical axis. Color the points by `Position`\n"
            ]
        },
        {
            "cell_type": "code",
            "execution_count": null,
            "metadata": {
                "vscode": {
                    "languageId": "r"
                }
            },
            "outputs": [],
            "source": [
                "\n",
                "\n"
            ]
        },
        {
            "cell_type": "markdown",
            "metadata": {},
            "source": [
                "**Challenge**\n",
                "\n",
                "- Do you notice anything in particular about those players in `Goalkeeper` and `Forward` positions?\n",
                "\n",
                "\n",
                "\n",
                "6. We can also check the relationship between the number of minutes played in the tournament (in the horizontal axis) and the number of passes completed by the player (in the vertical axis). Color the points by `Position`\n"
            ]
        },
        {
            "cell_type": "code",
            "execution_count": null,
            "metadata": {
                "vscode": {
                    "languageId": "r"
                }
            },
            "outputs": [],
            "source": [
                "\n",
                "\n"
            ]
        },
        {
            "cell_type": "markdown",
            "metadata": {},
            "source": [
                "**Challenge**\n",
                "\n",
                "- Do you notice any particular _structure/pattern_ in the graph above? \n",
                "\n",
                "\n",
                "7. We can even add the variable `Shots` to the previous plot and plot the points based on the number of shots per player. Use the option `size=Shots` in the aesthetics. \n"
            ]
        },
        {
            "cell_type": "code",
            "execution_count": null,
            "metadata": {
                "vscode": {
                    "languageId": "r"
                }
            },
            "outputs": [],
            "source": [
                "\n",
                "\n"
            ]
        },
        {
            "cell_type": "markdown",
            "metadata": {},
            "source": [
                "**Challenge**\n",
                "\n",
                "- Can you find the name of any _outstanding_ players based on the graph above? \n"
            ]
        }
    ],
    "metadata": {
        "anaconda-cloud": "",
        "kernelspec": {
            "display_name": "R",
            "langauge": "R",
            "language": "R",
            "name": "ir"
        },
        "language_info": {
            "codemirror_mode": "r",
            "file_extension": ".r",
            "mimetype": "text/x-r-source",
            "name": "R",
            "pygments_lexer": "r",
            "version": "4.4.2"
        }
    },
    "nbformat": 4,
    "nbformat_minor": 1
}
