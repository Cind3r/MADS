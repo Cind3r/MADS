{
    "cells": [
        {
            "cell_type": "markdown",
            "metadata": {},
            "source": [
                "Research typically involves measuring one or more variables for a sample and computing descriptive statistics for that sample. In general, however, the researcher's goal is _not to draw conclusions about that sample but to draw conclusions about the population_ that the sample was selected from. Thus researchers must use sample statistics to draw conclusions about the corresponding values in the population.\n",
                "\n",
                "Imagine, for example, that a researcher measures the number of depressive symptoms exhibited by each of 50 clinically depressed adults and computes the mean number of symptoms. The researcher probably wants to use this sample statistic (the mean number of symptoms for the sample) to draw conclusions about the corresponding population parameter (the mean number of symptoms for clinically depressed adults).\n",
                "\n",
                "\n",
                "There is a certain amount of random variability in any statistic from sample to sample. The mean number of depressive symptoms might be 8.73 in one sample of clinically depressed adults, 6.45 in a second sample, and 9.44 in a third—even though these samples are selected randomly from the same population. Similarly, the correlation between two variables might be +.24 in one sample, −.04 in a second sample, and +.15 in a third—again, even though these samples are selected randomly from the same population. This random variability in a statistic from sample to sample is called **sampling error**. \n",
                "\n",
                "\n",
                "Any statistical relationship in a sample can be interpreted in two ways:\n",
                "\n",
                "- There is a relationship in the population, and the relationship in the sample reflects this.\n",
                "\n",
                "- There is no relationship in the population, and the relationship in the sample reflects only sampling error.\n",
                "\n",
                "\n",
                "The purpose of null hypothesis testing is simply to help researchers decide between these two interpretations.\n",
                "\n",
                "\n",
                "## The Logic of Null Hypothesis Testing\n",
                "\n",
                "Null hypothesis testing is a formal approach to deciding between two interpretations of a statistical relationship in a sample. One interpretation is called the **null hypothesis** (often symbolized $H_0$ and read as _H-naught_). This is the idea that there is no relationship in the population and that the relationship in the sample reflects only sampling error. Informally, the null hypothesis is that the sample relationship \"occurred by chance\". The other interpretation is called the **alternative hypothesis** (often symbolized as $H_1$ or $H_a$). This is the idea that there is a relationship in the population and that the relationship in the sample reflects this relationship in the population.\n",
                "\n",
                "General steps:\n",
                "\n",
                "- Assume for the moment that the null hypothesis is true. There is no relationship between the variables in the population.\n",
                "\n",
                "- Determine how likely the sample relationship would be if the null hypothesis were true.\n",
                "\n",
                "- If the sample relationship would be *extremely unlikely*, then reject the null hypothesis in favor of the alternative hypothesis. If it would not be extremely unlikely, then retain the null hypothesis.\n",
                "\n",
                "\n",
                "A crucial step in null hypothesis testing is finding the **likelihood** of the sample result if the null hypothesis were true. This probability is called the **p value**.\n",
                "\n",
                "\n",
                "- A low p value means that the sample result would be unlikely if the null hypothesis were true and leads to the rejection of the null hypothesis. \n",
                "\n",
                "- A high p value means that the sample result would be likely if the null hypothesis were true and leads to the retention of the null hypothesis. \n",
                "\n",
                "But how low must the p value be before the sample result is considered unlikely enough to reject the null hypothesis?\n",
                "\n",
                "In null hypothesis testing, this criterion is called $\\alpha$ (alpha) and is almost always set to .05. If there is less than a 5% chance of a result as extreme as the sample result if the null hypothesis were true, then the null hypothesis is rejected. \n",
                "\n",
                "When this happens, the result is said to be **statistically significant**. If there is greater than a 5% chance of a result as extreme as the sample result when the null hypothesis is true, then the null hypothesis is retained. \n",
                "\n",
                "This does not necessarily mean that the researcher accepts the null hypothesis as true - only that there is not currently _enough evidence_ to conclude that it is true. Researchers often use the expression _\"fail to reject the null hypothesis\"_ rather than _\"retain the null hypothesis.\"_ \n",
                "\n",
                "\n",
                "\n",
                "## The Misunderstood p Value\n",
                "\n",
                "A misguided researcher might say that because the p value is .02, there is only a 2% chance that the result is due to chance and a 98% chance that it reflects a real relationship in the population. But this is _incorrect_. \n",
                "\n",
                "The p value is really the probability of a result _at least as extreme_ as the sample result _if_ the _null hypothesis were true_. So a p value of .02 means that if the null hypothesis were true, a sample result this extreme would occur only 2% of the time.\n",
                "\n",
                "You can avoid this misunderstanding by remembering that the p value is _not the probability that any particular hypothesis is true or false_. Instead, it is the probability of obtaining the sample result if the null hypothesis were true.\n",
                "\n",
                "\n",
                "Recall that null hypothesis testing involves answering the question, _\"If the null hypothesis were true, what is the probability of a sample result as extreme as this one?\"_ \n",
                "\n",
                "\n",
                "\n",
                "## Some Examples\n",
                "\n",
                "\n",
                "### Example 1 (one sample t-test)\n",
                "\n",
                "An outbreak of Salmonella-related illness was attributed to ice cream produced at a certain factory. Scientists measured the level of Salmonella in 9 randomly sampled\n",
                "batches of ice cream. The levels (in MPN/g - Most Probable Number per Gram) were:\n"
            ]
        },
        {
            "cell_type": "code",
            "execution_count": null,
            "metadata": {},
            "outputs": [],
            "source": [
                "# MPN/g\n",
                "x <- c(0.593, 0.142, 0.329, 0.691, 0.231, 0.793, \n",
                "       0.519, 0.392, 0.418)\n"
            ]
        },
        {
            "cell_type": "markdown",
            "metadata": {},
            "source": [
                "Is there evidence that the mean level of Salmonella in the ice cream is greater than 0.3 MPN/g?\n",
                "\n",
                "\n",
                "Let $\\mu$ be the mean level of Salmonella in all batches of ice cream. Here the hypothesis of interest can be expressed as:\n",
                "\n",
                "$$\n",
                "H_0 : \\mu = 0.3 \\\\\n",
                "H_a : \\mu > 0.3\n",
                "$$\n",
                "\n",
                "Hence, we will need to include the options `alternative=\"greater\", mu=0.3` to use the function `t.test` in R. \n"
            ]
        },
        {
            "cell_type": "code",
            "execution_count": null,
            "metadata": {},
            "outputs": [],
            "source": [
                "t.test(x, alternative=\"greater\", mu=0.3)\n",
                "\n"
            ]
        },
        {
            "cell_type": "markdown",
            "metadata": {},
            "source": [
                "From the output we see that the p-value = 0.029. Hence, there is moderately strong evidence that the mean Salmonella level in the ice cream is above 0.3 MPN/g.\n",
                "\n",
                "\n",
                "### Example 2 (Two-sample t-tests)\n",
                "\n",
                "6 subjects were given a drug (treatment group) and an additional 6 subjects a placebo (control group). Their reaction time to a stimulus was measured (in ms). We\n",
                "want to perform a two-sample t-test for comparing the means of the treatment and control groups.\n",
                "\n",
                "Let $\\mu _1$ be the mean of the population taking medicine and $\\mu _2$ the mean of the untreated\n",
                "population. Here the hypothesis of interest can be expressed as:\n",
                "\n",
                "$$\n",
                "H_0 : \\mu_1 - \\mu_2 = 0  \\\\\n",
                "H_a : \\mu_1 - \\mu_2 < 0\n",
                "$$\n",
                "\n",
                "\n",
                "Here we will need to include the data for the treatment group in `x` and the data for the control group in `y`. We will also need to include the options `alternative=\"less\", mu=0`.\n",
                "\n",
                "\n",
                "Finally, we need to decide whether or not the standard deviations are the same in both groups.\n",
                "\n",
                "Below is the relevant R-code when _assuming equal standard deviation_:\n"
            ]
        },
        {
            "cell_type": "code",
            "execution_count": null,
            "metadata": {},
            "outputs": [],
            "source": [
                "# 6 measurements both in control and treatment\n",
                "Control <-  c(91, 87, 99, 77, 88, 91)\n",
                "Treat <-   c(101, 110, 103, 93, 99, 104)\n",
                "# perform two sample t-test\n",
                "t.test(Control, Treat, alternative=\"less\", var.equal=TRUE)\n"
            ]
        },
        {
            "cell_type": "markdown",
            "metadata": {},
            "source": [
                "Below is the relevant R-code when _not assuming equal standard deviation_:\n",
                "\n"
            ]
        },
        {
            "cell_type": "code",
            "execution_count": null,
            "metadata": {},
            "outputs": [],
            "source": [
                "t.test(Control, Treat, alternative = \"less\")\n",
                "\n"
            ]
        },
        {
            "cell_type": "markdown",
            "metadata": {},
            "source": [
                "Here the pooled t-test and the Welsh t-test give roughly the same results (p-value = 0.00313 and 0.00339, respectively).\n",
                "\n",
                "\n",
                "### Example 3 (Paired t-tests)\n",
                "\n",
                "There are many experimental settings where each subject in the study is in both the treatment and control group. For example, in a matched pairs design, subjects are matched in pairs and different treatments are given to each subject in the pair. \n",
                "The outcomes are thereafter compared pair-wise. Alternatively, one can measure each subject twice, before and after a treatment. In either of these situations we cannot use two-sample t-tests since the independence assumption is not valid. Instead we need to\n",
                "use a _paired_ t-test. This can be done using the option `paired = TRUE`.\n",
                "\n",
                "\n",
                "\n",
                "A study was performed to test whether cars get better mileage on premium gas than on regular gas. Each of 10 cars was first filled with either regular or premium gas,\n",
                "decided by a coin toss, and the mileage for that tank was recorded. The mileage was recorded again for the same cars using the other kind of gasoline. We use a paired t-test\n",
                "to determine whether cars get significantly better mileage with premium gas.\n"
            ]
        },
        {
            "cell_type": "code",
            "execution_count": null,
            "metadata": {},
            "outputs": [],
            "source": [
                "# Regular gas\n",
                "reg <-  c(16, 20, 21, 22, 23, 22, 27, 25, 27, 28)\n",
                "# Premium gas\n",
                "prem <- c(19, 22, 24, 24, 25, 25, 26, 26, 28, 32)\n"
            ]
        },
        {
            "cell_type": "markdown",
            "metadata": {},
            "source": [
                "Perform paired t-test\n",
                "\n"
            ]
        },
        {
            "cell_type": "code",
            "execution_count": null,
            "metadata": {},
            "outputs": [],
            "source": [
                "t.test(prem, reg, alternative = \"greater\", paired = TRUE)\n",
                "\n"
            ]
        },
        {
            "cell_type": "markdown",
            "metadata": {},
            "source": [
                "The results show that the t-statistic is equal to 4.47 and the p-value is 0.00075. Since the p-value is very low, we reject the null hypothesis. There is strong evidence of a\n",
                "_mean increase_ in gas mileage between regular and premium gasoline.\n",
                "\n",
                "\n",
                "\n",
                "\n",
                "\n",
                "#### References\n",
                "\n",
                "1. <https://opentextbc.ca/researchmethods/chapter/understanding-null-hypothesis-testing/>\n",
                "\n",
                "2. De Veaux, Velleman and Bock, _\"Stats: Data and Models\"_, 2nd Edition. \n",
                "\n",
                "3. M.J. Crawley, _\"Statistics: An Introduction Using R\"_\n"
            ]
        }
    ],
    "metadata": {
        "anaconda-cloud": "",
        "kernelspec": {
            "display_name": "R",
            "langauge": "R",
            "name": "ir"
        },
        "language_info": {
            "codemirror_mode": "r",
            "file_extension": ".r",
            "mimetype": "text/x-r-source",
            "name": "R",
            "pygments_lexer": "r",
            "version": "3.4.1"
        }
    },
    "nbformat": 4,
    "nbformat_minor": 1
}
