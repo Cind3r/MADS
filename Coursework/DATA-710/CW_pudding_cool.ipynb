{
    "cells": [
        {
            "cell_type": "markdown",
            "metadata": {},
            "source": [
                "We will load the `tidyverse` package and explore data using tools from `dplyr` and `ggplot` (packages part of the `tidyverse`)\n",
                "\n"
            ]
        },
        {
            "cell_type": "code",
            "execution_count": 1,
            "metadata": {
                "vscode": {
                    "languageId": "r"
                }
            },
            "outputs": [
                {
                    "name": "stderr",
                    "output_type": "stream",
                    "text": [
                        "── \u001b[1mAttaching core tidyverse packages\u001b[22m ──────────────────────── tidyverse 2.0.0 ──\n",
                        "\u001b[32m✔\u001b[39m \u001b[34mdplyr    \u001b[39m 1.1.4     \u001b[32m✔\u001b[39m \u001b[34mreadr    \u001b[39m 2.1.5\n",
                        "\u001b[32m✔\u001b[39m \u001b[34mforcats  \u001b[39m 1.0.0     \u001b[32m✔\u001b[39m \u001b[34mstringr  \u001b[39m 1.5.1\n",
                        "\u001b[32m✔\u001b[39m \u001b[34mggplot2  \u001b[39m 3.5.1     \u001b[32m✔\u001b[39m \u001b[34mtibble   \u001b[39m 3.2.1\n",
                        "\u001b[32m✔\u001b[39m \u001b[34mlubridate\u001b[39m 1.9.4     \u001b[32m✔\u001b[39m \u001b[34mtidyr    \u001b[39m 1.3.1\n",
                        "\u001b[32m✔\u001b[39m \u001b[34mpurrr    \u001b[39m 1.0.2     \n",
                        "── \u001b[1mConflicts\u001b[22m ────────────────────────────────────────── tidyverse_conflicts() ──\n",
                        "\u001b[31m✖\u001b[39m \u001b[34mdplyr\u001b[39m::\u001b[32mfilter()\u001b[39m masks \u001b[34mstats\u001b[39m::filter()\n",
                        "\u001b[31m✖\u001b[39m \u001b[34mdplyr\u001b[39m::\u001b[32mlag()\u001b[39m    masks \u001b[34mstats\u001b[39m::lag()\n",
                        "\u001b[36mℹ\u001b[39m Use the conflicted package (\u001b[3m\u001b[34m<http://conflicted.r-lib.org/>\u001b[39m\u001b[23m) to force all conflicts to become errors\n"
                    ]
                }
            ],
            "source": [
                "library(tidyverse)\n",
                "\n"
            ]
        },
        {
            "cell_type": "markdown",
            "metadata": {},
            "source": [
                "We will use data collected by the FiveThirtyEight team for the story [The Ultimate Halloween Candy Power Ranking](https://fivethirtyeight.com/features/the-ultimate-halloween-candy-power-ranking/)\n",
                "\n",
                "The dataset can be found here: <https://github.com/fivethirtyeight/data/tree/master/candy-power-ranking>\n"
            ]
        },
        {
            "cell_type": "code",
            "execution_count": 5,
            "metadata": {
                "vscode": {
                    "languageId": "r"
                }
            },
            "outputs": [
                {
                    "name": "stderr",
                    "output_type": "stream",
                    "text": [
                        "\u001b[1mRows: \u001b[22m\u001b[34m85\u001b[39m \u001b[1mColumns: \u001b[22m\u001b[34m13\u001b[39m\n",
                        "\u001b[36m──\u001b[39m \u001b[1mColumn specification\u001b[22m \u001b[36m────────────────────────────────────────────────────────\u001b[39m\n",
                        "\u001b[1mDelimiter:\u001b[22m \",\"\n",
                        "\u001b[31mchr\u001b[39m  (1): competitorname\n",
                        "\u001b[32mdbl\u001b[39m (12): chocolate, fruity, caramel, peanutyalmondy, nougat, crispedricewaf...\n",
                        "\n",
                        "\u001b[36mℹ\u001b[39m Use `spec()` to retrieve the full column specification for this data.\n",
                        "\u001b[36mℹ\u001b[39m Specify the column types or set `show_col_types = FALSE` to quiet this message.\n"
                    ]
                }
            ],
            "source": [
                "# read the data\n",
                "candy <- read_csv(\"https://raw.githubusercontent.com/fivethirtyeight/data/master/candy-power-ranking/candy-data.csv\")\n",
                "\n",
                "\n"
            ]
        },
        {
            "cell_type": "markdown",
            "metadata": {},
            "source": [
                "Check first entries:\n",
                "\n"
            ]
        },
        {
            "cell_type": "code",
            "execution_count": 6,
            "metadata": {
                "vscode": {
                    "languageId": "r"
                }
            },
            "outputs": [
                {
                    "data": {
                        "text/html": [
                            "<table class=\"dataframe\">\n",
                            "<caption>A tibble: 6 × 13</caption>\n",
                            "<thead>\n",
                            "\t<tr><th scope=col>competitorname</th><th scope=col>chocolate</th><th scope=col>fruity</th><th scope=col>caramel</th><th scope=col>peanutyalmondy</th><th scope=col>nougat</th><th scope=col>crispedricewafer</th><th scope=col>hard</th><th scope=col>bar</th><th scope=col>pluribus</th><th scope=col>sugarpercent</th><th scope=col>pricepercent</th><th scope=col>winpercent</th></tr>\n",
                            "\t<tr><th scope=col>&lt;chr&gt;</th><th scope=col>&lt;dbl&gt;</th><th scope=col>&lt;dbl&gt;</th><th scope=col>&lt;dbl&gt;</th><th scope=col>&lt;dbl&gt;</th><th scope=col>&lt;dbl&gt;</th><th scope=col>&lt;dbl&gt;</th><th scope=col>&lt;dbl&gt;</th><th scope=col>&lt;dbl&gt;</th><th scope=col>&lt;dbl&gt;</th><th scope=col>&lt;dbl&gt;</th><th scope=col>&lt;dbl&gt;</th><th scope=col>&lt;dbl&gt;</th></tr>\n",
                            "</thead>\n",
                            "<tbody>\n",
                            "\t<tr><td>100 Grand   </td><td>1</td><td>0</td><td>1</td><td>0</td><td>0</td><td>1</td><td>0</td><td>1</td><td>0</td><td>0.732</td><td>0.860</td><td>66.97173</td></tr>\n",
                            "\t<tr><td>3 Musketeers</td><td>1</td><td>0</td><td>0</td><td>0</td><td>1</td><td>0</td><td>0</td><td>1</td><td>0</td><td>0.604</td><td>0.511</td><td>67.60294</td></tr>\n",
                            "\t<tr><td>One dime    </td><td>0</td><td>0</td><td>0</td><td>0</td><td>0</td><td>0</td><td>0</td><td>0</td><td>0</td><td>0.011</td><td>0.116</td><td>32.26109</td></tr>\n",
                            "\t<tr><td>One quarter </td><td>0</td><td>0</td><td>0</td><td>0</td><td>0</td><td>0</td><td>0</td><td>0</td><td>0</td><td>0.011</td><td>0.511</td><td>46.11650</td></tr>\n",
                            "\t<tr><td>Air Heads   </td><td>0</td><td>1</td><td>0</td><td>0</td><td>0</td><td>0</td><td>0</td><td>0</td><td>0</td><td>0.906</td><td>0.511</td><td>52.34146</td></tr>\n",
                            "\t<tr><td>Almond Joy  </td><td>1</td><td>0</td><td>0</td><td>1</td><td>0</td><td>0</td><td>0</td><td>1</td><td>0</td><td>0.465</td><td>0.767</td><td>50.34755</td></tr>\n",
                            "</tbody>\n",
                            "</table>\n"
                        ],
                        "text/latex": [
                            "A tibble: 6 × 13\n",
                            "\\begin{tabular}{lllllllllllll}\n",
                            " competitorname & chocolate & fruity & caramel & peanutyalmondy & nougat & crispedricewafer & hard & bar & pluribus & sugarpercent & pricepercent & winpercent\\\\\n",
                            " <chr> & <dbl> & <dbl> & <dbl> & <dbl> & <dbl> & <dbl> & <dbl> & <dbl> & <dbl> & <dbl> & <dbl> & <dbl>\\\\\n",
                            "\\hline\n",
                            "\t 100 Grand    & 1 & 0 & 1 & 0 & 0 & 1 & 0 & 1 & 0 & 0.732 & 0.860 & 66.97173\\\\\n",
                            "\t 3 Musketeers & 1 & 0 & 0 & 0 & 1 & 0 & 0 & 1 & 0 & 0.604 & 0.511 & 67.60294\\\\\n",
                            "\t One dime     & 0 & 0 & 0 & 0 & 0 & 0 & 0 & 0 & 0 & 0.011 & 0.116 & 32.26109\\\\\n",
                            "\t One quarter  & 0 & 0 & 0 & 0 & 0 & 0 & 0 & 0 & 0 & 0.011 & 0.511 & 46.11650\\\\\n",
                            "\t Air Heads    & 0 & 1 & 0 & 0 & 0 & 0 & 0 & 0 & 0 & 0.906 & 0.511 & 52.34146\\\\\n",
                            "\t Almond Joy   & 1 & 0 & 0 & 1 & 0 & 0 & 0 & 1 & 0 & 0.465 & 0.767 & 50.34755\\\\\n",
                            "\\end{tabular}\n"
                        ],
                        "text/markdown": [
                            "\n",
                            "A tibble: 6 × 13\n",
                            "\n",
                            "| competitorname &lt;chr&gt; | chocolate &lt;dbl&gt; | fruity &lt;dbl&gt; | caramel &lt;dbl&gt; | peanutyalmondy &lt;dbl&gt; | nougat &lt;dbl&gt; | crispedricewafer &lt;dbl&gt; | hard &lt;dbl&gt; | bar &lt;dbl&gt; | pluribus &lt;dbl&gt; | sugarpercent &lt;dbl&gt; | pricepercent &lt;dbl&gt; | winpercent &lt;dbl&gt; |\n",
                            "|---|---|---|---|---|---|---|---|---|---|---|---|---|\n",
                            "| 100 Grand    | 1 | 0 | 1 | 0 | 0 | 1 | 0 | 1 | 0 | 0.732 | 0.860 | 66.97173 |\n",
                            "| 3 Musketeers | 1 | 0 | 0 | 0 | 1 | 0 | 0 | 1 | 0 | 0.604 | 0.511 | 67.60294 |\n",
                            "| One dime     | 0 | 0 | 0 | 0 | 0 | 0 | 0 | 0 | 0 | 0.011 | 0.116 | 32.26109 |\n",
                            "| One quarter  | 0 | 0 | 0 | 0 | 0 | 0 | 0 | 0 | 0 | 0.011 | 0.511 | 46.11650 |\n",
                            "| Air Heads    | 0 | 1 | 0 | 0 | 0 | 0 | 0 | 0 | 0 | 0.906 | 0.511 | 52.34146 |\n",
                            "| Almond Joy   | 1 | 0 | 0 | 1 | 0 | 0 | 0 | 1 | 0 | 0.465 | 0.767 | 50.34755 |\n",
                            "\n"
                        ],
                        "text/plain": [
                            "  competitorname chocolate fruity caramel peanutyalmondy nougat\n",
                            "1 100 Grand      1         0      1       0              0     \n",
                            "2 3 Musketeers   1         0      0       0              1     \n",
                            "3 One dime       0         0      0       0              0     \n",
                            "4 One quarter    0         0      0       0              0     \n",
                            "5 Air Heads      0         1      0       0              0     \n",
                            "6 Almond Joy     1         0      0       1              0     \n",
                            "  crispedricewafer hard bar pluribus sugarpercent pricepercent winpercent\n",
                            "1 1                0    1   0        0.732        0.860        66.97173  \n",
                            "2 0                0    1   0        0.604        0.511        67.60294  \n",
                            "3 0                0    0   0        0.011        0.116        32.26109  \n",
                            "4 0                0    0   0        0.011        0.511        46.11650  \n",
                            "5 0                0    0   0        0.906        0.511        52.34146  \n",
                            "6 0                0    1   0        0.465        0.767        50.34755  "
                        ]
                    },
                    "metadata": {},
                    "output_type": "display_data"
                }
            ],
            "source": [
                "candy |> head()\n",
                "\n"
            ]
        },
        {
            "cell_type": "markdown",
            "metadata": {},
            "source": [
                "For binary variables, `1` means yes, `0` means no.\n",
                "\n",
                "The data contains the following fields:\n",
                "\n",
                "Header | Description\n",
                "-------|--------------------------------------------------\n",
                "`chocolate` | Does it contain chocolate?\n",
                "`fruity` | Is it fruit flavored?\n",
                "`caramel` | Is there caramel in the candy?\n",
                "`peanutalmondy` | Does it contain peanuts, peanut butter or almonds?\n",
                "`nougat` | Does it contain nougat?\n",
                "`crispedricewafer` | Does it contain crisped rice, wafers, or a cookie component?\n",
                "`hard` | Is it a hard candy?\n",
                "`bar` | Is it a candy bar?\n",
                "`pluribus` | Is it one of many candies in a bag or box?\n",
                "`sugarpercent` | The percentile of sugar it falls under within the data set.\n",
                "`pricepercent` | The unit price percentile compared to the rest of the set.\n",
                "`winpercent` | The overall win percentage according to 269,000 matchups.\n",
                "\n",
                "\n",
                "\n",
                "## Exploring `dplyr`\n",
                "\n",
                "Find those that have caramel:\n"
            ]
        },
        {
            "cell_type": "code",
            "execution_count": 7,
            "metadata": {
                "vscode": {
                    "languageId": "r"
                }
            },
            "outputs": [
                {
                    "data": {
                        "text/html": [
                            "<table class=\"dataframe\">\n",
                            "<caption>A spec_tbl_df: 14 × 13</caption>\n",
                            "<thead>\n",
                            "\t<tr><th scope=col>competitorname</th><th scope=col>chocolate</th><th scope=col>fruity</th><th scope=col>caramel</th><th scope=col>peanutyalmondy</th><th scope=col>nougat</th><th scope=col>crispedricewafer</th><th scope=col>hard</th><th scope=col>bar</th><th scope=col>pluribus</th><th scope=col>sugarpercent</th><th scope=col>pricepercent</th><th scope=col>winpercent</th></tr>\n",
                            "\t<tr><th scope=col>&lt;chr&gt;</th><th scope=col>&lt;dbl&gt;</th><th scope=col>&lt;dbl&gt;</th><th scope=col>&lt;dbl&gt;</th><th scope=col>&lt;dbl&gt;</th><th scope=col>&lt;dbl&gt;</th><th scope=col>&lt;dbl&gt;</th><th scope=col>&lt;dbl&gt;</th><th scope=col>&lt;dbl&gt;</th><th scope=col>&lt;dbl&gt;</th><th scope=col>&lt;dbl&gt;</th><th scope=col>&lt;dbl&gt;</th><th scope=col>&lt;dbl&gt;</th></tr>\n",
                            "</thead>\n",
                            "<tbody>\n",
                            "\t<tr><td>100 Grand                 </td><td>1</td><td>0</td><td>1</td><td>0</td><td>0</td><td>1</td><td>0</td><td>1</td><td>0</td><td>0.732</td><td>0.860</td><td>66.97173</td></tr>\n",
                            "\t<tr><td>Baby Ruth                 </td><td>1</td><td>0</td><td>1</td><td>1</td><td>1</td><td>0</td><td>0</td><td>1</td><td>0</td><td>0.604</td><td>0.767</td><td>56.91455</td></tr>\n",
                            "\t<tr><td>Caramel Apple Pops        </td><td>0</td><td>1</td><td>1</td><td>0</td><td>0</td><td>0</td><td>0</td><td>0</td><td>0</td><td>0.604</td><td>0.325</td><td>34.51768</td></tr>\n",
                            "\t<tr><td>Milk Duds                 </td><td>1</td><td>0</td><td>1</td><td>0</td><td>0</td><td>0</td><td>0</td><td>0</td><td>1</td><td>0.302</td><td>0.511</td><td>55.06407</td></tr>\n",
                            "\t<tr><td>Milky Way                 </td><td>1</td><td>0</td><td>1</td><td>0</td><td>1</td><td>0</td><td>0</td><td>1</td><td>0</td><td>0.604</td><td>0.651</td><td>73.09956</td></tr>\n",
                            "\t<tr><td>Milky Way Midnight        </td><td>1</td><td>0</td><td>1</td><td>0</td><td>1</td><td>0</td><td>0</td><td>1</td><td>0</td><td>0.732</td><td>0.441</td><td>60.80070</td></tr>\n",
                            "\t<tr><td>Milky Way Simply Caramel  </td><td>1</td><td>0</td><td>1</td><td>0</td><td>0</td><td>0</td><td>0</td><td>1</td><td>0</td><td>0.965</td><td>0.860</td><td>64.35334</td></tr>\n",
                            "\t<tr><td>Rolo                      </td><td>1</td><td>0</td><td>1</td><td>0</td><td>0</td><td>0</td><td>0</td><td>0</td><td>1</td><td>0.860</td><td>0.860</td><td>65.71629</td></tr>\n",
                            "\t<tr><td>Snickers                  </td><td>1</td><td>0</td><td>1</td><td>1</td><td>1</td><td>0</td><td>0</td><td>1</td><td>0</td><td>0.546</td><td>0.651</td><td>76.67378</td></tr>\n",
                            "\t<tr><td>Snickers Crisper          </td><td>1</td><td>0</td><td>1</td><td>1</td><td>0</td><td>1</td><td>0</td><td>1</td><td>0</td><td>0.604</td><td>0.651</td><td>59.52925</td></tr>\n",
                            "\t<tr><td>Sugar Babies              </td><td>0</td><td>0</td><td>1</td><td>0</td><td>0</td><td>0</td><td>0</td><td>0</td><td>1</td><td>0.965</td><td>0.767</td><td>33.43755</td></tr>\n",
                            "\t<tr><td>Sugar Daddy               </td><td>0</td><td>0</td><td>1</td><td>0</td><td>0</td><td>0</td><td>0</td><td>0</td><td>0</td><td>0.418</td><td>0.325</td><td>32.23100</td></tr>\n",
                            "\t<tr><td>Twix                      </td><td>1</td><td>0</td><td>1</td><td>0</td><td>0</td><td>1</td><td>0</td><td>1</td><td>0</td><td>0.546</td><td>0.906</td><td>81.64291</td></tr>\n",
                            "\t<tr><td>Werther's Original Caramel</td><td>0</td><td>0</td><td>1</td><td>0</td><td>0</td><td>0</td><td>1</td><td>0</td><td>0</td><td>0.186</td><td>0.267</td><td>41.90431</td></tr>\n",
                            "</tbody>\n",
                            "</table>\n"
                        ],
                        "text/latex": [
                            "A spec\\_tbl\\_df: 14 × 13\n",
                            "\\begin{tabular}{lllllllllllll}\n",
                            " competitorname & chocolate & fruity & caramel & peanutyalmondy & nougat & crispedricewafer & hard & bar & pluribus & sugarpercent & pricepercent & winpercent\\\\\n",
                            " <chr> & <dbl> & <dbl> & <dbl> & <dbl> & <dbl> & <dbl> & <dbl> & <dbl> & <dbl> & <dbl> & <dbl> & <dbl>\\\\\n",
                            "\\hline\n",
                            "\t 100 Grand                  & 1 & 0 & 1 & 0 & 0 & 1 & 0 & 1 & 0 & 0.732 & 0.860 & 66.97173\\\\\n",
                            "\t Baby Ruth                  & 1 & 0 & 1 & 1 & 1 & 0 & 0 & 1 & 0 & 0.604 & 0.767 & 56.91455\\\\\n",
                            "\t Caramel Apple Pops         & 0 & 1 & 1 & 0 & 0 & 0 & 0 & 0 & 0 & 0.604 & 0.325 & 34.51768\\\\\n",
                            "\t Milk Duds                  & 1 & 0 & 1 & 0 & 0 & 0 & 0 & 0 & 1 & 0.302 & 0.511 & 55.06407\\\\\n",
                            "\t Milky Way                  & 1 & 0 & 1 & 0 & 1 & 0 & 0 & 1 & 0 & 0.604 & 0.651 & 73.09956\\\\\n",
                            "\t Milky Way Midnight         & 1 & 0 & 1 & 0 & 1 & 0 & 0 & 1 & 0 & 0.732 & 0.441 & 60.80070\\\\\n",
                            "\t Milky Way Simply Caramel   & 1 & 0 & 1 & 0 & 0 & 0 & 0 & 1 & 0 & 0.965 & 0.860 & 64.35334\\\\\n",
                            "\t Rolo                       & 1 & 0 & 1 & 0 & 0 & 0 & 0 & 0 & 1 & 0.860 & 0.860 & 65.71629\\\\\n",
                            "\t Snickers                   & 1 & 0 & 1 & 1 & 1 & 0 & 0 & 1 & 0 & 0.546 & 0.651 & 76.67378\\\\\n",
                            "\t Snickers Crisper           & 1 & 0 & 1 & 1 & 0 & 1 & 0 & 1 & 0 & 0.604 & 0.651 & 59.52925\\\\\n",
                            "\t Sugar Babies               & 0 & 0 & 1 & 0 & 0 & 0 & 0 & 0 & 1 & 0.965 & 0.767 & 33.43755\\\\\n",
                            "\t Sugar Daddy                & 0 & 0 & 1 & 0 & 0 & 0 & 0 & 0 & 0 & 0.418 & 0.325 & 32.23100\\\\\n",
                            "\t Twix                       & 1 & 0 & 1 & 0 & 0 & 1 & 0 & 1 & 0 & 0.546 & 0.906 & 81.64291\\\\\n",
                            "\t Werther's Original Caramel & 0 & 0 & 1 & 0 & 0 & 0 & 1 & 0 & 0 & 0.186 & 0.267 & 41.90431\\\\\n",
                            "\\end{tabular}\n"
                        ],
                        "text/markdown": [
                            "\n",
                            "A spec_tbl_df: 14 × 13\n",
                            "\n",
                            "| competitorname &lt;chr&gt; | chocolate &lt;dbl&gt; | fruity &lt;dbl&gt; | caramel &lt;dbl&gt; | peanutyalmondy &lt;dbl&gt; | nougat &lt;dbl&gt; | crispedricewafer &lt;dbl&gt; | hard &lt;dbl&gt; | bar &lt;dbl&gt; | pluribus &lt;dbl&gt; | sugarpercent &lt;dbl&gt; | pricepercent &lt;dbl&gt; | winpercent &lt;dbl&gt; |\n",
                            "|---|---|---|---|---|---|---|---|---|---|---|---|---|\n",
                            "| 100 Grand                  | 1 | 0 | 1 | 0 | 0 | 1 | 0 | 1 | 0 | 0.732 | 0.860 | 66.97173 |\n",
                            "| Baby Ruth                  | 1 | 0 | 1 | 1 | 1 | 0 | 0 | 1 | 0 | 0.604 | 0.767 | 56.91455 |\n",
                            "| Caramel Apple Pops         | 0 | 1 | 1 | 0 | 0 | 0 | 0 | 0 | 0 | 0.604 | 0.325 | 34.51768 |\n",
                            "| Milk Duds                  | 1 | 0 | 1 | 0 | 0 | 0 | 0 | 0 | 1 | 0.302 | 0.511 | 55.06407 |\n",
                            "| Milky Way                  | 1 | 0 | 1 | 0 | 1 | 0 | 0 | 1 | 0 | 0.604 | 0.651 | 73.09956 |\n",
                            "| Milky Way Midnight         | 1 | 0 | 1 | 0 | 1 | 0 | 0 | 1 | 0 | 0.732 | 0.441 | 60.80070 |\n",
                            "| Milky Way Simply Caramel   | 1 | 0 | 1 | 0 | 0 | 0 | 0 | 1 | 0 | 0.965 | 0.860 | 64.35334 |\n",
                            "| Rolo                       | 1 | 0 | 1 | 0 | 0 | 0 | 0 | 0 | 1 | 0.860 | 0.860 | 65.71629 |\n",
                            "| Snickers                   | 1 | 0 | 1 | 1 | 1 | 0 | 0 | 1 | 0 | 0.546 | 0.651 | 76.67378 |\n",
                            "| Snickers Crisper           | 1 | 0 | 1 | 1 | 0 | 1 | 0 | 1 | 0 | 0.604 | 0.651 | 59.52925 |\n",
                            "| Sugar Babies               | 0 | 0 | 1 | 0 | 0 | 0 | 0 | 0 | 1 | 0.965 | 0.767 | 33.43755 |\n",
                            "| Sugar Daddy                | 0 | 0 | 1 | 0 | 0 | 0 | 0 | 0 | 0 | 0.418 | 0.325 | 32.23100 |\n",
                            "| Twix                       | 1 | 0 | 1 | 0 | 0 | 1 | 0 | 1 | 0 | 0.546 | 0.906 | 81.64291 |\n",
                            "| Werther's Original Caramel | 0 | 0 | 1 | 0 | 0 | 0 | 1 | 0 | 0 | 0.186 | 0.267 | 41.90431 |\n",
                            "\n"
                        ],
                        "text/plain": [
                            "   competitorname             chocolate fruity caramel peanutyalmondy nougat\n",
                            "1  100 Grand                  1         0      1       0              0     \n",
                            "2  Baby Ruth                  1         0      1       1              1     \n",
                            "3  Caramel Apple Pops         0         1      1       0              0     \n",
                            "4  Milk Duds                  1         0      1       0              0     \n",
                            "5  Milky Way                  1         0      1       0              1     \n",
                            "6  Milky Way Midnight         1         0      1       0              1     \n",
                            "7  Milky Way Simply Caramel   1         0      1       0              0     \n",
                            "8  Rolo                       1         0      1       0              0     \n",
                            "9  Snickers                   1         0      1       1              1     \n",
                            "10 Snickers Crisper           1         0      1       1              0     \n",
                            "11 Sugar Babies               0         0      1       0              0     \n",
                            "12 Sugar Daddy                0         0      1       0              0     \n",
                            "13 Twix                       1         0      1       0              0     \n",
                            "14 Werther's Original Caramel 0         0      1       0              0     \n",
                            "   crispedricewafer hard bar pluribus sugarpercent pricepercent winpercent\n",
                            "1  1                0    1   0        0.732        0.860        66.97173  \n",
                            "2  0                0    1   0        0.604        0.767        56.91455  \n",
                            "3  0                0    0   0        0.604        0.325        34.51768  \n",
                            "4  0                0    0   1        0.302        0.511        55.06407  \n",
                            "5  0                0    1   0        0.604        0.651        73.09956  \n",
                            "6  0                0    1   0        0.732        0.441        60.80070  \n",
                            "7  0                0    1   0        0.965        0.860        64.35334  \n",
                            "8  0                0    0   1        0.860        0.860        65.71629  \n",
                            "9  0                0    1   0        0.546        0.651        76.67378  \n",
                            "10 1                0    1   0        0.604        0.651        59.52925  \n",
                            "11 0                0    0   1        0.965        0.767        33.43755  \n",
                            "12 0                0    0   0        0.418        0.325        32.23100  \n",
                            "13 1                0    1   0        0.546        0.906        81.64291  \n",
                            "14 0                1    0   0        0.186        0.267        41.90431  "
                        ]
                    },
                    "metadata": {},
                    "output_type": "display_data"
                }
            ],
            "source": [
                "# has caramel?\n",
                "candy |> filter(caramel == 1)\n"
            ]
        },
        {
            "cell_type": "markdown",
            "metadata": {},
            "source": [
                "Find those with unit price percentile compared to the rest of the set higher than 0.9\n",
                "\n"
            ]
        },
        {
            "cell_type": "code",
            "execution_count": 8,
            "metadata": {
                "vscode": {
                    "languageId": "r"
                }
            },
            "outputs": [
                {
                    "data": {
                        "text/html": [
                            "<table class=\"dataframe\">\n",
                            "<caption>A spec_tbl_df: 8 × 13</caption>\n",
                            "<thead>\n",
                            "\t<tr><th scope=col>competitorname</th><th scope=col>chocolate</th><th scope=col>fruity</th><th scope=col>caramel</th><th scope=col>peanutyalmondy</th><th scope=col>nougat</th><th scope=col>crispedricewafer</th><th scope=col>hard</th><th scope=col>bar</th><th scope=col>pluribus</th><th scope=col>sugarpercent</th><th scope=col>pricepercent</th><th scope=col>winpercent</th></tr>\n",
                            "\t<tr><th scope=col>&lt;chr&gt;</th><th scope=col>&lt;dbl&gt;</th><th scope=col>&lt;dbl&gt;</th><th scope=col>&lt;dbl&gt;</th><th scope=col>&lt;dbl&gt;</th><th scope=col>&lt;dbl&gt;</th><th scope=col>&lt;dbl&gt;</th><th scope=col>&lt;dbl&gt;</th><th scope=col>&lt;dbl&gt;</th><th scope=col>&lt;dbl&gt;</th><th scope=col>&lt;dbl&gt;</th><th scope=col>&lt;dbl&gt;</th><th scope=col>&lt;dbl&gt;</th></tr>\n",
                            "</thead>\n",
                            "<tbody>\n",
                            "\t<tr><td>Hershey's Krackel       </td><td>1</td><td>0</td><td>0</td><td>0</td><td>0</td><td>1</td><td>0</td><td>1</td><td>0</td><td>0.430</td><td>0.918</td><td>62.28448</td></tr>\n",
                            "\t<tr><td>Hershey's Milk Chocolate</td><td>1</td><td>0</td><td>0</td><td>0</td><td>0</td><td>0</td><td>0</td><td>1</td><td>0</td><td>0.430</td><td>0.918</td><td>56.49050</td></tr>\n",
                            "\t<tr><td>Hershey's Special Dark  </td><td>1</td><td>0</td><td>0</td><td>0</td><td>0</td><td>0</td><td>0</td><td>1</td><td>0</td><td>0.430</td><td>0.918</td><td>59.23612</td></tr>\n",
                            "\t<tr><td>Mr Good Bar             </td><td>1</td><td>0</td><td>0</td><td>1</td><td>0</td><td>0</td><td>0</td><td>1</td><td>0</td><td>0.313</td><td>0.918</td><td>54.52645</td></tr>\n",
                            "\t<tr><td>Nik L Nip               </td><td>0</td><td>1</td><td>0</td><td>0</td><td>0</td><td>0</td><td>0</td><td>0</td><td>1</td><td>0.197</td><td>0.976</td><td>22.44534</td></tr>\n",
                            "\t<tr><td>Ring pop                </td><td>0</td><td>1</td><td>0</td><td>0</td><td>0</td><td>0</td><td>1</td><td>0</td><td>0</td><td>0.732</td><td>0.965</td><td>35.29076</td></tr>\n",
                            "\t<tr><td>Nestle Smarties         </td><td>1</td><td>0</td><td>0</td><td>0</td><td>0</td><td>0</td><td>0</td><td>0</td><td>1</td><td>0.267</td><td>0.976</td><td>37.88719</td></tr>\n",
                            "\t<tr><td>Twix                    </td><td>1</td><td>0</td><td>1</td><td>0</td><td>0</td><td>1</td><td>0</td><td>1</td><td>0</td><td>0.546</td><td>0.906</td><td>81.64291</td></tr>\n",
                            "</tbody>\n",
                            "</table>\n"
                        ],
                        "text/latex": [
                            "A spec\\_tbl\\_df: 8 × 13\n",
                            "\\begin{tabular}{lllllllllllll}\n",
                            " competitorname & chocolate & fruity & caramel & peanutyalmondy & nougat & crispedricewafer & hard & bar & pluribus & sugarpercent & pricepercent & winpercent\\\\\n",
                            " <chr> & <dbl> & <dbl> & <dbl> & <dbl> & <dbl> & <dbl> & <dbl> & <dbl> & <dbl> & <dbl> & <dbl> & <dbl>\\\\\n",
                            "\\hline\n",
                            "\t Hershey's Krackel        & 1 & 0 & 0 & 0 & 0 & 1 & 0 & 1 & 0 & 0.430 & 0.918 & 62.28448\\\\\n",
                            "\t Hershey's Milk Chocolate & 1 & 0 & 0 & 0 & 0 & 0 & 0 & 1 & 0 & 0.430 & 0.918 & 56.49050\\\\\n",
                            "\t Hershey's Special Dark   & 1 & 0 & 0 & 0 & 0 & 0 & 0 & 1 & 0 & 0.430 & 0.918 & 59.23612\\\\\n",
                            "\t Mr Good Bar              & 1 & 0 & 0 & 1 & 0 & 0 & 0 & 1 & 0 & 0.313 & 0.918 & 54.52645\\\\\n",
                            "\t Nik L Nip                & 0 & 1 & 0 & 0 & 0 & 0 & 0 & 0 & 1 & 0.197 & 0.976 & 22.44534\\\\\n",
                            "\t Ring pop                 & 0 & 1 & 0 & 0 & 0 & 0 & 1 & 0 & 0 & 0.732 & 0.965 & 35.29076\\\\\n",
                            "\t Nestle Smarties          & 1 & 0 & 0 & 0 & 0 & 0 & 0 & 0 & 1 & 0.267 & 0.976 & 37.88719\\\\\n",
                            "\t Twix                     & 1 & 0 & 1 & 0 & 0 & 1 & 0 & 1 & 0 & 0.546 & 0.906 & 81.64291\\\\\n",
                            "\\end{tabular}\n"
                        ],
                        "text/markdown": [
                            "\n",
                            "A spec_tbl_df: 8 × 13\n",
                            "\n",
                            "| competitorname &lt;chr&gt; | chocolate &lt;dbl&gt; | fruity &lt;dbl&gt; | caramel &lt;dbl&gt; | peanutyalmondy &lt;dbl&gt; | nougat &lt;dbl&gt; | crispedricewafer &lt;dbl&gt; | hard &lt;dbl&gt; | bar &lt;dbl&gt; | pluribus &lt;dbl&gt; | sugarpercent &lt;dbl&gt; | pricepercent &lt;dbl&gt; | winpercent &lt;dbl&gt; |\n",
                            "|---|---|---|---|---|---|---|---|---|---|---|---|---|\n",
                            "| Hershey's Krackel        | 1 | 0 | 0 | 0 | 0 | 1 | 0 | 1 | 0 | 0.430 | 0.918 | 62.28448 |\n",
                            "| Hershey's Milk Chocolate | 1 | 0 | 0 | 0 | 0 | 0 | 0 | 1 | 0 | 0.430 | 0.918 | 56.49050 |\n",
                            "| Hershey's Special Dark   | 1 | 0 | 0 | 0 | 0 | 0 | 0 | 1 | 0 | 0.430 | 0.918 | 59.23612 |\n",
                            "| Mr Good Bar              | 1 | 0 | 0 | 1 | 0 | 0 | 0 | 1 | 0 | 0.313 | 0.918 | 54.52645 |\n",
                            "| Nik L Nip                | 0 | 1 | 0 | 0 | 0 | 0 | 0 | 0 | 1 | 0.197 | 0.976 | 22.44534 |\n",
                            "| Ring pop                 | 0 | 1 | 0 | 0 | 0 | 0 | 1 | 0 | 0 | 0.732 | 0.965 | 35.29076 |\n",
                            "| Nestle Smarties          | 1 | 0 | 0 | 0 | 0 | 0 | 0 | 0 | 1 | 0.267 | 0.976 | 37.88719 |\n",
                            "| Twix                     | 1 | 0 | 1 | 0 | 0 | 1 | 0 | 1 | 0 | 0.546 | 0.906 | 81.64291 |\n",
                            "\n"
                        ],
                        "text/plain": [
                            "  competitorname           chocolate fruity caramel peanutyalmondy nougat\n",
                            "1 Hershey's Krackel        1         0      0       0              0     \n",
                            "2 Hershey's Milk Chocolate 1         0      0       0              0     \n",
                            "3 Hershey's Special Dark   1         0      0       0              0     \n",
                            "4 Mr Good Bar              1         0      0       1              0     \n",
                            "5 Nik L Nip                0         1      0       0              0     \n",
                            "6 Ring pop                 0         1      0       0              0     \n",
                            "7 Nestle Smarties          1         0      0       0              0     \n",
                            "8 Twix                     1         0      1       0              0     \n",
                            "  crispedricewafer hard bar pluribus sugarpercent pricepercent winpercent\n",
                            "1 1                0    1   0        0.430        0.918        62.28448  \n",
                            "2 0                0    1   0        0.430        0.918        56.49050  \n",
                            "3 0                0    1   0        0.430        0.918        59.23612  \n",
                            "4 0                0    1   0        0.313        0.918        54.52645  \n",
                            "5 0                0    0   1        0.197        0.976        22.44534  \n",
                            "6 0                1    0   0        0.732        0.965        35.29076  \n",
                            "7 0                0    0   1        0.267        0.976        37.88719  \n",
                            "8 1                0    1   0        0.546        0.906        81.64291  "
                        ]
                    },
                    "metadata": {},
                    "output_type": "display_data"
                }
            ],
            "source": [
                "# price filter\n",
                "candy |> filter(pricepercent > 0.9)\n",
                "\n"
            ]
        },
        {
            "cell_type": "markdown",
            "metadata": {},
            "source": [
                "Find those with a name including the word \"Milk\":\n",
                "\n"
            ]
        },
        {
            "cell_type": "code",
            "execution_count": 10,
            "metadata": {
                "vscode": {
                    "languageId": "r"
                }
            },
            "outputs": [
                {
                    "data": {
                        "text/html": [
                            "<table class=\"dataframe\">\n",
                            "<caption>A spec_tbl_df: 5 × 13</caption>\n",
                            "<thead>\n",
                            "\t<tr><th scope=col>competitorname</th><th scope=col>chocolate</th><th scope=col>fruity</th><th scope=col>caramel</th><th scope=col>peanutyalmondy</th><th scope=col>nougat</th><th scope=col>crispedricewafer</th><th scope=col>hard</th><th scope=col>bar</th><th scope=col>pluribus</th><th scope=col>sugarpercent</th><th scope=col>pricepercent</th><th scope=col>winpercent</th></tr>\n",
                            "\t<tr><th scope=col>&lt;chr&gt;</th><th scope=col>&lt;dbl&gt;</th><th scope=col>&lt;dbl&gt;</th><th scope=col>&lt;dbl&gt;</th><th scope=col>&lt;dbl&gt;</th><th scope=col>&lt;dbl&gt;</th><th scope=col>&lt;dbl&gt;</th><th scope=col>&lt;dbl&gt;</th><th scope=col>&lt;dbl&gt;</th><th scope=col>&lt;dbl&gt;</th><th scope=col>&lt;dbl&gt;</th><th scope=col>&lt;dbl&gt;</th><th scope=col>&lt;dbl&gt;</th></tr>\n",
                            "</thead>\n",
                            "<tbody>\n",
                            "\t<tr><td>Hershey's Milk Chocolate</td><td>1</td><td>0</td><td>0</td><td>0</td><td>0</td><td>0</td><td>0</td><td>1</td><td>0</td><td>0.430</td><td>0.918</td><td>56.49050</td></tr>\n",
                            "\t<tr><td>Milk Duds               </td><td>1</td><td>0</td><td>1</td><td>0</td><td>0</td><td>0</td><td>0</td><td>0</td><td>1</td><td>0.302</td><td>0.511</td><td>55.06407</td></tr>\n",
                            "\t<tr><td>Milky Way               </td><td>1</td><td>0</td><td>1</td><td>0</td><td>1</td><td>0</td><td>0</td><td>1</td><td>0</td><td>0.604</td><td>0.651</td><td>73.09956</td></tr>\n",
                            "\t<tr><td>Milky Way Midnight      </td><td>1</td><td>0</td><td>1</td><td>0</td><td>1</td><td>0</td><td>0</td><td>1</td><td>0</td><td>0.732</td><td>0.441</td><td>60.80070</td></tr>\n",
                            "\t<tr><td>Milky Way Simply Caramel</td><td>1</td><td>0</td><td>1</td><td>0</td><td>0</td><td>0</td><td>0</td><td>1</td><td>0</td><td>0.965</td><td>0.860</td><td>64.35334</td></tr>\n",
                            "</tbody>\n",
                            "</table>\n"
                        ],
                        "text/latex": [
                            "A spec\\_tbl\\_df: 5 × 13\n",
                            "\\begin{tabular}{lllllllllllll}\n",
                            " competitorname & chocolate & fruity & caramel & peanutyalmondy & nougat & crispedricewafer & hard & bar & pluribus & sugarpercent & pricepercent & winpercent\\\\\n",
                            " <chr> & <dbl> & <dbl> & <dbl> & <dbl> & <dbl> & <dbl> & <dbl> & <dbl> & <dbl> & <dbl> & <dbl> & <dbl>\\\\\n",
                            "\\hline\n",
                            "\t Hershey's Milk Chocolate & 1 & 0 & 0 & 0 & 0 & 0 & 0 & 1 & 0 & 0.430 & 0.918 & 56.49050\\\\\n",
                            "\t Milk Duds                & 1 & 0 & 1 & 0 & 0 & 0 & 0 & 0 & 1 & 0.302 & 0.511 & 55.06407\\\\\n",
                            "\t Milky Way                & 1 & 0 & 1 & 0 & 1 & 0 & 0 & 1 & 0 & 0.604 & 0.651 & 73.09956\\\\\n",
                            "\t Milky Way Midnight       & 1 & 0 & 1 & 0 & 1 & 0 & 0 & 1 & 0 & 0.732 & 0.441 & 60.80070\\\\\n",
                            "\t Milky Way Simply Caramel & 1 & 0 & 1 & 0 & 0 & 0 & 0 & 1 & 0 & 0.965 & 0.860 & 64.35334\\\\\n",
                            "\\end{tabular}\n"
                        ],
                        "text/markdown": [
                            "\n",
                            "A spec_tbl_df: 5 × 13\n",
                            "\n",
                            "| competitorname &lt;chr&gt; | chocolate &lt;dbl&gt; | fruity &lt;dbl&gt; | caramel &lt;dbl&gt; | peanutyalmondy &lt;dbl&gt; | nougat &lt;dbl&gt; | crispedricewafer &lt;dbl&gt; | hard &lt;dbl&gt; | bar &lt;dbl&gt; | pluribus &lt;dbl&gt; | sugarpercent &lt;dbl&gt; | pricepercent &lt;dbl&gt; | winpercent &lt;dbl&gt; |\n",
                            "|---|---|---|---|---|---|---|---|---|---|---|---|---|\n",
                            "| Hershey's Milk Chocolate | 1 | 0 | 0 | 0 | 0 | 0 | 0 | 1 | 0 | 0.430 | 0.918 | 56.49050 |\n",
                            "| Milk Duds                | 1 | 0 | 1 | 0 | 0 | 0 | 0 | 0 | 1 | 0.302 | 0.511 | 55.06407 |\n",
                            "| Milky Way                | 1 | 0 | 1 | 0 | 1 | 0 | 0 | 1 | 0 | 0.604 | 0.651 | 73.09956 |\n",
                            "| Milky Way Midnight       | 1 | 0 | 1 | 0 | 1 | 0 | 0 | 1 | 0 | 0.732 | 0.441 | 60.80070 |\n",
                            "| Milky Way Simply Caramel | 1 | 0 | 1 | 0 | 0 | 0 | 0 | 1 | 0 | 0.965 | 0.860 | 64.35334 |\n",
                            "\n"
                        ],
                        "text/plain": [
                            "  competitorname           chocolate fruity caramel peanutyalmondy nougat\n",
                            "1 Hershey's Milk Chocolate 1         0      0       0              0     \n",
                            "2 Milk Duds                1         0      1       0              0     \n",
                            "3 Milky Way                1         0      1       0              1     \n",
                            "4 Milky Way Midnight       1         0      1       0              1     \n",
                            "5 Milky Way Simply Caramel 1         0      1       0              0     \n",
                            "  crispedricewafer hard bar pluribus sugarpercent pricepercent winpercent\n",
                            "1 0                0    1   0        0.430        0.918        56.49050  \n",
                            "2 0                0    0   1        0.302        0.511        55.06407  \n",
                            "3 0                0    1   0        0.604        0.651        73.09956  \n",
                            "4 0                0    1   0        0.732        0.441        60.80070  \n",
                            "5 0                0    1   0        0.965        0.860        64.35334  "
                        ]
                    },
                    "metadata": {},
                    "output_type": "display_data"
                }
            ],
            "source": [
                "# milk candy?\n",
                "candy |> filter(stringr::str_detect(competitorname, 'Milk'))\n"
            ]
        },
        {
            "cell_type": "markdown",
            "metadata": {},
            "source": [
                "Compare `fruity` and `caramel` candies, use and average for the variable `sugarpercent` (percentile of sugar it falls under within the data set)\n",
                "\n"
            ]
        },
        {
            "cell_type": "code",
            "execution_count": 11,
            "metadata": {
                "vscode": {
                    "languageId": "r"
                }
            },
            "outputs": [
                {
                    "data": {
                        "text/html": [
                            "<table class=\"dataframe\">\n",
                            "<caption>A tibble: 2 × 2</caption>\n",
                            "<thead>\n",
                            "\t<tr><th scope=col>fruity</th><th scope=col>avg_sugar_percent</th></tr>\n",
                            "\t<tr><th scope=col>&lt;dbl&gt;</th><th scope=col>&lt;dbl&gt;</th></tr>\n",
                            "</thead>\n",
                            "<tbody>\n",
                            "\t<tr><td>0</td><td>0.4873404</td></tr>\n",
                            "\t<tr><td>1</td><td>0.4678947</td></tr>\n",
                            "</tbody>\n",
                            "</table>\n"
                        ],
                        "text/latex": [
                            "A tibble: 2 × 2\n",
                            "\\begin{tabular}{ll}\n",
                            " fruity & avg\\_sugar\\_percent\\\\\n",
                            " <dbl> & <dbl>\\\\\n",
                            "\\hline\n",
                            "\t 0 & 0.4873404\\\\\n",
                            "\t 1 & 0.4678947\\\\\n",
                            "\\end{tabular}\n"
                        ],
                        "text/markdown": [
                            "\n",
                            "A tibble: 2 × 2\n",
                            "\n",
                            "| fruity &lt;dbl&gt; | avg_sugar_percent &lt;dbl&gt; |\n",
                            "|---|---|\n",
                            "| 0 | 0.4873404 |\n",
                            "| 1 | 0.4678947 |\n",
                            "\n"
                        ],
                        "text/plain": [
                            "  fruity avg_sugar_percent\n",
                            "1 0      0.4873404        \n",
                            "2 1      0.4678947        "
                        ]
                    },
                    "metadata": {},
                    "output_type": "display_data"
                }
            ],
            "source": [
                "# summarize data\n",
                "candy |> group_by(fruity) |> summarise(avg_sugar_percent = mean(sugarpercent, na.rm = TRUE))\n"
            ]
        },
        {
            "cell_type": "markdown",
            "metadata": {},
            "source": [
                "\n",
                "\n"
            ]
        },
        {
            "cell_type": "code",
            "execution_count": 12,
            "metadata": {
                "vscode": {
                    "languageId": "r"
                }
            },
            "outputs": [
                {
                    "data": {
                        "text/html": [
                            "<table class=\"dataframe\">\n",
                            "<caption>A tibble: 2 × 2</caption>\n",
                            "<thead>\n",
                            "\t<tr><th scope=col>caramel</th><th scope=col>avg_sugar_percent</th></tr>\n",
                            "\t<tr><th scope=col>&lt;dbl&gt;</th><th scope=col>&lt;dbl&gt;</th></tr>\n",
                            "</thead>\n",
                            "<tbody>\n",
                            "\t<tr><td>0</td><td>0.4509437</td></tr>\n",
                            "\t<tr><td>1</td><td>0.6191428</td></tr>\n",
                            "</tbody>\n",
                            "</table>\n"
                        ],
                        "text/latex": [
                            "A tibble: 2 × 2\n",
                            "\\begin{tabular}{ll}\n",
                            " caramel & avg\\_sugar\\_percent\\\\\n",
                            " <dbl> & <dbl>\\\\\n",
                            "\\hline\n",
                            "\t 0 & 0.4509437\\\\\n",
                            "\t 1 & 0.6191428\\\\\n",
                            "\\end{tabular}\n"
                        ],
                        "text/markdown": [
                            "\n",
                            "A tibble: 2 × 2\n",
                            "\n",
                            "| caramel &lt;dbl&gt; | avg_sugar_percent &lt;dbl&gt; |\n",
                            "|---|---|\n",
                            "| 0 | 0.4509437 |\n",
                            "| 1 | 0.6191428 |\n",
                            "\n"
                        ],
                        "text/plain": [
                            "  caramel avg_sugar_percent\n",
                            "1 0       0.4509437        \n",
                            "2 1       0.6191428        "
                        ]
                    },
                    "metadata": {},
                    "output_type": "display_data"
                }
            ],
            "source": [
                "# summarize data\n",
                "candy |> group_by(caramel) |> summarise(avg_sugar_percent = mean(sugarpercent, na.rm = TRUE))\n",
                "\n"
            ]
        },
        {
            "cell_type": "markdown",
            "metadata": {},
            "source": [
                "Create a new categorical variable that indicates if a candy is \"popular\" (`winpercent` higher than 60), or \"not that popular\" (`winpercent` lower than 60)\n",
                "\n",
                "First check in `winpercent > 60` exists:\n"
            ]
        },
        {
            "cell_type": "code",
            "execution_count": 13,
            "metadata": {
                "vscode": {
                    "languageId": "r"
                }
            },
            "outputs": [
                {
                    "data": {
                        "text/html": [
                            "<table class=\"dataframe\">\n",
                            "<caption>A tibble: 6 × 14</caption>\n",
                            "<thead>\n",
                            "\t<tr><th scope=col>competitorname</th><th scope=col>chocolate</th><th scope=col>fruity</th><th scope=col>caramel</th><th scope=col>peanutyalmondy</th><th scope=col>nougat</th><th scope=col>crispedricewafer</th><th scope=col>hard</th><th scope=col>bar</th><th scope=col>pluribus</th><th scope=col>sugarpercent</th><th scope=col>pricepercent</th><th scope=col>winpercent</th><th scope=col>popular</th></tr>\n",
                            "\t<tr><th scope=col>&lt;chr&gt;</th><th scope=col>&lt;dbl&gt;</th><th scope=col>&lt;dbl&gt;</th><th scope=col>&lt;dbl&gt;</th><th scope=col>&lt;dbl&gt;</th><th scope=col>&lt;dbl&gt;</th><th scope=col>&lt;dbl&gt;</th><th scope=col>&lt;dbl&gt;</th><th scope=col>&lt;dbl&gt;</th><th scope=col>&lt;dbl&gt;</th><th scope=col>&lt;dbl&gt;</th><th scope=col>&lt;dbl&gt;</th><th scope=col>&lt;dbl&gt;</th><th scope=col>&lt;dbl&gt;</th></tr>\n",
                            "</thead>\n",
                            "<tbody>\n",
                            "\t<tr><td>100 Grand          </td><td>1</td><td>0</td><td>1</td><td>0</td><td>0</td><td>1</td><td>0</td><td>1</td><td>0</td><td>0.732</td><td>0.860</td><td>66.97173</td><td>1</td></tr>\n",
                            "\t<tr><td>3 Musketeers       </td><td>1</td><td>0</td><td>0</td><td>0</td><td>1</td><td>0</td><td>0</td><td>1</td><td>0</td><td>0.604</td><td>0.511</td><td>67.60294</td><td>1</td></tr>\n",
                            "\t<tr><td>Hershey's Krackel  </td><td>1</td><td>0</td><td>0</td><td>0</td><td>0</td><td>1</td><td>0</td><td>1</td><td>0</td><td>0.430</td><td>0.918</td><td>62.28448</td><td>1</td></tr>\n",
                            "\t<tr><td>Kit Kat            </td><td>1</td><td>0</td><td>0</td><td>0</td><td>0</td><td>1</td><td>0</td><td>1</td><td>0</td><td>0.313</td><td>0.511</td><td>76.76860</td><td>1</td></tr>\n",
                            "\t<tr><td>Peanut butter M&amp;M's</td><td>1</td><td>0</td><td>0</td><td>1</td><td>0</td><td>0</td><td>0</td><td>0</td><td>1</td><td>0.825</td><td>0.651</td><td>71.46505</td><td>1</td></tr>\n",
                            "\t<tr><td><span style=white-space:pre-wrap>M&amp;M's              </span></td><td>1</td><td>0</td><td>0</td><td>0</td><td>0</td><td>0</td><td>0</td><td>0</td><td>1</td><td>0.825</td><td>0.651</td><td>66.57458</td><td>1</td></tr>\n",
                            "</tbody>\n",
                            "</table>\n"
                        ],
                        "text/latex": [
                            "A tibble: 6 × 14\n",
                            "\\begin{tabular}{llllllllllllll}\n",
                            " competitorname & chocolate & fruity & caramel & peanutyalmondy & nougat & crispedricewafer & hard & bar & pluribus & sugarpercent & pricepercent & winpercent & popular\\\\\n",
                            " <chr> & <dbl> & <dbl> & <dbl> & <dbl> & <dbl> & <dbl> & <dbl> & <dbl> & <dbl> & <dbl> & <dbl> & <dbl> & <dbl>\\\\\n",
                            "\\hline\n",
                            "\t 100 Grand           & 1 & 0 & 1 & 0 & 0 & 1 & 0 & 1 & 0 & 0.732 & 0.860 & 66.97173 & 1\\\\\n",
                            "\t 3 Musketeers        & 1 & 0 & 0 & 0 & 1 & 0 & 0 & 1 & 0 & 0.604 & 0.511 & 67.60294 & 1\\\\\n",
                            "\t Hershey's Krackel   & 1 & 0 & 0 & 0 & 0 & 1 & 0 & 1 & 0 & 0.430 & 0.918 & 62.28448 & 1\\\\\n",
                            "\t Kit Kat             & 1 & 0 & 0 & 0 & 0 & 1 & 0 & 1 & 0 & 0.313 & 0.511 & 76.76860 & 1\\\\\n",
                            "\t Peanut butter M\\&M's & 1 & 0 & 0 & 1 & 0 & 0 & 0 & 0 & 1 & 0.825 & 0.651 & 71.46505 & 1\\\\\n",
                            "\t M\\&M's               & 1 & 0 & 0 & 0 & 0 & 0 & 0 & 0 & 1 & 0.825 & 0.651 & 66.57458 & 1\\\\\n",
                            "\\end{tabular}\n"
                        ],
                        "text/markdown": [
                            "\n",
                            "A tibble: 6 × 14\n",
                            "\n",
                            "| competitorname &lt;chr&gt; | chocolate &lt;dbl&gt; | fruity &lt;dbl&gt; | caramel &lt;dbl&gt; | peanutyalmondy &lt;dbl&gt; | nougat &lt;dbl&gt; | crispedricewafer &lt;dbl&gt; | hard &lt;dbl&gt; | bar &lt;dbl&gt; | pluribus &lt;dbl&gt; | sugarpercent &lt;dbl&gt; | pricepercent &lt;dbl&gt; | winpercent &lt;dbl&gt; | popular &lt;dbl&gt; |\n",
                            "|---|---|---|---|---|---|---|---|---|---|---|---|---|---|\n",
                            "| 100 Grand           | 1 | 0 | 1 | 0 | 0 | 1 | 0 | 1 | 0 | 0.732 | 0.860 | 66.97173 | 1 |\n",
                            "| 3 Musketeers        | 1 | 0 | 0 | 0 | 1 | 0 | 0 | 1 | 0 | 0.604 | 0.511 | 67.60294 | 1 |\n",
                            "| Hershey's Krackel   | 1 | 0 | 0 | 0 | 0 | 1 | 0 | 1 | 0 | 0.430 | 0.918 | 62.28448 | 1 |\n",
                            "| Kit Kat             | 1 | 0 | 0 | 0 | 0 | 1 | 0 | 1 | 0 | 0.313 | 0.511 | 76.76860 | 1 |\n",
                            "| Peanut butter M&amp;M's | 1 | 0 | 0 | 1 | 0 | 0 | 0 | 0 | 1 | 0.825 | 0.651 | 71.46505 | 1 |\n",
                            "| M&amp;M's               | 1 | 0 | 0 | 0 | 0 | 0 | 0 | 0 | 1 | 0.825 | 0.651 | 66.57458 | 1 |\n",
                            "\n"
                        ],
                        "text/plain": [
                            "  competitorname      chocolate fruity caramel peanutyalmondy nougat\n",
                            "1 100 Grand           1         0      1       0              0     \n",
                            "2 3 Musketeers        1         0      0       0              1     \n",
                            "3 Hershey's Krackel   1         0      0       0              0     \n",
                            "4 Kit Kat             1         0      0       0              0     \n",
                            "5 Peanut butter M&M's 1         0      0       1              0     \n",
                            "6 M&M's               1         0      0       0              0     \n",
                            "  crispedricewafer hard bar pluribus sugarpercent pricepercent winpercent\n",
                            "1 1                0    1   0        0.732        0.860        66.97173  \n",
                            "2 0                0    1   0        0.604        0.511        67.60294  \n",
                            "3 1                0    1   0        0.430        0.918        62.28448  \n",
                            "4 1                0    1   0        0.313        0.511        76.76860  \n",
                            "5 0                0    0   1        0.825        0.651        71.46505  \n",
                            "6 0                0    0   1        0.825        0.651        66.57458  \n",
                            "  popular\n",
                            "1 1      \n",
                            "2 1      \n",
                            "3 1      \n",
                            "4 1      \n",
                            "5 1      \n",
                            "6 1      "
                        ]
                    },
                    "metadata": {},
                    "output_type": "display_data"
                }
            ],
            "source": [
                "candy_new <- candy |>\n",
                "   filter(winpercent > 60) |>\n",
                "   mutate(popular = 1) \n",
                "\n",
                "candy_new |> head()"
            ]
        },
        {
            "cell_type": "markdown",
            "metadata": {},
            "source": [
                "Then create new variable using the `mutate()` function:\n",
                "\n"
            ]
        },
        {
            "cell_type": "code",
            "execution_count": 18,
            "metadata": {
                "vscode": {
                    "languageId": "r"
                }
            },
            "outputs": [
                {
                    "data": {
                        "text/html": [
                            "<table class=\"dataframe\">\n",
                            "<caption>A tibble: 6 × 14</caption>\n",
                            "<thead>\n",
                            "\t<tr><th scope=col>competitorname</th><th scope=col>chocolate</th><th scope=col>fruity</th><th scope=col>caramel</th><th scope=col>peanutyalmondy</th><th scope=col>nougat</th><th scope=col>crispedricewafer</th><th scope=col>hard</th><th scope=col>bar</th><th scope=col>pluribus</th><th scope=col>sugarpercent</th><th scope=col>pricepercent</th><th scope=col>winpercent</th><th scope=col>popular</th></tr>\n",
                            "\t<tr><th scope=col>&lt;chr&gt;</th><th scope=col>&lt;dbl&gt;</th><th scope=col>&lt;dbl&gt;</th><th scope=col>&lt;dbl&gt;</th><th scope=col>&lt;dbl&gt;</th><th scope=col>&lt;dbl&gt;</th><th scope=col>&lt;dbl&gt;</th><th scope=col>&lt;dbl&gt;</th><th scope=col>&lt;dbl&gt;</th><th scope=col>&lt;dbl&gt;</th><th scope=col>&lt;dbl&gt;</th><th scope=col>&lt;dbl&gt;</th><th scope=col>&lt;dbl&gt;</th><th scope=col>&lt;dbl&gt;</th></tr>\n",
                            "</thead>\n",
                            "<tbody>\n",
                            "\t<tr><td>One dime          </td><td>0</td><td>0</td><td>0</td><td>0</td><td>0</td><td>0</td><td>0</td><td>0</td><td>0</td><td>0.011</td><td>0.116</td><td>32.26109</td><td>0</td></tr>\n",
                            "\t<tr><td>One quarter       </td><td>0</td><td>0</td><td>0</td><td>0</td><td>0</td><td>0</td><td>0</td><td>0</td><td>0</td><td>0.011</td><td>0.511</td><td>46.11650</td><td>0</td></tr>\n",
                            "\t<tr><td>Air Heads         </td><td>0</td><td>1</td><td>0</td><td>0</td><td>0</td><td>0</td><td>0</td><td>0</td><td>0</td><td>0.906</td><td>0.511</td><td>52.34146</td><td>0</td></tr>\n",
                            "\t<tr><td>Almond Joy        </td><td>1</td><td>0</td><td>0</td><td>1</td><td>0</td><td>0</td><td>0</td><td>1</td><td>0</td><td>0.465</td><td>0.767</td><td>50.34755</td><td>0</td></tr>\n",
                            "\t<tr><td>Baby Ruth         </td><td>1</td><td>0</td><td>1</td><td>1</td><td>1</td><td>0</td><td>0</td><td>1</td><td>0</td><td>0.604</td><td>0.767</td><td>56.91455</td><td>0</td></tr>\n",
                            "\t<tr><td>Boston Baked Beans</td><td>0</td><td>0</td><td>0</td><td>1</td><td>0</td><td>0</td><td>0</td><td>0</td><td>1</td><td>0.313</td><td>0.511</td><td>23.41782</td><td>0</td></tr>\n",
                            "</tbody>\n",
                            "</table>\n"
                        ],
                        "text/latex": [
                            "A tibble: 6 × 14\n",
                            "\\begin{tabular}{llllllllllllll}\n",
                            " competitorname & chocolate & fruity & caramel & peanutyalmondy & nougat & crispedricewafer & hard & bar & pluribus & sugarpercent & pricepercent & winpercent & popular\\\\\n",
                            " <chr> & <dbl> & <dbl> & <dbl> & <dbl> & <dbl> & <dbl> & <dbl> & <dbl> & <dbl> & <dbl> & <dbl> & <dbl> & <dbl>\\\\\n",
                            "\\hline\n",
                            "\t One dime           & 0 & 0 & 0 & 0 & 0 & 0 & 0 & 0 & 0 & 0.011 & 0.116 & 32.26109 & 0\\\\\n",
                            "\t One quarter        & 0 & 0 & 0 & 0 & 0 & 0 & 0 & 0 & 0 & 0.011 & 0.511 & 46.11650 & 0\\\\\n",
                            "\t Air Heads          & 0 & 1 & 0 & 0 & 0 & 0 & 0 & 0 & 0 & 0.906 & 0.511 & 52.34146 & 0\\\\\n",
                            "\t Almond Joy         & 1 & 0 & 0 & 1 & 0 & 0 & 0 & 1 & 0 & 0.465 & 0.767 & 50.34755 & 0\\\\\n",
                            "\t Baby Ruth          & 1 & 0 & 1 & 1 & 1 & 0 & 0 & 1 & 0 & 0.604 & 0.767 & 56.91455 & 0\\\\\n",
                            "\t Boston Baked Beans & 0 & 0 & 0 & 1 & 0 & 0 & 0 & 0 & 1 & 0.313 & 0.511 & 23.41782 & 0\\\\\n",
                            "\\end{tabular}\n"
                        ],
                        "text/markdown": [
                            "\n",
                            "A tibble: 6 × 14\n",
                            "\n",
                            "| competitorname &lt;chr&gt; | chocolate &lt;dbl&gt; | fruity &lt;dbl&gt; | caramel &lt;dbl&gt; | peanutyalmondy &lt;dbl&gt; | nougat &lt;dbl&gt; | crispedricewafer &lt;dbl&gt; | hard &lt;dbl&gt; | bar &lt;dbl&gt; | pluribus &lt;dbl&gt; | sugarpercent &lt;dbl&gt; | pricepercent &lt;dbl&gt; | winpercent &lt;dbl&gt; | popular &lt;dbl&gt; |\n",
                            "|---|---|---|---|---|---|---|---|---|---|---|---|---|---|\n",
                            "| One dime           | 0 | 0 | 0 | 0 | 0 | 0 | 0 | 0 | 0 | 0.011 | 0.116 | 32.26109 | 0 |\n",
                            "| One quarter        | 0 | 0 | 0 | 0 | 0 | 0 | 0 | 0 | 0 | 0.011 | 0.511 | 46.11650 | 0 |\n",
                            "| Air Heads          | 0 | 1 | 0 | 0 | 0 | 0 | 0 | 0 | 0 | 0.906 | 0.511 | 52.34146 | 0 |\n",
                            "| Almond Joy         | 1 | 0 | 0 | 1 | 0 | 0 | 0 | 1 | 0 | 0.465 | 0.767 | 50.34755 | 0 |\n",
                            "| Baby Ruth          | 1 | 0 | 1 | 1 | 1 | 0 | 0 | 1 | 0 | 0.604 | 0.767 | 56.91455 | 0 |\n",
                            "| Boston Baked Beans | 0 | 0 | 0 | 1 | 0 | 0 | 0 | 0 | 1 | 0.313 | 0.511 | 23.41782 | 0 |\n",
                            "\n"
                        ],
                        "text/plain": [
                            "  competitorname     chocolate fruity caramel peanutyalmondy nougat\n",
                            "1 One dime           0         0      0       0              0     \n",
                            "2 One quarter        0         0      0       0              0     \n",
                            "3 Air Heads          0         1      0       0              0     \n",
                            "4 Almond Joy         1         0      0       1              0     \n",
                            "5 Baby Ruth          1         0      1       1              1     \n",
                            "6 Boston Baked Beans 0         0      0       1              0     \n",
                            "  crispedricewafer hard bar pluribus sugarpercent pricepercent winpercent\n",
                            "1 0                0    0   0        0.011        0.116        32.26109  \n",
                            "2 0                0    0   0        0.011        0.511        46.11650  \n",
                            "3 0                0    0   0        0.906        0.511        52.34146  \n",
                            "4 0                0    1   0        0.465        0.767        50.34755  \n",
                            "5 0                0    1   0        0.604        0.767        56.91455  \n",
                            "6 0                0    0   1        0.313        0.511        23.41782  \n",
                            "  popular\n",
                            "1 0      \n",
                            "2 0      \n",
                            "3 0      \n",
                            "4 0      \n",
                            "5 0      \n",
                            "6 0      "
                        ]
                    },
                    "metadata": {},
                    "output_type": "display_data"
                }
            ],
            "source": [
                "candy_new <- candy |>\n",
                "   filter(winpercent < 60) |>\n",
                "   mutate(popular = 0) \n",
                "\n",
                "candy_new |> head()\n"
            ]
        },
        {
            "cell_type": "markdown",
            "metadata": {},
            "source": [
                "## Exploring `ggplot`\n",
                "\n",
                "\n",
                "Create a bar plot like the one shown in the article\n"
            ]
        },
        {
            "cell_type": "code",
            "execution_count": 25,
            "metadata": {
                "vscode": {
                    "languageId": "r"
                }
            },
            "outputs": [
                {
                    "data": {
                        "image/png": "[encoded data removed]",
                        "text/plain": [
                            "plot without title"
                        ]
                    },
                    "metadata": {
                        "image/png": {
                            "height": 420,
                            "width": 420
                        }
                    },
                    "output_type": "display_data"
                }
            ],
            "source": [
                "\n",
                "ggplot(candy, aes(x=winpercent,y=sugarpercent,color=chocolate)) + geom_point()\n"
            ]
        },
        {
            "cell_type": "markdown",
            "metadata": {},
            "source": [
                "Change orientation of bars and reorder based on ranking:\n",
                "\n"
            ]
        },
        {
            "cell_type": "code",
            "execution_count": null,
            "metadata": {
                "vscode": {
                    "languageId": "r"
                }
            },
            "outputs": [],
            "source": [
                "\n",
                "\n"
            ]
        },
        {
            "cell_type": "markdown",
            "metadata": {},
            "source": [
                "Remove vertical label, add title and subtitle:\n",
                "\n"
            ]
        },
        {
            "cell_type": "code",
            "execution_count": null,
            "metadata": {
                "vscode": {
                    "languageId": "r"
                }
            },
            "outputs": [],
            "source": [
                "\n",
                "\n"
            ]
        },
        {
            "cell_type": "markdown",
            "metadata": {},
            "source": [
                "\n",
                "\n"
            ]
        }
    ],
    "metadata": {
        "anaconda-cloud": "",
        "kernelspec": {
            "display_name": "R",
            "langauge": "R",
            "language": "R",
            "name": "ir"
        },
        "language_info": {
            "codemirror_mode": "r",
            "file_extension": ".r",
            "mimetype": "text/x-r-source",
            "name": "R",
            "pygments_lexer": "r",
            "version": "4.4.2"
        }
    },
    "nbformat": 4,
    "nbformat_minor": 1
}
