{
    "cells": [
        {
            "cell_type": "markdown",
            "metadata": {},
            "source": [
                "This material is adapted from a \"data cleaning seminar\" by [Christine Zhang](https://twitter.com/christinezhang)\n",
                "\n",
                "\n",
                "## Tools\n",
                "\n",
                "We will use the `tidyverse` package, particularly tools from `{dplyr}` and `{stringr}`\n"
            ]
        },
        {
            "cell_type": "code",
            "execution_count": 1,
            "metadata": {
                "vscode": {
                    "languageId": "r"
                }
            },
            "outputs": [
                {
                    "name": "stderr",
                    "output_type": "stream",
                    "text": [
                        "── \u001b[1mAttaching core tidyverse packages\u001b[22m ──────────────────────── tidyverse 2.0.0 ──\n",
                        "\u001b[32m✔\u001b[39m \u001b[34mdplyr    \u001b[39m 1.1.4     \u001b[32m✔\u001b[39m \u001b[34mreadr    \u001b[39m 2.1.5\n",
                        "\u001b[32m✔\u001b[39m \u001b[34mforcats  \u001b[39m 1.0.0     \u001b[32m✔\u001b[39m \u001b[34mstringr  \u001b[39m 1.5.1\n",
                        "\u001b[32m✔\u001b[39m \u001b[34mggplot2  \u001b[39m 3.5.1     \u001b[32m✔\u001b[39m \u001b[34mtibble   \u001b[39m 3.2.1\n",
                        "\u001b[32m✔\u001b[39m \u001b[34mlubridate\u001b[39m 1.9.4     \u001b[32m✔\u001b[39m \u001b[34mtidyr    \u001b[39m 1.3.1\n",
                        "\u001b[32m✔\u001b[39m \u001b[34mpurrr    \u001b[39m 1.0.2     \n",
                        "── \u001b[1mConflicts\u001b[22m ────────────────────────────────────────── tidyverse_conflicts() ──\n",
                        "\u001b[31m✖\u001b[39m \u001b[34mdplyr\u001b[39m::\u001b[32mfilter()\u001b[39m masks \u001b[34mstats\u001b[39m::filter()\n",
                        "\u001b[31m✖\u001b[39m \u001b[34mdplyr\u001b[39m::\u001b[32mlag()\u001b[39m    masks \u001b[34mstats\u001b[39m::lag()\n",
                        "\u001b[36mℹ\u001b[39m Use the conflicted package (\u001b[3m\u001b[34m<http://conflicted.r-lib.org/>\u001b[39m\u001b[23m) to force all conflicts to become errors\n"
                    ]
                }
            ],
            "source": [
                "library(tidyverse)\n",
                "\n"
            ]
        },
        {
            "cell_type": "markdown",
            "metadata": {},
            "source": [
                "## Data Source\n",
                "\n",
                "The Employee Earnings Report is one of the interesting datasets that the City of Boston makes available through their [Open Data portal](https://data.boston.gov/). It gives payroll data for every person on the municipal payroll. It is where the Boston Globe gets stories like these every year:\n",
                "\n",
                "- \"64 City of Boston workers earn more than $250,000\" ([February 6, 2016](https://www.bostonglobe.com/metro/2016/02/05/city-boston-workers-earn-more-than/MvW6RExJZimdrTlwdwUI7M/story.html))\n",
                "\n",
                "- \"Police detective tops Boston’s payroll with a total of over $403,000\" ([February 14, 2017](https://www.bostonglobe.com/metro/2017/02/14/police-detective-tops-boston-payroll-with-total-over/6PaXwTAHZGEW5djgwCJuTI/story.html))\n",
                "\n",
                "\n",
                "Get the data using the `read.csv()` function\n"
            ]
        },
        {
            "cell_type": "code",
            "execution_count": 12,
            "metadata": {
                "vscode": {
                    "languageId": "r"
                }
            },
            "outputs": [],
            "source": [
                "salary <- read.csv(\"https://data.boston.gov/dataset/418983dc-7cae-42bb-88e4-d56f5adcf869/resource/8368bd3d-3633-4927-8355-2a2f9811ab4f/download/employee-earnings-report-2016.csv\")\n",
                "\n"
            ]
        },
        {
            "cell_type": "markdown",
            "metadata": {},
            "source": [
                "Inspect the dataset:\n",
                "\n"
            ]
        },
        {
            "cell_type": "code",
            "execution_count": 15,
            "metadata": {
                "vscode": {
                    "languageId": "r"
                }
            },
            "outputs": [
                {
                    "data": {
                        "text/html": [
                            "<table class=\"dataframe\">\n",
                            "<caption>A data.frame: 6 × 12</caption>\n",
                            "<thead>\n",
                            "\t<tr><th></th><th scope=col>NAME</th><th scope=col>DEPARTMENT_NAME</th><th scope=col>TITLE</th><th scope=col>REGULAR</th><th scope=col>RETRO</th><th scope=col>OTHER</th><th scope=col>OVERTIME</th><th scope=col>INJURED</th><th scope=col>DETAIL</th><th scope=col>QUINN.EDUCATION.INCENTIVE</th><th scope=col>TOTAL.EARNINGS</th><th scope=col>POSTAL</th></tr>\n",
                            "\t<tr><th></th><th scope=col>&lt;chr&gt;</th><th scope=col>&lt;chr&gt;</th><th scope=col>&lt;chr&gt;</th><th scope=col>&lt;chr&gt;</th><th scope=col>&lt;chr&gt;</th><th scope=col>&lt;chr&gt;</th><th scope=col>&lt;chr&gt;</th><th scope=col>&lt;chr&gt;</th><th scope=col>&lt;chr&gt;</th><th scope=col>&lt;chr&gt;</th><th scope=col>&lt;chr&gt;</th><th scope=col>&lt;chr&gt;</th></tr>\n",
                            "</thead>\n",
                            "<tbody>\n",
                            "\t<tr><th scope=row>1</th><td>Abadi,Kidani A         </td><td>Assessing Department    </td><td>Property Officer        </td><td>$46,291.98 </td><td></td><td>$300.00  </td><td>          </td><td>          </td><td>         </td><td>          </td><td>$46,591.98 </td><td>02118</td></tr>\n",
                            "\t<tr><th scope=row>2</th><td>Abasciano,Joseph       </td><td>Boston Police Department</td><td>Police Officer          </td><td>$6,933.66  </td><td></td><td>$850.00  </td><td>$205.92   </td><td>$74,331.86</td><td>         </td><td>$15,258.44</td><td>$97,579.88 </td><td>02132</td></tr>\n",
                            "\t<tr><th scope=row>3</th><td>Abban,Christopher John </td><td>Boston Fire Department  </td><td>Fire Fighter            </td><td>$103,442.22</td><td></td><td>$550.00  </td><td>$15,884.53</td><td>          </td><td>$4,746.50</td><td>          </td><td>$124,623.25</td><td>02132</td></tr>\n",
                            "\t<tr><th scope=row>4</th><td>Abbasi,Sophia          </td><td>Green Academy           </td><td>Manager (C) (non-ac)    </td><td>$18,249.83 </td><td></td><td>         </td><td>          </td><td>          </td><td>         </td><td>          </td><td>$18,249.83 </td><td>02148</td></tr>\n",
                            "\t<tr><th scope=row>5</th><td>Abbate-Vaughn,Jorgelina</td><td>BPS Ellis Elementary    </td><td>Teacher                 </td><td>$84,410.28 </td><td></td><td>$1,250.00</td><td>          </td><td>          </td><td>         </td><td>          </td><td>$85,660.28 </td><td>02481</td></tr>\n",
                            "\t<tr><th scope=row>6</th><td>Abberton,James P       </td><td>Public Works Department </td><td>Maint Mech (Carpenter)##</td><td>$41,449.16 </td><td></td><td>$81.00   </td><td>$8,807.47 </td><td>          </td><td>         </td><td>          </td><td>$50,337.63 </td><td>02127</td></tr>\n",
                            "</tbody>\n",
                            "</table>\n"
                        ],
                        "text/latex": [
                            "A data.frame: 6 × 12\n",
                            "\\begin{tabular}{r|llllllllllll}\n",
                            "  & NAME & DEPARTMENT\\_NAME & TITLE & REGULAR & RETRO & OTHER & OVERTIME & INJURED & DETAIL & QUINN.EDUCATION.INCENTIVE & TOTAL.EARNINGS & POSTAL\\\\\n",
                            "  & <chr> & <chr> & <chr> & <chr> & <chr> & <chr> & <chr> & <chr> & <chr> & <chr> & <chr> & <chr>\\\\\n",
                            "\\hline\n",
                            "\t1 & Abadi,Kidani A          & Assessing Department     & Property Officer         & \\$46,291.98  &  & \\$300.00   &            &            &           &            & \\$46,591.98  & 02118\\\\\n",
                            "\t2 & Abasciano,Joseph        & Boston Police Department & Police Officer           & \\$6,933.66   &  & \\$850.00   & \\$205.92    & \\$74,331.86 &           & \\$15,258.44 & \\$97,579.88  & 02132\\\\\n",
                            "\t3 & Abban,Christopher John  & Boston Fire Department   & Fire Fighter             & \\$103,442.22 &  & \\$550.00   & \\$15,884.53 &            & \\$4,746.50 &            & \\$124,623.25 & 02132\\\\\n",
                            "\t4 & Abbasi,Sophia           & Green Academy            & Manager (C) (non-ac)     & \\$18,249.83  &  &           &            &            &           &            & \\$18,249.83  & 02148\\\\\n",
                            "\t5 & Abbate-Vaughn,Jorgelina & BPS Ellis Elementary     & Teacher                  & \\$84,410.28  &  & \\$1,250.00 &            &            &           &            & \\$85,660.28  & 02481\\\\\n",
                            "\t6 & Abberton,James P        & Public Works Department  & Maint Mech (Carpenter)\\#\\# & \\$41,449.16  &  & \\$81.00    & \\$8,807.47  &            &           &            & \\$50,337.63  & 02127\\\\\n",
                            "\\end{tabular}\n"
                        ],
                        "text/markdown": [
                            "\n",
                            "A data.frame: 6 × 12\n",
                            "\n",
                            "| <!--/--> | NAME &lt;chr&gt; | DEPARTMENT_NAME &lt;chr&gt; | TITLE &lt;chr&gt; | REGULAR &lt;chr&gt; | RETRO &lt;chr&gt; | OTHER &lt;chr&gt; | OVERTIME &lt;chr&gt; | INJURED &lt;chr&gt; | DETAIL &lt;chr&gt; | QUINN.EDUCATION.INCENTIVE &lt;chr&gt; | TOTAL.EARNINGS &lt;chr&gt; | POSTAL &lt;chr&gt; |\n",
                            "|---|---|---|---|---|---|---|---|---|---|---|---|---|\n",
                            "| 1 | Abadi,Kidani A          | Assessing Department     | Property Officer         | $46,291.98  | <!----> | $300.00   | <!----> | <!----> | <!----> | <!----> | $46,591.98  | 02118 |\n",
                            "| 2 | Abasciano,Joseph        | Boston Police Department | Police Officer           | $6,933.66   | <!----> | $850.00   | $205.92    | $74,331.86 | <!----> | $15,258.44 | $97,579.88  | 02132 |\n",
                            "| 3 | Abban,Christopher John  | Boston Fire Department   | Fire Fighter             | $103,442.22 | <!----> | $550.00   | $15,884.53 | <!----> | $4,746.50 | <!----> | $124,623.25 | 02132 |\n",
                            "| 4 | Abbasi,Sophia           | Green Academy            | Manager (C) (non-ac)     | $18,249.83  | <!----> | <!----> | <!----> | <!----> | <!----> | <!----> | $18,249.83  | 02148 |\n",
                            "| 5 | Abbate-Vaughn,Jorgelina | BPS Ellis Elementary     | Teacher                  | $84,410.28  | <!----> | $1,250.00 | <!----> | <!----> | <!----> | <!----> | $85,660.28  | 02481 |\n",
                            "| 6 | Abberton,James P        | Public Works Department  | Maint Mech (Carpenter)## | $41,449.16  | <!----> | $81.00    | $8,807.47  | <!----> | <!----> | <!----> | $50,337.63  | 02127 |\n",
                            "\n"
                        ],
                        "text/plain": [
                            "  NAME                    DEPARTMENT_NAME          TITLE                   \n",
                            "1 Abadi,Kidani A          Assessing Department     Property Officer        \n",
                            "2 Abasciano,Joseph        Boston Police Department Police Officer          \n",
                            "3 Abban,Christopher John  Boston Fire Department   Fire Fighter            \n",
                            "4 Abbasi,Sophia           Green Academy            Manager (C) (non-ac)    \n",
                            "5 Abbate-Vaughn,Jorgelina BPS Ellis Elementary     Teacher                 \n",
                            "6 Abberton,James P        Public Works Department  Maint Mech (Carpenter)##\n",
                            "  REGULAR     RETRO OTHER     OVERTIME   INJURED    DETAIL   \n",
                            "1 $46,291.98        $300.00                                  \n",
                            "2 $6,933.66         $850.00   $205.92    $74,331.86          \n",
                            "3 $103,442.22       $550.00   $15,884.53            $4,746.50\n",
                            "4 $18,249.83                                                 \n",
                            "5 $84,410.28        $1,250.00                                \n",
                            "6 $41,449.16        $81.00    $8,807.47                      \n",
                            "  QUINN.EDUCATION.INCENTIVE TOTAL.EARNINGS POSTAL\n",
                            "1                           $46,591.98     02118 \n",
                            "2 $15,258.44                $97,579.88     02132 \n",
                            "3                           $124,623.25    02132 \n",
                            "4                           $18,249.83     02148 \n",
                            "5                           $85,660.28     02481 \n",
                            "6                           $50,337.63     02127 "
                        ]
                    },
                    "metadata": {},
                    "output_type": "display_data"
                }
            ],
            "source": [
                "salary |> head()\n",
                "\n"
            ]
        },
        {
            "cell_type": "markdown",
            "metadata": {},
            "source": [
                "There are a lot of columns. Let us simplify by selecting the ones of interest: `NAME`, `DEPARTMENT_NAME`, and `TOTAL.EARNINGS`. We can do this using the `select()` function in `dplyr`. We will save them into a new data frame, `salary_set`.\n",
                "\n"
            ]
        },
        {
            "cell_type": "code",
            "execution_count": 72,
            "metadata": {
                "vscode": {
                    "languageId": "r"
                }
            },
            "outputs": [
                {
                    "data": {
                        "text/html": [
                            "<table class=\"dataframe\">\n",
                            "<caption>A data.frame: 6 × 5</caption>\n",
                            "<thead>\n",
                            "\t<tr><th></th><th scope=col>NAME</th><th scope=col>DEPARTMENT_NAME</th><th scope=col>TITLE</th><th scope=col>OVERTIME</th><th scope=col>TOTAL.EARNINGS</th></tr>\n",
                            "\t<tr><th></th><th scope=col>&lt;chr&gt;</th><th scope=col>&lt;chr&gt;</th><th scope=col>&lt;chr&gt;</th><th scope=col>&lt;chr&gt;</th><th scope=col>&lt;chr&gt;</th></tr>\n",
                            "</thead>\n",
                            "<tbody>\n",
                            "\t<tr><th scope=row>1</th><td>Abadi,Kidani A         </td><td>Assessing Department    </td><td>Property Officer        </td><td>          </td><td>$46,591.98 </td></tr>\n",
                            "\t<tr><th scope=row>2</th><td>Abasciano,Joseph       </td><td>Boston Police Department</td><td>Police Officer          </td><td>$205.92   </td><td>$97,579.88 </td></tr>\n",
                            "\t<tr><th scope=row>3</th><td>Abban,Christopher John </td><td>Boston Fire Department  </td><td>Fire Fighter            </td><td>$15,884.53</td><td>$124,623.25</td></tr>\n",
                            "\t<tr><th scope=row>4</th><td>Abbasi,Sophia          </td><td>Green Academy           </td><td>Manager (C) (non-ac)    </td><td>          </td><td>$18,249.83 </td></tr>\n",
                            "\t<tr><th scope=row>5</th><td>Abbate-Vaughn,Jorgelina</td><td>BPS Ellis Elementary    </td><td>Teacher                 </td><td>          </td><td>$85,660.28 </td></tr>\n",
                            "\t<tr><th scope=row>6</th><td>Abberton,James P       </td><td>Public Works Department </td><td>Maint Mech (Carpenter)##</td><td>$8,807.47 </td><td>$50,337.63 </td></tr>\n",
                            "</tbody>\n",
                            "</table>\n"
                        ],
                        "text/latex": [
                            "A data.frame: 6 × 5\n",
                            "\\begin{tabular}{r|lllll}\n",
                            "  & NAME & DEPARTMENT\\_NAME & TITLE & OVERTIME & TOTAL.EARNINGS\\\\\n",
                            "  & <chr> & <chr> & <chr> & <chr> & <chr>\\\\\n",
                            "\\hline\n",
                            "\t1 & Abadi,Kidani A          & Assessing Department     & Property Officer         &            & \\$46,591.98 \\\\\n",
                            "\t2 & Abasciano,Joseph        & Boston Police Department & Police Officer           & \\$205.92    & \\$97,579.88 \\\\\n",
                            "\t3 & Abban,Christopher John  & Boston Fire Department   & Fire Fighter             & \\$15,884.53 & \\$124,623.25\\\\\n",
                            "\t4 & Abbasi,Sophia           & Green Academy            & Manager (C) (non-ac)     &            & \\$18,249.83 \\\\\n",
                            "\t5 & Abbate-Vaughn,Jorgelina & BPS Ellis Elementary     & Teacher                  &            & \\$85,660.28 \\\\\n",
                            "\t6 & Abberton,James P        & Public Works Department  & Maint Mech (Carpenter)\\#\\# & \\$8,807.47  & \\$50,337.63 \\\\\n",
                            "\\end{tabular}\n"
                        ],
                        "text/markdown": [
                            "\n",
                            "A data.frame: 6 × 5\n",
                            "\n",
                            "| <!--/--> | NAME &lt;chr&gt; | DEPARTMENT_NAME &lt;chr&gt; | TITLE &lt;chr&gt; | OVERTIME &lt;chr&gt; | TOTAL.EARNINGS &lt;chr&gt; |\n",
                            "|---|---|---|---|---|---|\n",
                            "| 1 | Abadi,Kidani A          | Assessing Department     | Property Officer         | <!----> | $46,591.98  |\n",
                            "| 2 | Abasciano,Joseph        | Boston Police Department | Police Officer           | $205.92    | $97,579.88  |\n",
                            "| 3 | Abban,Christopher John  | Boston Fire Department   | Fire Fighter             | $15,884.53 | $124,623.25 |\n",
                            "| 4 | Abbasi,Sophia           | Green Academy            | Manager (C) (non-ac)     | <!----> | $18,249.83  |\n",
                            "| 5 | Abbate-Vaughn,Jorgelina | BPS Ellis Elementary     | Teacher                  | <!----> | $85,660.28  |\n",
                            "| 6 | Abberton,James P        | Public Works Department  | Maint Mech (Carpenter)## | $8,807.47  | $50,337.63  |\n",
                            "\n"
                        ],
                        "text/plain": [
                            "  NAME                    DEPARTMENT_NAME          TITLE                   \n",
                            "1 Abadi,Kidani A          Assessing Department     Property Officer        \n",
                            "2 Abasciano,Joseph        Boston Police Department Police Officer          \n",
                            "3 Abban,Christopher John  Boston Fire Department   Fire Fighter            \n",
                            "4 Abbasi,Sophia           Green Academy            Manager (C) (non-ac)    \n",
                            "5 Abbate-Vaughn,Jorgelina BPS Ellis Elementary     Teacher                 \n",
                            "6 Abberton,James P        Public Works Department  Maint Mech (Carpenter)##\n",
                            "  OVERTIME   TOTAL.EARNINGS\n",
                            "1            $46,591.98    \n",
                            "2 $205.92    $97,579.88    \n",
                            "3 $15,884.53 $124,623.25   \n",
                            "4            $18,249.83    \n",
                            "5            $85,660.28    \n",
                            "6 $8,807.47  $50,337.63    "
                        ]
                    },
                    "metadata": {},
                    "output_type": "display_data"
                }
            ],
            "source": [
                "salary_set <- salary %>%\n",
                "    select(\"NAME\", \"DEPARTMENT_NAME\", \"TITLE\",\"OVERTIME\",\"TOTAL.EARNINGS\")\n",
                "\n",
                "\n",
                "salary_set |> head()"
            ]
        },
        {
            "cell_type": "markdown",
            "metadata": {},
            "source": [
                "We can also change these names to lowercase names for easier typing using `tolower()`:\n",
                "\n"
            ]
        },
        {
            "cell_type": "code",
            "execution_count": 73,
            "metadata": {
                "vscode": {
                    "languageId": "r"
                }
            },
            "outputs": [],
            "source": [
                "names(salary_set) <- tolower(names(salary_set)) \n",
                "    \n"
            ]
        },
        {
            "cell_type": "markdown",
            "metadata": {},
            "source": [
                "Print the first 6 rows of the dataset:\n",
                "\n"
            ]
        },
        {
            "cell_type": "code",
            "execution_count": 74,
            "metadata": {
                "vscode": {
                    "languageId": "r"
                }
            },
            "outputs": [
                {
                    "data": {
                        "text/html": [
                            "<table class=\"dataframe\">\n",
                            "<caption>A data.frame: 6 × 5</caption>\n",
                            "<thead>\n",
                            "\t<tr><th></th><th scope=col>name</th><th scope=col>department_name</th><th scope=col>title</th><th scope=col>overtime</th><th scope=col>total.earnings</th></tr>\n",
                            "\t<tr><th></th><th scope=col>&lt;chr&gt;</th><th scope=col>&lt;chr&gt;</th><th scope=col>&lt;chr&gt;</th><th scope=col>&lt;chr&gt;</th><th scope=col>&lt;chr&gt;</th></tr>\n",
                            "</thead>\n",
                            "<tbody>\n",
                            "\t<tr><th scope=row>1</th><td>Abadi,Kidani A         </td><td>Assessing Department    </td><td>Property Officer        </td><td>          </td><td>$46,591.98 </td></tr>\n",
                            "\t<tr><th scope=row>2</th><td>Abasciano,Joseph       </td><td>Boston Police Department</td><td>Police Officer          </td><td>$205.92   </td><td>$97,579.88 </td></tr>\n",
                            "\t<tr><th scope=row>3</th><td>Abban,Christopher John </td><td>Boston Fire Department  </td><td>Fire Fighter            </td><td>$15,884.53</td><td>$124,623.25</td></tr>\n",
                            "\t<tr><th scope=row>4</th><td>Abbasi,Sophia          </td><td>Green Academy           </td><td>Manager (C) (non-ac)    </td><td>          </td><td>$18,249.83 </td></tr>\n",
                            "\t<tr><th scope=row>5</th><td>Abbate-Vaughn,Jorgelina</td><td>BPS Ellis Elementary    </td><td>Teacher                 </td><td>          </td><td>$85,660.28 </td></tr>\n",
                            "\t<tr><th scope=row>6</th><td>Abberton,James P       </td><td>Public Works Department </td><td>Maint Mech (Carpenter)##</td><td>$8,807.47 </td><td>$50,337.63 </td></tr>\n",
                            "</tbody>\n",
                            "</table>\n"
                        ],
                        "text/latex": [
                            "A data.frame: 6 × 5\n",
                            "\\begin{tabular}{r|lllll}\n",
                            "  & name & department\\_name & title & overtime & total.earnings\\\\\n",
                            "  & <chr> & <chr> & <chr> & <chr> & <chr>\\\\\n",
                            "\\hline\n",
                            "\t1 & Abadi,Kidani A          & Assessing Department     & Property Officer         &            & \\$46,591.98 \\\\\n",
                            "\t2 & Abasciano,Joseph        & Boston Police Department & Police Officer           & \\$205.92    & \\$97,579.88 \\\\\n",
                            "\t3 & Abban,Christopher John  & Boston Fire Department   & Fire Fighter             & \\$15,884.53 & \\$124,623.25\\\\\n",
                            "\t4 & Abbasi,Sophia           & Green Academy            & Manager (C) (non-ac)     &            & \\$18,249.83 \\\\\n",
                            "\t5 & Abbate-Vaughn,Jorgelina & BPS Ellis Elementary     & Teacher                  &            & \\$85,660.28 \\\\\n",
                            "\t6 & Abberton,James P        & Public Works Department  & Maint Mech (Carpenter)\\#\\# & \\$8,807.47  & \\$50,337.63 \\\\\n",
                            "\\end{tabular}\n"
                        ],
                        "text/markdown": [
                            "\n",
                            "A data.frame: 6 × 5\n",
                            "\n",
                            "| <!--/--> | name &lt;chr&gt; | department_name &lt;chr&gt; | title &lt;chr&gt; | overtime &lt;chr&gt; | total.earnings &lt;chr&gt; |\n",
                            "|---|---|---|---|---|---|\n",
                            "| 1 | Abadi,Kidani A          | Assessing Department     | Property Officer         | <!----> | $46,591.98  |\n",
                            "| 2 | Abasciano,Joseph        | Boston Police Department | Police Officer           | $205.92    | $97,579.88  |\n",
                            "| 3 | Abban,Christopher John  | Boston Fire Department   | Fire Fighter             | $15,884.53 | $124,623.25 |\n",
                            "| 4 | Abbasi,Sophia           | Green Academy            | Manager (C) (non-ac)     | <!----> | $18,249.83  |\n",
                            "| 5 | Abbate-Vaughn,Jorgelina | BPS Ellis Elementary     | Teacher                  | <!----> | $85,660.28  |\n",
                            "| 6 | Abberton,James P        | Public Works Department  | Maint Mech (Carpenter)## | $8,807.47  | $50,337.63  |\n",
                            "\n"
                        ],
                        "text/plain": [
                            "  name                    department_name          title                   \n",
                            "1 Abadi,Kidani A          Assessing Department     Property Officer        \n",
                            "2 Abasciano,Joseph        Boston Police Department Police Officer          \n",
                            "3 Abban,Christopher John  Boston Fire Department   Fire Fighter            \n",
                            "4 Abbasi,Sophia           Green Academy            Manager (C) (non-ac)    \n",
                            "5 Abbate-Vaughn,Jorgelina BPS Ellis Elementary     Teacher                 \n",
                            "6 Abberton,James P        Public Works Department  Maint Mech (Carpenter)##\n",
                            "  overtime   total.earnings\n",
                            "1            $46,591.98    \n",
                            "2 $205.92    $97,579.88    \n",
                            "3 $15,884.53 $124,623.25   \n",
                            "4            $18,249.83    \n",
                            "5            $85,660.28    \n",
                            "6 $8,807.47  $50,337.63    "
                        ]
                    },
                    "metadata": {},
                    "output_type": "display_data"
                }
            ],
            "source": [
                "\n",
                "salary_set |> head(6)\n"
            ]
        },
        {
            "cell_type": "markdown",
            "metadata": {},
            "source": [
                "Sort the data by `total.earnings` using the `arrange()`\n",
                "\n"
            ]
        },
        {
            "cell_type": "code",
            "execution_count": 75,
            "metadata": {
                "vscode": {
                    "languageId": "r"
                }
            },
            "outputs": [
                {
                    "data": {
                        "text/html": [
                            "<table class=\"dataframe\">\n",
                            "<caption>A data.frame: 6 × 5</caption>\n",
                            "<thead>\n",
                            "\t<tr><th></th><th scope=col>name</th><th scope=col>department_name</th><th scope=col>title</th><th scope=col>overtime</th><th scope=col>total.earnings</th></tr>\n",
                            "\t<tr><th></th><th scope=col>&lt;chr&gt;</th><th scope=col>&lt;chr&gt;</th><th scope=col>&lt;chr&gt;</th><th scope=col>&lt;chr&gt;</th><th scope=col>&lt;chr&gt;</th></tr>\n",
                            "</thead>\n",
                            "<tbody>\n",
                            "\t<tr><th scope=row>1</th><td>Kassa,Selamawit </td><td>BPS Substitute Teachers/Nurs</td><td>Substitute Teacher   </td><td></td><td>$990.64</td></tr>\n",
                            "\t<tr><th scope=row>2</th><td>Nixon,Chloe     </td><td>BPS Substitute Teachers/Nurs</td><td>Substitute Teacher   </td><td></td><td>$990.64</td></tr>\n",
                            "\t<tr><th scope=row>3</th><td>Wiggins,Lucas A </td><td>BPS Substitute Teachers/Nurs</td><td>Substitute Teacher   </td><td></td><td>$990.63</td></tr>\n",
                            "\t<tr><th scope=row>4</th><td>Bradshaw,John E.</td><td>BPS Substitute Teachers/Nurs</td><td>Substitute Teacher HE</td><td></td><td>$990.62</td></tr>\n",
                            "\t<tr><th scope=row>5</th><td>McGrath,Caitlin </td><td>BPS Substitute Teachers/Nurs</td><td>Substitute Teacher   </td><td></td><td>$990.61</td></tr>\n",
                            "\t<tr><th scope=row>6</th><td>Zhang,Julia     </td><td>BPS Substitute Teachers/Nurs</td><td>Substitute Teacher   </td><td></td><td>$990.61</td></tr>\n",
                            "</tbody>\n",
                            "</table>\n"
                        ],
                        "text/latex": [
                            "A data.frame: 6 × 5\n",
                            "\\begin{tabular}{r|lllll}\n",
                            "  & name & department\\_name & title & overtime & total.earnings\\\\\n",
                            "  & <chr> & <chr> & <chr> & <chr> & <chr>\\\\\n",
                            "\\hline\n",
                            "\t1 & Kassa,Selamawit  & BPS Substitute Teachers/Nurs & Substitute Teacher    &  & \\$990.64\\\\\n",
                            "\t2 & Nixon,Chloe      & BPS Substitute Teachers/Nurs & Substitute Teacher    &  & \\$990.64\\\\\n",
                            "\t3 & Wiggins,Lucas A  & BPS Substitute Teachers/Nurs & Substitute Teacher    &  & \\$990.63\\\\\n",
                            "\t4 & Bradshaw,John E. & BPS Substitute Teachers/Nurs & Substitute Teacher HE &  & \\$990.62\\\\\n",
                            "\t5 & McGrath,Caitlin  & BPS Substitute Teachers/Nurs & Substitute Teacher    &  & \\$990.61\\\\\n",
                            "\t6 & Zhang,Julia      & BPS Substitute Teachers/Nurs & Substitute Teacher    &  & \\$990.61\\\\\n",
                            "\\end{tabular}\n"
                        ],
                        "text/markdown": [
                            "\n",
                            "A data.frame: 6 × 5\n",
                            "\n",
                            "| <!--/--> | name &lt;chr&gt; | department_name &lt;chr&gt; | title &lt;chr&gt; | overtime &lt;chr&gt; | total.earnings &lt;chr&gt; |\n",
                            "|---|---|---|---|---|---|\n",
                            "| 1 | Kassa,Selamawit  | BPS Substitute Teachers/Nurs | Substitute Teacher    | <!----> | $990.64 |\n",
                            "| 2 | Nixon,Chloe      | BPS Substitute Teachers/Nurs | Substitute Teacher    | <!----> | $990.64 |\n",
                            "| 3 | Wiggins,Lucas A  | BPS Substitute Teachers/Nurs | Substitute Teacher    | <!----> | $990.63 |\n",
                            "| 4 | Bradshaw,John E. | BPS Substitute Teachers/Nurs | Substitute Teacher HE | <!----> | $990.62 |\n",
                            "| 5 | McGrath,Caitlin  | BPS Substitute Teachers/Nurs | Substitute Teacher    | <!----> | $990.61 |\n",
                            "| 6 | Zhang,Julia      | BPS Substitute Teachers/Nurs | Substitute Teacher    | <!----> | $990.61 |\n",
                            "\n"
                        ],
                        "text/plain": [
                            "  name             department_name              title                 overtime\n",
                            "1 Kassa,Selamawit  BPS Substitute Teachers/Nurs Substitute Teacher            \n",
                            "2 Nixon,Chloe      BPS Substitute Teachers/Nurs Substitute Teacher            \n",
                            "3 Wiggins,Lucas A  BPS Substitute Teachers/Nurs Substitute Teacher            \n",
                            "4 Bradshaw,John E. BPS Substitute Teachers/Nurs Substitute Teacher HE         \n",
                            "5 McGrath,Caitlin  BPS Substitute Teachers/Nurs Substitute Teacher            \n",
                            "6 Zhang,Julia      BPS Substitute Teachers/Nurs Substitute Teacher            \n",
                            "  total.earnings\n",
                            "1 $990.64       \n",
                            "2 $990.64       \n",
                            "3 $990.63       \n",
                            "4 $990.62       \n",
                            "5 $990.61       \n",
                            "6 $990.61       "
                        ]
                    },
                    "metadata": {},
                    "output_type": "display_data"
                }
            ],
            "source": [
                "salary_set |> \n",
                "    arrange(desc(total.earnings)) |> \n",
                "    head(6)\n",
                "\n"
            ]
        },
        {
            "cell_type": "markdown",
            "metadata": {},
            "source": [
                "Inspect:\n",
                "\n"
            ]
        },
        {
            "cell_type": "code",
            "execution_count": 68,
            "metadata": {
                "vscode": {
                    "languageId": "r"
                }
            },
            "outputs": [
                {
                    "data": {
                        "text/html": [
                            "'character'"
                        ],
                        "text/latex": [
                            "'character'"
                        ],
                        "text/markdown": [
                            "'character'"
                        ],
                        "text/plain": [
                            "[1] \"character\""
                        ]
                    },
                    "metadata": {},
                    "output_type": "display_data"
                }
            ],
            "source": [
                "\n",
                "class(salary_set$total.earnings) \n"
            ]
        },
        {
            "cell_type": "markdown",
            "metadata": {},
            "source": [
                "_What went wrong?_\n",
                "\n",
                "The problem is that there are non-numeric characters, `,` and `$`, in the `total.earnings` column. Check the type of the `total.earnings` attribute:\n"
            ]
        },
        {
            "cell_type": "code",
            "execution_count": 69,
            "metadata": {
                "vscode": {
                    "languageId": "r"
                }
            },
            "outputs": [
                {
                    "data": {
                        "text/html": [
                            "'character'"
                        ],
                        "text/latex": [
                            "'character'"
                        ],
                        "text/markdown": [
                            "'character'"
                        ],
                        "text/plain": [
                            "[1] \"character\""
                        ]
                    },
                    "metadata": {},
                    "output_type": "display_data"
                }
            ],
            "source": [
                "\n",
                "class(salary_set$total.earnings) \n"
            ]
        },
        {
            "cell_type": "markdown",
            "metadata": {},
            "source": [
                "We need to find the `,` and `$` in `total.earnings` and remove them (pattern matching and replacement). The `str_replace()` function in the `stringr` package lets us do this easily.\n",
                "\n"
            ]
        },
        {
            "cell_type": "code",
            "execution_count": 76,
            "metadata": {
                "vscode": {
                    "languageId": "r"
                }
            },
            "outputs": [
                {
                    "data": {
                        "text/html": [
                            "<table class=\"dataframe\">\n",
                            "<caption>A data.frame: 6 × 5</caption>\n",
                            "<thead>\n",
                            "\t<tr><th></th><th scope=col>name</th><th scope=col>department_name</th><th scope=col>title</th><th scope=col>overtime</th><th scope=col>total.earnings</th></tr>\n",
                            "\t<tr><th></th><th scope=col>&lt;chr&gt;</th><th scope=col>&lt;chr&gt;</th><th scope=col>&lt;chr&gt;</th><th scope=col>&lt;chr&gt;</th><th scope=col>&lt;dbl&gt;</th></tr>\n",
                            "</thead>\n",
                            "<tbody>\n",
                            "\t<tr><th scope=row>1</th><td>Abadi,Kidani A         </td><td>Assessing Department    </td><td>Property Officer        </td><td>        </td><td> 46591.98</td></tr>\n",
                            "\t<tr><th scope=row>2</th><td>Abasciano,Joseph       </td><td>Boston Police Department</td><td>Police Officer          </td><td>205.92  </td><td> 97579.88</td></tr>\n",
                            "\t<tr><th scope=row>3</th><td>Abban,Christopher John </td><td>Boston Fire Department  </td><td>Fire Fighter            </td><td>15884.53</td><td>124623.25</td></tr>\n",
                            "\t<tr><th scope=row>4</th><td>Abbasi,Sophia          </td><td>Green Academy           </td><td>Manager (C) (non-ac)    </td><td>        </td><td> 18249.83</td></tr>\n",
                            "\t<tr><th scope=row>5</th><td>Abbate-Vaughn,Jorgelina</td><td>BPS Ellis Elementary    </td><td>Teacher                 </td><td>        </td><td> 85660.28</td></tr>\n",
                            "\t<tr><th scope=row>6</th><td>Abberton,James P       </td><td>Public Works Department </td><td>Maint Mech (Carpenter)##</td><td>8807.47 </td><td> 50337.63</td></tr>\n",
                            "</tbody>\n",
                            "</table>\n"
                        ],
                        "text/latex": [
                            "A data.frame: 6 × 5\n",
                            "\\begin{tabular}{r|lllll}\n",
                            "  & name & department\\_name & title & overtime & total.earnings\\\\\n",
                            "  & <chr> & <chr> & <chr> & <chr> & <dbl>\\\\\n",
                            "\\hline\n",
                            "\t1 & Abadi,Kidani A          & Assessing Department     & Property Officer         &          &  46591.98\\\\\n",
                            "\t2 & Abasciano,Joseph        & Boston Police Department & Police Officer           & 205.92   &  97579.88\\\\\n",
                            "\t3 & Abban,Christopher John  & Boston Fire Department   & Fire Fighter             & 15884.53 & 124623.25\\\\\n",
                            "\t4 & Abbasi,Sophia           & Green Academy            & Manager (C) (non-ac)     &          &  18249.83\\\\\n",
                            "\t5 & Abbate-Vaughn,Jorgelina & BPS Ellis Elementary     & Teacher                  &          &  85660.28\\\\\n",
                            "\t6 & Abberton,James P        & Public Works Department  & Maint Mech (Carpenter)\\#\\# & 8807.47  &  50337.63\\\\\n",
                            "\\end{tabular}\n"
                        ],
                        "text/markdown": [
                            "\n",
                            "A data.frame: 6 × 5\n",
                            "\n",
                            "| <!--/--> | name &lt;chr&gt; | department_name &lt;chr&gt; | title &lt;chr&gt; | overtime &lt;chr&gt; | total.earnings &lt;dbl&gt; |\n",
                            "|---|---|---|---|---|---|\n",
                            "| 1 | Abadi,Kidani A          | Assessing Department     | Property Officer         | <!----> |  46591.98 |\n",
                            "| 2 | Abasciano,Joseph        | Boston Police Department | Police Officer           | 205.92   |  97579.88 |\n",
                            "| 3 | Abban,Christopher John  | Boston Fire Department   | Fire Fighter             | 15884.53 | 124623.25 |\n",
                            "| 4 | Abbasi,Sophia           | Green Academy            | Manager (C) (non-ac)     | <!----> |  18249.83 |\n",
                            "| 5 | Abbate-Vaughn,Jorgelina | BPS Ellis Elementary     | Teacher                  | <!----> |  85660.28 |\n",
                            "| 6 | Abberton,James P        | Public Works Department  | Maint Mech (Carpenter)## | 8807.47  |  50337.63 |\n",
                            "\n"
                        ],
                        "text/plain": [
                            "  name                    department_name          title                   \n",
                            "1 Abadi,Kidani A          Assessing Department     Property Officer        \n",
                            "2 Abasciano,Joseph        Boston Police Department Police Officer          \n",
                            "3 Abban,Christopher John  Boston Fire Department   Fire Fighter            \n",
                            "4 Abbasi,Sophia           Green Academy            Manager (C) (non-ac)    \n",
                            "5 Abbate-Vaughn,Jorgelina BPS Ellis Elementary     Teacher                 \n",
                            "6 Abberton,James P        Public Works Department  Maint Mech (Carpenter)##\n",
                            "  overtime total.earnings\n",
                            "1           46591.98     \n",
                            "2 205.92    97579.88     \n",
                            "3 15884.53 124623.25     \n",
                            "4           18249.83     \n",
                            "5           85660.28     \n",
                            "6 8807.47   50337.63     "
                        ]
                    },
                    "metadata": {},
                    "output_type": "display_data"
                }
            ],
            "source": [
                "\n",
                "salary_set$total.earnings <- str_replace_all(salary_set$total.earnings, \"\\\\$\", \"\")\n",
                "salary_set$total.earnings <- str_replace_all(salary_set$total.earnings, \",\", \"\")\n",
                "salary_set$overtime <- str_replace_all(salary_set$overtime, \"\\\\$\", \"\")\n",
                "salary_set$overtime <- str_replace_all(salary_set$overtime, \",\", \"\")\n",
                "salary_set$total.earnings <- as.numeric(salary_set$total.earnings)\n",
                "\n",
                "salary_set |> head(6)\n"
            ]
        },
        {
            "cell_type": "markdown",
            "metadata": {},
            "source": [
                "The dollar sign `$` is trickier. Let us try doing the exact same thing, except let's set `pattern = '$'` instead of `pattern = ','`:\n",
                "\n"
            ]
        },
        {
            "cell_type": "code",
            "execution_count": 77,
            "metadata": {
                "vscode": {
                    "languageId": "r"
                }
            },
            "outputs": [
                {
                    "data": {
                        "text/html": [
                            "<table class=\"dataframe\">\n",
                            "<caption>A data.frame: 6 × 5</caption>\n",
                            "<thead>\n",
                            "\t<tr><th></th><th scope=col>name</th><th scope=col>department_name</th><th scope=col>title</th><th scope=col>overtime</th><th scope=col>total.earnings</th></tr>\n",
                            "\t<tr><th></th><th scope=col>&lt;chr&gt;</th><th scope=col>&lt;chr&gt;</th><th scope=col>&lt;chr&gt;</th><th scope=col>&lt;chr&gt;</th><th scope=col>&lt;dbl&gt;</th></tr>\n",
                            "</thead>\n",
                            "<tbody>\n",
                            "\t<tr><th scope=row>1</th><td>Lee,Waiman       </td><td>Boston Police Department</td><td>Police Detective              </td><td>58600.49</td><td>403408.6</td></tr>\n",
                            "\t<tr><th scope=row>2</th><td>Josey,Windell C. </td><td>Boston Police Department</td><td>Police Detective              </td><td>89610.71</td><td>396348.5</td></tr>\n",
                            "\t<tr><th scope=row>3</th><td>Painten,Paul A   </td><td>Boston Police Department</td><td>Police Detective              </td><td>82482.12</td><td>373959.3</td></tr>\n",
                            "\t<tr><th scope=row>4</th><td>Brown,Gregory    </td><td>Boston Police Department</td><td>Police Detective              </td><td>87511.88</td><td>351825.5</td></tr>\n",
                            "\t<tr><th scope=row>5</th><td>Hosein,Haseeb    </td><td>Boston Police Department</td><td>Police Captain/DDC            </td><td>50719.02</td><td>346105.2</td></tr>\n",
                            "\t<tr><th scope=row>6</th><td>Kervin,Timothy M.</td><td>Boston Police Department</td><td>Police Lieutenant/Hdq Dispatch</td><td>87167.66</td><td>343818.2</td></tr>\n",
                            "</tbody>\n",
                            "</table>\n"
                        ],
                        "text/latex": [
                            "A data.frame: 6 × 5\n",
                            "\\begin{tabular}{r|lllll}\n",
                            "  & name & department\\_name & title & overtime & total.earnings\\\\\n",
                            "  & <chr> & <chr> & <chr> & <chr> & <dbl>\\\\\n",
                            "\\hline\n",
                            "\t1 & Lee,Waiman        & Boston Police Department & Police Detective               & 58600.49 & 403408.6\\\\\n",
                            "\t2 & Josey,Windell C.  & Boston Police Department & Police Detective               & 89610.71 & 396348.5\\\\\n",
                            "\t3 & Painten,Paul A    & Boston Police Department & Police Detective               & 82482.12 & 373959.3\\\\\n",
                            "\t4 & Brown,Gregory     & Boston Police Department & Police Detective               & 87511.88 & 351825.5\\\\\n",
                            "\t5 & Hosein,Haseeb     & Boston Police Department & Police Captain/DDC             & 50719.02 & 346105.2\\\\\n",
                            "\t6 & Kervin,Timothy M. & Boston Police Department & Police Lieutenant/Hdq Dispatch & 87167.66 & 343818.2\\\\\n",
                            "\\end{tabular}\n"
                        ],
                        "text/markdown": [
                            "\n",
                            "A data.frame: 6 × 5\n",
                            "\n",
                            "| <!--/--> | name &lt;chr&gt; | department_name &lt;chr&gt; | title &lt;chr&gt; | overtime &lt;chr&gt; | total.earnings &lt;dbl&gt; |\n",
                            "|---|---|---|---|---|---|\n",
                            "| 1 | Lee,Waiman        | Boston Police Department | Police Detective               | 58600.49 | 403408.6 |\n",
                            "| 2 | Josey,Windell C.  | Boston Police Department | Police Detective               | 89610.71 | 396348.5 |\n",
                            "| 3 | Painten,Paul A    | Boston Police Department | Police Detective               | 82482.12 | 373959.3 |\n",
                            "| 4 | Brown,Gregory     | Boston Police Department | Police Detective               | 87511.88 | 351825.5 |\n",
                            "| 5 | Hosein,Haseeb     | Boston Police Department | Police Captain/DDC             | 50719.02 | 346105.2 |\n",
                            "| 6 | Kervin,Timothy M. | Boston Police Department | Police Lieutenant/Hdq Dispatch | 87167.66 | 343818.2 |\n",
                            "\n"
                        ],
                        "text/plain": [
                            "  name              department_name          title                         \n",
                            "1 Lee,Waiman        Boston Police Department Police Detective              \n",
                            "2 Josey,Windell C.  Boston Police Department Police Detective              \n",
                            "3 Painten,Paul A    Boston Police Department Police Detective              \n",
                            "4 Brown,Gregory     Boston Police Department Police Detective              \n",
                            "5 Hosein,Haseeb     Boston Police Department Police Captain/DDC            \n",
                            "6 Kervin,Timothy M. Boston Police Department Police Lieutenant/Hdq Dispatch\n",
                            "  overtime total.earnings\n",
                            "1 58600.49 403408.6      \n",
                            "2 89610.71 396348.5      \n",
                            "3 82482.12 373959.3      \n",
                            "4 87511.88 351825.5      \n",
                            "5 50719.02 346105.2      \n",
                            "6 87167.66 343818.2      "
                        ]
                    },
                    "metadata": {},
                    "output_type": "display_data"
                }
            ],
            "source": [
                "\n",
                "salary_set |> \n",
                "    arrange(desc(total.earnings)) |> \n",
                "    head(6)\n"
            ]
        },
        {
            "cell_type": "markdown",
            "metadata": {},
            "source": [
                "\n",
                "\n"
            ]
        },
        {
            "cell_type": "code",
            "execution_count": 83,
            "metadata": {
                "vscode": {
                    "languageId": "r"
                }
            },
            "outputs": [
                {
                    "data": {
                        "text/html": [
                            "<table class=\"dataframe\">\n",
                            "<caption>A tibble: 55 × 2</caption>\n",
                            "<thead>\n",
                            "\t<tr><th scope=col>title</th><th scope=col>avg_earnings</th></tr>\n",
                            "\t<tr><th scope=col>&lt;chr&gt;</th><th scope=col>&lt;dbl&gt;</th></tr>\n",
                            "</thead>\n",
                            "<tbody>\n",
                            "\t<tr><td>Police Sergeant/Hdq Dispatcher</td><td>290398.540</td></tr>\n",
                            "\t<tr><td>Police Lieutenant/Hdq Dispatch</td><td>283031.333</td></tr>\n",
                            "\t<tr><td>Police Lieut/Paid Detail Ser  </td><td>279348.120</td></tr>\n",
                            "\t<tr><td>Police Captain                </td><td>267909.210</td></tr>\n",
                            "\t<tr><td>Police Captain-DDC/HRCD       </td><td>266890.600</td></tr>\n",
                            "\t<tr><td>Police Lieut (Det)            </td><td>253332.240</td></tr>\n",
                            "\t<tr><td>Police Captain/DDC            </td><td>251699.349</td></tr>\n",
                            "\t<tr><td>Police Captain (Det)          </td><td>243248.753</td></tr>\n",
                            "\t<tr><td>Police Sergeant/Bomb Squad    </td><td>232847.785</td></tr>\n",
                            "\t<tr><td>Police Capt/DDC-Hackney Inves </td><td>226544.980</td></tr>\n",
                            "\t<tr><td>Police Lieutenant (Det)       </td><td>226131.772</td></tr>\n",
                            "\t<tr><td>Police Sergeant/CHF RADIO DISP</td><td>206582.781</td></tr>\n",
                            "\t<tr><td>Police Sergeant/Pd Det Serv   </td><td>205050.285</td></tr>\n",
                            "\t<tr><td>Police Lieutenant             </td><td>204549.872</td></tr>\n",
                            "\t<tr><td>Police Sergeant/FgrPrt Ev Tech</td><td>203119.227</td></tr>\n",
                            "\t<tr><td>Police Sergeant (Det)         </td><td>202514.747</td></tr>\n",
                            "\t<tr><td>Police Lieut/Acad Instr       </td><td>195532.745</td></tr>\n",
                            "\t<tr><td>PoliceSergeant/SupvCourtCases </td><td>193794.560</td></tr>\n",
                            "\t<tr><td>Police Detective              </td><td>193516.062</td></tr>\n",
                            "\t<tr><td>Police Sergeant/Mobile Oper   </td><td>191995.497</td></tr>\n",
                            "\t<tr><td>Police Sergeant/Comm Serv Offc</td><td>188216.340</td></tr>\n",
                            "\t<tr><td>Police Sergeant               </td><td>181684.449</td></tr>\n",
                            "\t<tr><td>Police Sergeant/AcadInstructor</td><td>179735.977</td></tr>\n",
                            "\t<tr><td>Police Lieutenant/Mobile Oper </td><td>175748.450</td></tr>\n",
                            "\t<tr><td>Police Offc Canine Offc 2$6   </td><td>156834.036</td></tr>\n",
                            "\t<tr><td>Police Officer Harborboat 3$8 </td><td>153762.652</td></tr>\n",
                            "\t<tr><td>Police Offc/Auto Invest 4$10  </td><td>153548.113</td></tr>\n",
                            "\t<tr><td>Police Offc Comm Serv Offc 3$8</td><td>151646.727</td></tr>\n",
                            "\t<tr><td>Police Sergeant/Hackney Invest</td><td>146621.495</td></tr>\n",
                            "\t<tr><td>Police Officer Mobile Oper 2$6</td><td>143656.850</td></tr>\n",
                            "\t<tr><td>Police Offc/FgrPrt Ev Tch 4$10</td><td>143027.576</td></tr>\n",
                            "\t<tr><td>Police Offc Breath $13.50     </td><td>140667.740</td></tr>\n",
                            "\t<tr><td>Police Offc/Juvenile Offc 4$10</td><td>140627.445</td></tr>\n",
                            "\t<tr><td>Police Offc/Bomb Squad        </td><td>137974.048</td></tr>\n",
                            "\t<tr><td>Police Offc/Hosp Liaison 4$10 </td><td>136642.280</td></tr>\n",
                            "\t<tr><td>Police Offc Mobile Offc 2$6   </td><td>136157.250</td></tr>\n",
                            "\t<tr><td>Police Officer Hdq Dispatch   </td><td>135206.244</td></tr>\n",
                            "\t<tr><td>Police Offc Hackney Invest 3$8</td><td>134577.746</td></tr>\n",
                            "\t<tr><td>Police Offc Bomb Squad        </td><td>134247.930</td></tr>\n",
                            "\t<tr><td>Police Offc Canine 2$6        </td><td>130954.806</td></tr>\n",
                            "\t<tr><td>Police Offc Acad Instr 2$6    </td><td>129949.797</td></tr>\n",
                            "\t<tr><td>Police Offc Ballistician 4$10 </td><td>129658.897</td></tr>\n",
                            "\t<tr><td>Police Offc Harborboat 3$8    </td><td>125719.480</td></tr>\n",
                            "\t<tr><td>Police Officer                </td><td>124498.294</td></tr>\n",
                            "\t<tr><td>Dir-Public Info (Police)      </td><td>120158.110</td></tr>\n",
                            "\t<tr><td>Supn-Police Buildings         </td><td>103490.040</td></tr>\n",
                            "\t<tr><td>Police Dispatcher             </td><td> 78733.155</td></tr>\n",
                            "\t<tr><td>Admin Asst (Police)           </td><td> 73620.490</td></tr>\n",
                            "\t<tr><td>Sergeant-Bps Police           </td><td> 63413.006</td></tr>\n",
                            "\t<tr><td>Police Clerk And Typist       </td><td> 47688.133</td></tr>\n",
                            "\t<tr><td>Officer-Bps Police            </td><td> 46870.740</td></tr>\n",
                            "\t<tr><td>Boston Muni Police Lieutenant </td><td>  5161.100</td></tr>\n",
                            "\t<tr><td>BostonMunicipalPoliceSergeant </td><td>  4495.997</td></tr>\n",
                            "\t<tr><td>Cadet (Police)                </td><td>  4322.884</td></tr>\n",
                            "\t<tr><td>Boston Municipal PoliceOfficer</td><td>  2664.180</td></tr>\n",
                            "</tbody>\n",
                            "</table>\n"
                        ],
                        "text/latex": [
                            "A tibble: 55 × 2\n",
                            "\\begin{tabular}{ll}\n",
                            " title & avg\\_earnings\\\\\n",
                            " <chr> & <dbl>\\\\\n",
                            "\\hline\n",
                            "\t Police Sergeant/Hdq Dispatcher & 290398.540\\\\\n",
                            "\t Police Lieutenant/Hdq Dispatch & 283031.333\\\\\n",
                            "\t Police Lieut/Paid Detail Ser   & 279348.120\\\\\n",
                            "\t Police Captain                 & 267909.210\\\\\n",
                            "\t Police Captain-DDC/HRCD        & 266890.600\\\\\n",
                            "\t Police Lieut (Det)             & 253332.240\\\\\n",
                            "\t Police Captain/DDC             & 251699.349\\\\\n",
                            "\t Police Captain (Det)           & 243248.753\\\\\n",
                            "\t Police Sergeant/Bomb Squad     & 232847.785\\\\\n",
                            "\t Police Capt/DDC-Hackney Inves  & 226544.980\\\\\n",
                            "\t Police Lieutenant (Det)        & 226131.772\\\\\n",
                            "\t Police Sergeant/CHF RADIO DISP & 206582.781\\\\\n",
                            "\t Police Sergeant/Pd Det Serv    & 205050.285\\\\\n",
                            "\t Police Lieutenant              & 204549.872\\\\\n",
                            "\t Police Sergeant/FgrPrt Ev Tech & 203119.227\\\\\n",
                            "\t Police Sergeant (Det)          & 202514.747\\\\\n",
                            "\t Police Lieut/Acad Instr        & 195532.745\\\\\n",
                            "\t PoliceSergeant/SupvCourtCases  & 193794.560\\\\\n",
                            "\t Police Detective               & 193516.062\\\\\n",
                            "\t Police Sergeant/Mobile Oper    & 191995.497\\\\\n",
                            "\t Police Sergeant/Comm Serv Offc & 188216.340\\\\\n",
                            "\t Police Sergeant                & 181684.449\\\\\n",
                            "\t Police Sergeant/AcadInstructor & 179735.977\\\\\n",
                            "\t Police Lieutenant/Mobile Oper  & 175748.450\\\\\n",
                            "\t Police Offc Canine Offc 2\\$6    & 156834.036\\\\\n",
                            "\t Police Officer Harborboat 3\\$8  & 153762.652\\\\\n",
                            "\t Police Offc/Auto Invest 4\\$10   & 153548.113\\\\\n",
                            "\t Police Offc Comm Serv Offc 3\\$8 & 151646.727\\\\\n",
                            "\t Police Sergeant/Hackney Invest & 146621.495\\\\\n",
                            "\t Police Officer Mobile Oper 2\\$6 & 143656.850\\\\\n",
                            "\t Police Offc/FgrPrt Ev Tch 4\\$10 & 143027.576\\\\\n",
                            "\t Police Offc Breath \\$13.50      & 140667.740\\\\\n",
                            "\t Police Offc/Juvenile Offc 4\\$10 & 140627.445\\\\\n",
                            "\t Police Offc/Bomb Squad         & 137974.048\\\\\n",
                            "\t Police Offc/Hosp Liaison 4\\$10  & 136642.280\\\\\n",
                            "\t Police Offc Mobile Offc 2\\$6    & 136157.250\\\\\n",
                            "\t Police Officer Hdq Dispatch    & 135206.244\\\\\n",
                            "\t Police Offc Hackney Invest 3\\$8 & 134577.746\\\\\n",
                            "\t Police Offc Bomb Squad         & 134247.930\\\\\n",
                            "\t Police Offc Canine 2\\$6         & 130954.806\\\\\n",
                            "\t Police Offc Acad Instr 2\\$6     & 129949.797\\\\\n",
                            "\t Police Offc Ballistician 4\\$10  & 129658.897\\\\\n",
                            "\t Police Offc Harborboat 3\\$8     & 125719.480\\\\\n",
                            "\t Police Officer                 & 124498.294\\\\\n",
                            "\t Dir-Public Info (Police)       & 120158.110\\\\\n",
                            "\t Supn-Police Buildings          & 103490.040\\\\\n",
                            "\t Police Dispatcher              &  78733.155\\\\\n",
                            "\t Admin Asst (Police)            &  73620.490\\\\\n",
                            "\t Sergeant-Bps Police            &  63413.006\\\\\n",
                            "\t Police Clerk And Typist        &  47688.133\\\\\n",
                            "\t Officer-Bps Police             &  46870.740\\\\\n",
                            "\t Boston Muni Police Lieutenant  &   5161.100\\\\\n",
                            "\t BostonMunicipalPoliceSergeant  &   4495.997\\\\\n",
                            "\t Cadet (Police)                 &   4322.884\\\\\n",
                            "\t Boston Municipal PoliceOfficer &   2664.180\\\\\n",
                            "\\end{tabular}\n"
                        ],
                        "text/markdown": [
                            "\n",
                            "A tibble: 55 × 2\n",
                            "\n",
                            "| title &lt;chr&gt; | avg_earnings &lt;dbl&gt; |\n",
                            "|---|---|\n",
                            "| Police Sergeant/Hdq Dispatcher | 290398.540 |\n",
                            "| Police Lieutenant/Hdq Dispatch | 283031.333 |\n",
                            "| Police Lieut/Paid Detail Ser   | 279348.120 |\n",
                            "| Police Captain                 | 267909.210 |\n",
                            "| Police Captain-DDC/HRCD        | 266890.600 |\n",
                            "| Police Lieut (Det)             | 253332.240 |\n",
                            "| Police Captain/DDC             | 251699.349 |\n",
                            "| Police Captain (Det)           | 243248.753 |\n",
                            "| Police Sergeant/Bomb Squad     | 232847.785 |\n",
                            "| Police Capt/DDC-Hackney Inves  | 226544.980 |\n",
                            "| Police Lieutenant (Det)        | 226131.772 |\n",
                            "| Police Sergeant/CHF RADIO DISP | 206582.781 |\n",
                            "| Police Sergeant/Pd Det Serv    | 205050.285 |\n",
                            "| Police Lieutenant              | 204549.872 |\n",
                            "| Police Sergeant/FgrPrt Ev Tech | 203119.227 |\n",
                            "| Police Sergeant (Det)          | 202514.747 |\n",
                            "| Police Lieut/Acad Instr        | 195532.745 |\n",
                            "| PoliceSergeant/SupvCourtCases  | 193794.560 |\n",
                            "| Police Detective               | 193516.062 |\n",
                            "| Police Sergeant/Mobile Oper    | 191995.497 |\n",
                            "| Police Sergeant/Comm Serv Offc | 188216.340 |\n",
                            "| Police Sergeant                | 181684.449 |\n",
                            "| Police Sergeant/AcadInstructor | 179735.977 |\n",
                            "| Police Lieutenant/Mobile Oper  | 175748.450 |\n",
                            "| Police Offc Canine Offc 2$6    | 156834.036 |\n",
                            "| Police Officer Harborboat 3$8  | 153762.652 |\n",
                            "| Police Offc/Auto Invest 4$10   | 153548.113 |\n",
                            "| Police Offc Comm Serv Offc 3$8 | 151646.727 |\n",
                            "| Police Sergeant/Hackney Invest | 146621.495 |\n",
                            "| Police Officer Mobile Oper 2$6 | 143656.850 |\n",
                            "| Police Offc/FgrPrt Ev Tch 4$10 | 143027.576 |\n",
                            "| Police Offc Breath $13.50      | 140667.740 |\n",
                            "| Police Offc/Juvenile Offc 4$10 | 140627.445 |\n",
                            "| Police Offc/Bomb Squad         | 137974.048 |\n",
                            "| Police Offc/Hosp Liaison 4$10  | 136642.280 |\n",
                            "| Police Offc Mobile Offc 2$6    | 136157.250 |\n",
                            "| Police Officer Hdq Dispatch    | 135206.244 |\n",
                            "| Police Offc Hackney Invest 3$8 | 134577.746 |\n",
                            "| Police Offc Bomb Squad         | 134247.930 |\n",
                            "| Police Offc Canine 2$6         | 130954.806 |\n",
                            "| Police Offc Acad Instr 2$6     | 129949.797 |\n",
                            "| Police Offc Ballistician 4$10  | 129658.897 |\n",
                            "| Police Offc Harborboat 3$8     | 125719.480 |\n",
                            "| Police Officer                 | 124498.294 |\n",
                            "| Dir-Public Info (Police)       | 120158.110 |\n",
                            "| Supn-Police Buildings          | 103490.040 |\n",
                            "| Police Dispatcher              |  78733.155 |\n",
                            "| Admin Asst (Police)            |  73620.490 |\n",
                            "| Sergeant-Bps Police            |  63413.006 |\n",
                            "| Police Clerk And Typist        |  47688.133 |\n",
                            "| Officer-Bps Police             |  46870.740 |\n",
                            "| Boston Muni Police Lieutenant  |   5161.100 |\n",
                            "| BostonMunicipalPoliceSergeant  |   4495.997 |\n",
                            "| Cadet (Police)                 |   4322.884 |\n",
                            "| Boston Municipal PoliceOfficer |   2664.180 |\n",
                            "\n"
                        ],
                        "text/plain": [
                            "   title                          avg_earnings\n",
                            "1  Police Sergeant/Hdq Dispatcher 290398.540  \n",
                            "2  Police Lieutenant/Hdq Dispatch 283031.333  \n",
                            "3  Police Lieut/Paid Detail Ser   279348.120  \n",
                            "4  Police Captain                 267909.210  \n",
                            "5  Police Captain-DDC/HRCD        266890.600  \n",
                            "6  Police Lieut (Det)             253332.240  \n",
                            "7  Police Captain/DDC             251699.349  \n",
                            "8  Police Captain (Det)           243248.753  \n",
                            "9  Police Sergeant/Bomb Squad     232847.785  \n",
                            "10 Police Capt/DDC-Hackney Inves  226544.980  \n",
                            "11 Police Lieutenant (Det)        226131.772  \n",
                            "12 Police Sergeant/CHF RADIO DISP 206582.781  \n",
                            "13 Police Sergeant/Pd Det Serv    205050.285  \n",
                            "14 Police Lieutenant              204549.872  \n",
                            "15 Police Sergeant/FgrPrt Ev Tech 203119.227  \n",
                            "16 Police Sergeant (Det)          202514.747  \n",
                            "17 Police Lieut/Acad Instr        195532.745  \n",
                            "18 PoliceSergeant/SupvCourtCases  193794.560  \n",
                            "19 Police Detective               193516.062  \n",
                            "20 Police Sergeant/Mobile Oper    191995.497  \n",
                            "21 Police Sergeant/Comm Serv Offc 188216.340  \n",
                            "22 Police Sergeant                181684.449  \n",
                            "23 Police Sergeant/AcadInstructor 179735.977  \n",
                            "24 Police Lieutenant/Mobile Oper  175748.450  \n",
                            "25 Police Offc Canine Offc 2$6    156834.036  \n",
                            "26 Police Officer Harborboat 3$8  153762.652  \n",
                            "27 Police Offc/Auto Invest 4$10   153548.113  \n",
                            "28 Police Offc Comm Serv Offc 3$8 151646.727  \n",
                            "29 Police Sergeant/Hackney Invest 146621.495  \n",
                            "30 Police Officer Mobile Oper 2$6 143656.850  \n",
                            "31 Police Offc/FgrPrt Ev Tch 4$10 143027.576  \n",
                            "32 Police Offc Breath $13.50      140667.740  \n",
                            "33 Police Offc/Juvenile Offc 4$10 140627.445  \n",
                            "34 Police Offc/Bomb Squad         137974.048  \n",
                            "35 Police Offc/Hosp Liaison 4$10  136642.280  \n",
                            "36 Police Offc Mobile Offc 2$6    136157.250  \n",
                            "37 Police Officer Hdq Dispatch    135206.244  \n",
                            "38 Police Offc Hackney Invest 3$8 134577.746  \n",
                            "39 Police Offc Bomb Squad         134247.930  \n",
                            "40 Police Offc Canine 2$6         130954.806  \n",
                            "41 Police Offc Acad Instr 2$6     129949.797  \n",
                            "42 Police Offc Ballistician 4$10  129658.897  \n",
                            "43 Police Offc Harborboat 3$8     125719.480  \n",
                            "44 Police Officer                 124498.294  \n",
                            "45 Dir-Public Info (Police)       120158.110  \n",
                            "46 Supn-Police Buildings          103490.040  \n",
                            "47 Police Dispatcher               78733.155  \n",
                            "48 Admin Asst (Police)             73620.490  \n",
                            "49 Sergeant-Bps Police             63413.006  \n",
                            "50 Police Clerk And Typist         47688.133  \n",
                            "51 Officer-Bps Police              46870.740  \n",
                            "52 Boston Muni Police Lieutenant    5161.100  \n",
                            "53 BostonMunicipalPoliceSergeant    4495.997  \n",
                            "54 Cadet (Police)                   4322.884  \n",
                            "55 Boston Municipal PoliceOfficer   2664.180  "
                        ]
                    },
                    "metadata": {},
                    "output_type": "display_data"
                }
            ],
            "source": [
                "\n",
                "avg_officer_earnings <- salary_set |> \n",
                "    filter(grepl(\"police\", title, ignore.case = TRUE)) |>\n",
                "    group_by(title) |>\n",
                "    summarise(avg_earnings = mean(total.earnings)) |> \n",
                "    arrange(desc(avg_earnings))\n",
                "\n",
                "avg_officer_earnings |> View()\n"
            ]
        },
        {
            "cell_type": "markdown",
            "metadata": {},
            "source": [
                "`$` is known as a \"special character\" or \"metacharacter\", along with `*` `+` `.` `?` `[` `]` `^` `{` `}` `|` `(` `)` `\\`. \n",
                "\n",
                "If we want R to literally find a dollar sign, `$`, we can add two backslashes before the dollar sign: `\\\\$`, which lets R know to ignore or \"escape\" the special attributes of `$` on its own.\n"
            ]
        },
        {
            "cell_type": "code",
            "execution_count": null,
            "metadata": {
                "vscode": {
                    "languageId": "r"
                }
            },
            "outputs": [],
            "source": [
                "\n",
                "\n"
            ]
        },
        {
            "cell_type": "markdown",
            "metadata": {},
            "source": [
                "Inspect again:\n",
                "\n"
            ]
        },
        {
            "cell_type": "code",
            "execution_count": null,
            "metadata": {
                "vscode": {
                    "languageId": "r"
                }
            },
            "outputs": [],
            "source": [
                "\n",
                "\n"
            ]
        },
        {
            "cell_type": "markdown",
            "metadata": {},
            "source": [
                "Now can we use `arrange()` to sort the data by `total.earnings`?\n",
                "\n"
            ]
        },
        {
            "cell_type": "code",
            "execution_count": null,
            "metadata": {
                "vscode": {
                    "languageId": "r"
                }
            },
            "outputs": [],
            "source": [
                "\n",
                "\n"
            ]
        },
        {
            "cell_type": "markdown",
            "metadata": {},
            "source": [
                "What's the problem? Again, we can use the `class()` function to check on how the `total.earnings` variable is encoded.\n",
                "\n"
            ]
        },
        {
            "cell_type": "code",
            "execution_count": null,
            "metadata": {
                "vscode": {
                    "languageId": "r"
                }
            },
            "outputs": [],
            "source": [
                "\n",
                "\n"
            ]
        },
        {
            "cell_type": "markdown",
            "metadata": {},
            "source": [
                "It's a \"character\" now (still not numeric). Use `as.numeric()` to coerce that column as numeric:\n",
                "\n"
            ]
        },
        {
            "cell_type": "code",
            "execution_count": null,
            "metadata": {
                "vscode": {
                    "languageId": "r"
                }
            },
            "outputs": [],
            "source": [
                "\n",
                "\n"
            ]
        },
        {
            "cell_type": "markdown",
            "metadata": {},
            "source": [
                "Sort again:\n",
                "\n"
            ]
        },
        {
            "cell_type": "code",
            "execution_count": null,
            "metadata": {
                "vscode": {
                    "languageId": "r"
                }
            },
            "outputs": [],
            "source": [
                "\n",
                "\n"
            ]
        },
        {
            "cell_type": "markdown",
            "metadata": {},
            "source": [
                "The Boston Police Department has a lot of high earners. We can figure out the average earnings by department, which we'll call `ave_earnings`, by using the `group_by()` and `summarise()` functions in `dplyr`.\n",
                "\n"
            ]
        },
        {
            "cell_type": "code",
            "execution_count": 46,
            "metadata": {
                "vscode": {
                    "languageId": "r"
                }
            },
            "outputs": [
                {
                    "data": {
                        "text/html": [
                            "<table class=\"dataframe\">\n",
                            "<caption>A tibble: 6 × 2</caption>\n",
                            "<thead>\n",
                            "\t<tr><th scope=col>department_name</th><th scope=col>avg_earnings</th></tr>\n",
                            "\t<tr><th scope=col>&lt;chr&gt;</th><th scope=col>&lt;dbl&gt;</th></tr>\n",
                            "</thead>\n",
                            "<tbody>\n",
                            "\t<tr><td>Asst Superintendent-Network A</td><td>132514.9</td></tr>\n",
                            "\t<tr><td>Superintendent               </td><td>126056.9</td></tr>\n",
                            "\t<tr><td>Boston Police Department     </td><td>124787.2</td></tr>\n",
                            "\t<tr><td>Boston Fire Department       </td><td>122797.4</td></tr>\n",
                            "\t<tr><td>Chief Operating Officer      </td><td>117485.5</td></tr>\n",
                            "\t<tr><td>Strategy Department          </td><td>102616.7</td></tr>\n",
                            "</tbody>\n",
                            "</table>\n"
                        ],
                        "text/latex": [
                            "A tibble: 6 × 2\n",
                            "\\begin{tabular}{ll}\n",
                            " department\\_name & avg\\_earnings\\\\\n",
                            " <chr> & <dbl>\\\\\n",
                            "\\hline\n",
                            "\t Asst Superintendent-Network A & 132514.9\\\\\n",
                            "\t Superintendent                & 126056.9\\\\\n",
                            "\t Boston Police Department      & 124787.2\\\\\n",
                            "\t Boston Fire Department        & 122797.4\\\\\n",
                            "\t Chief Operating Officer       & 117485.5\\\\\n",
                            "\t Strategy Department           & 102616.7\\\\\n",
                            "\\end{tabular}\n"
                        ],
                        "text/markdown": [
                            "\n",
                            "A tibble: 6 × 2\n",
                            "\n",
                            "| department_name &lt;chr&gt; | avg_earnings &lt;dbl&gt; |\n",
                            "|---|---|\n",
                            "| Asst Superintendent-Network A | 132514.9 |\n",
                            "| Superintendent                | 126056.9 |\n",
                            "| Boston Police Department      | 124787.2 |\n",
                            "| Boston Fire Department        | 122797.4 |\n",
                            "| Chief Operating Officer       | 117485.5 |\n",
                            "| Strategy Department           | 102616.7 |\n",
                            "\n"
                        ],
                        "text/plain": [
                            "  department_name               avg_earnings\n",
                            "1 Asst Superintendent-Network A 132514.9    \n",
                            "2 Superintendent                126056.9    \n",
                            "3 Boston Police Department      124787.2    \n",
                            "4 Boston Fire Department        122797.4    \n",
                            "5 Chief Operating Officer       117485.5    \n",
                            "6 Strategy Department           102616.7    "
                        ]
                    },
                    "metadata": {},
                    "output_type": "display_data"
                }
            ],
            "source": [
                "\n",
                "avg_earnings <- salary_set |> \n",
                "    group_by(department_name) |> \n",
                "    summarise(avg_earnings = mean(total.earnings)) |> \n",
                "    arrange(desc(avg_earnings))\n",
                "\n",
                "avg_earnings |> head(6)"
            ]
        },
        {
            "cell_type": "markdown",
            "metadata": {},
            "source": [
                "Check \n",
                "\n"
            ]
        },
        {
            "cell_type": "code",
            "execution_count": null,
            "metadata": {
                "vscode": {
                    "languageId": "r"
                }
            },
            "outputs": [],
            "source": [
                "\n",
                "\n"
            ]
        },
        {
            "cell_type": "markdown",
            "metadata": {},
            "source": [
                "Check the Boston Police Department average\n",
                "\n"
            ]
        },
        {
            "cell_type": "code",
            "execution_count": null,
            "metadata": {
                "vscode": {
                    "languageId": "r"
                }
            },
            "outputs": [],
            "source": [
                "\n",
                "\n"
            ]
        },
        {
            "cell_type": "markdown",
            "metadata": {},
            "source": [
                "## Merging Datasets\n",
                "\n",
                "Now we have two main datasets, `salary_sort` (the salary for each person, sorted from high to low) and `salary_ave` (the average salary for each department). What if I wanted to merge these two together, so I could see side-by-side each person's salary compared to the average for their department?\n"
            ]
        },
        {
            "cell_type": "code",
            "execution_count": 51,
            "metadata": {
                "vscode": {
                    "languageId": "r"
                }
            },
            "outputs": [
                {
                    "data": {
                        "image/png": "[encoded data removed]",
                        "text/plain": [
                            "plot without title"
                        ]
                    },
                    "metadata": {
                        "image/png": {
                            "height": 420,
                            "width": 420
                        }
                    },
                    "output_type": "display_data"
                }
            ],
            "source": [
                "\n",
                "salary_set |>\n",
                "    filter(department_name %in% c(\"Boston Police Department\", \"Boston Public Library\", \"Mayor's Office\", \"Traffic Division\")) |>\n",
                "    ggplot() + \n",
                "    geom_boxplot(aes(x = department_name, y = total.earnings)) +\n",
                "    scale_y_continuous(labels = scales::dollar) \n"
            ]
        },
        {
            "cell_type": "markdown",
            "metadata": {},
            "source": [
                "## Exercise 1 (75 points)\n",
                "\n",
                "Create a side-by-side plot that compares the salaries of those working for the Boston Police Department, the Boston Public Library, the Mayor's Office, and the Traffic Division.\n",
                "\n",
                "\n",
                "Hint: \n",
                "\n",
                "- Generate the dataframe that has the department names of interest\n",
                "- Use the `geom_boxplot()` function with the appropriate aesthetics to compare the salaries of those working in the different departments. \n"
            ]
        },
        {
            "cell_type": "code",
            "execution_count": null,
            "metadata": {
                "vscode": {
                    "languageId": "r"
                }
            },
            "outputs": [],
            "source": [
                "# possible solution\n",
                "\n"
            ]
        },
        {
            "cell_type": "markdown",
            "metadata": {},
            "source": [
                "## Exercise 2 (25 points)\n",
                "\n",
                "For each of the departments studied in the previous exercise, find the employees with the top 5 salaries.\n"
            ]
        },
        {
            "cell_type": "code",
            "execution_count": null,
            "metadata": {
                "vscode": {
                    "languageId": "r"
                }
            },
            "outputs": [],
            "source": [
                "# possible solution\n",
                "\n"
            ]
        },
        {
            "cell_type": "markdown",
            "metadata": {},
            "source": [
                "\n",
                "\n"
            ]
        }
    ],
    "metadata": {
        "anaconda-cloud": "",
        "kernelspec": {
            "display_name": "R",
            "langauge": "R",
            "language": "R",
            "name": "ir"
        },
        "language_info": {
            "codemirror_mode": "r",
            "file_extension": ".r",
            "mimetype": "text/x-r-source",
            "name": "R",
            "pygments_lexer": "r",
            "version": "4.4.2"
        }
    },
    "nbformat": 4,
    "nbformat_minor": 1
}
