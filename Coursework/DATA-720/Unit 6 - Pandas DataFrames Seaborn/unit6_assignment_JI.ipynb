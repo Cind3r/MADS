{
 "cells": [
  {
   "cell_type": "markdown",
   "metadata": {},
   "source": [
    "# Graded: 13 of 13 correct\n",
    "- [x] Read in data\n",
    "- [x] Display first 5 rows\n",
    "- [x] Set `coal` to coal column\n",
    "- [x] Coal min\n",
    "- [x] Coal max\n",
    "- [x] Coal ratio\n",
    "- [x] Coal/gas/petro line plot\n",
    "- [x] Total sum\n",
    "- [x] Bar plot, fraction co2 by state\n",
    "- [x] Total NC\n",
    "- [x] Sort total NC\n",
    "- [x] Plot toal NC\n",
    "- [x] Plot relative change\n",
    "\n",
    "Comments: \n"
   ]
  },
  {
   "cell_type": "markdown",
   "metadata": {},
   "source": [
    "# Assignment 6: Working with Pandas data frames"
   ]
  },
  {
   "cell_type": "code",
   "execution_count": 2,
   "metadata": {},
   "outputs": [
    {
     "data": {
      "application/javascript": "IPython.notebook.set_autosave_interval(15000)"
     },
     "metadata": {},
     "output_type": "display_data"
    },
    {
     "name": "stdout",
     "output_type": "stream",
     "text": [
      "Autosaving every 15 seconds\n"
     ]
    }
   ],
   "source": [
    "%matplotlib inline\n",
    "%autosave 15\n",
    "\n",
    "# these next lines make the array and plotting modules available\n",
    "import numpy as np\n",
    "import matplotlib\n",
    "import matplotlib.pyplot as plt\n",
    "import pandas as pd"
   ]
  },
  {
   "cell_type": "markdown",
   "metadata": {
    "editable": false
   },
   "source": [
    "***\n",
    "## The data\n",
    "\n",
    "* First we will read two data sets from files. \n",
    "* The original data is taken from the <a href=\"https://www.eia.gov/\" target=\"_blank\">U.S. Energy Information Administration</a> setup by the U.S. Congress with a mission to _\"Collect, analyze, and disseminate independent and impartial energy information to promote sound policymaking, efficient markets, and public understanding of energy and its interaction with the economy and the environment.\"_\n",
    "* For this assignment we have made minor data modifications purely for educational purposes.\n",
    "* If you are interested in this data, you can download the actual data from their <a href=\"https://www.eia.gov/opendata/bulkfiles.php\" target=\"_blank\">latest bulk download site</a>.\n",
    "* We will be more than happy to help anyone interested in a more thorough scientific look at this data.\n",
    "\n",
    "### The data sets are:\n",
    "* `states_co2_pd` is a pandas data frame of size `n`&Cross;`3` where the three columns are the number of million metric tons of $CO_2$ produced by that state from coal, natural gas, and petroleum respectively, and `n` is the number of US states in the dataset.\n",
    "\n",
    "* `nc_co2_pd` is a pandas data frame of size `m`&Cross;`3` where the three columns are the number of million metric tons of $CO_2$ produced by the state of North Carolina from coal, natural gas, and petroleum respectively, and `m` is number of years of EIA information.\n",
    "\n",
    "* The two datasets are shown below."
   ]
  },
  {
   "cell_type": "markdown",
   "metadata": {},
   "source": [
    "***\n",
    "## Read in states data\n",
    "1. Set variable `states_co2_pd` to a Pandas DataFrame by reading the `states_co2.csv` file.\n",
    "2. Display the first 5 rows of `states_co2_pd`."
   ]
  },
  {
   "cell_type": "code",
   "execution_count": 3,
   "metadata": {},
   "outputs": [
    {
     "data": {
      "text/html": [
       "<div>\n",
       "<style scoped>\n",
       "    .dataframe tbody tr th:only-of-type {\n",
       "        vertical-align: middle;\n",
       "    }\n",
       "\n",
       "    .dataframe tbody tr th {\n",
       "        vertical-align: top;\n",
       "    }\n",
       "\n",
       "    .dataframe thead th {\n",
       "        text-align: right;\n",
       "    }\n",
       "</style>\n",
       "<table border=\"1\" class=\"dataframe\">\n",
       "  <thead>\n",
       "    <tr style=\"text-align: right;\">\n",
       "      <th></th>\n",
       "      <th>state</th>\n",
       "      <th>coal</th>\n",
       "      <th>natural gas</th>\n",
       "      <th>petroleum</th>\n",
       "    </tr>\n",
       "  </thead>\n",
       "  <tbody>\n",
       "    <tr>\n",
       "      <th>0</th>\n",
       "      <td>Florida</td>\n",
       "      <td>40.242420</td>\n",
       "      <td>75.027273</td>\n",
       "      <td>114.793297</td>\n",
       "    </tr>\n",
       "    <tr>\n",
       "      <th>1</th>\n",
       "      <td>Iowa</td>\n",
       "      <td>28.120345</td>\n",
       "      <td>16.828779</td>\n",
       "      <td>28.183284</td>\n",
       "    </tr>\n",
       "    <tr>\n",
       "      <th>2</th>\n",
       "      <td>Indiana</td>\n",
       "      <td>89.142017</td>\n",
       "      <td>41.388710</td>\n",
       "      <td>51.322376</td>\n",
       "    </tr>\n",
       "    <tr>\n",
       "      <th>3</th>\n",
       "      <td>Alaska</td>\n",
       "      <td>1.563846</td>\n",
       "      <td>17.556345</td>\n",
       "      <td>15.789255</td>\n",
       "    </tr>\n",
       "    <tr>\n",
       "      <th>4</th>\n",
       "      <td>Arizona</td>\n",
       "      <td>30.584560</td>\n",
       "      <td>19.711348</td>\n",
       "      <td>36.710043</td>\n",
       "    </tr>\n",
       "  </tbody>\n",
       "</table>\n",
       "</div>"
      ],
      "text/plain": [
       "     state       coal  natural gas   petroleum\n",
       "0  Florida  40.242420    75.027273  114.793297\n",
       "1     Iowa  28.120345    16.828779   28.183284\n",
       "2  Indiana  89.142017    41.388710   51.322376\n",
       "3   Alaska   1.563846    17.556345   15.789255\n",
       "4  Arizona  30.584560    19.711348   36.710043"
      ]
     },
     "execution_count": 3,
     "metadata": {},
     "output_type": "execute_result"
    }
   ],
   "source": [
    "states_co2_pd = pd.read_csv('states_co2.csv')\n",
    "\n",
    "# Update unnamed column to State\n",
    "states_co2_pd.rename(columns={'Unnamed: 0': 'state'}, inplace=True)\n",
    "\n",
    "states_co2_pd.head(5)\n"
   ]
  },
  {
   "cell_type": "markdown",
   "metadata": {
    "editable": false
   },
   "source": [
    "***\n",
    "## Q1 coal use\n",
    "\n",
    "Each state uses different amounts of coal.\n",
    " 1. Set variable `coal` to the column of `states_co2_pd` that corresponds to coal use.\n",
    " 1. Find the smallest amount of $CO_2$ emitted by any state in 2016 and assign that to `coal_min`\n",
    " 1. Find the largest amount of $CO_2$ emitted by any state in 2016 and assign that to `coal_max`\n",
    " 1. Find the <a href=\"https://www.mathsisfun.com/definitions/ratio.html\" target=\"_blank\">ratio</a> of the state emitting the largest amount of $CO_2$ to the smallest amount (`coal_max:coal_min`) as a real (float) number and assign it to `coal_ratio`.\n",
    " \n",
    " **NOTE:** A more scientific comparison of the output of $CO_2$ from Indiana and Connecticut should consider the population of each state and make a per capita comparison."
   ]
  },
  {
   "cell_type": "code",
   "execution_count": 4,
   "metadata": {
    "execution": {
     "iopub.execute_input": "2021-11-26T19:25:55.497621Z",
     "iopub.status.busy": "2021-11-26T19:25:55.496664Z",
     "iopub.status.idle": "2021-11-26T19:25:55.501221Z",
     "shell.execute_reply": "2021-11-26T19:25:55.500641Z"
    }
   },
   "outputs": [
    {
     "name": "stdout",
     "output_type": "stream",
     "text": [
      "<class 'pandas.core.series.Series'>\n"
     ]
    },
    {
     "data": {
      "text/plain": [
       "0     40.242420\n",
       "1     28.120345\n",
       "2     89.142017\n",
       "3      1.563846\n",
       "4     30.584560\n",
       "5      0.220985\n",
       "6     15.381395\n",
       "7     24.662918\n",
       "8     15.290870\n",
       "9      0.498350\n",
       "10     2.902463\n",
       "11    36.044177\n",
       "12    68.917226\n",
       "13     2.516145\n",
       "14    20.940565\n",
       "15    33.737180\n",
       "16    25.399385\n",
       "Name: coal, dtype: float64"
      ]
     },
     "metadata": {},
     "output_type": "display_data"
    }
   ],
   "source": [
    "# cell 5 of 25\n",
    "\n",
    "coal = states_co2_pd['coal']\n",
    "\n",
    "print(type(coal))\n",
    "display(coal.head(90))"
   ]
  },
  {
   "cell_type": "code",
   "execution_count": 5,
   "metadata": {
    "execution": {
     "iopub.execute_input": "2021-11-26T19:25:55.515310Z",
     "iopub.status.busy": "2021-11-26T19:25:55.514648Z",
     "iopub.status.idle": "2021-11-26T19:25:55.519078Z",
     "shell.execute_reply": "2021-11-26T19:25:55.518548Z"
    }
   },
   "outputs": [
    {
     "name": "stdout",
     "output_type": "stream",
     "text": [
      "<class 'float'>\n",
      "The smallest amount of CO2 emitted by any state in 2016 was 0.220985\n"
     ]
    }
   ],
   "source": [
    "# cell 7 of 25\n",
    "\n",
    "coal_min = coal.min()\n",
    "\n",
    "print(type(coal_min))\n",
    "print('The smallest amount of CO2 emitted by any state in 2016 was', coal_min)"
   ]
  },
  {
   "cell_type": "code",
   "execution_count": 6,
   "metadata": {
    "execution": {
     "iopub.execute_input": "2021-11-26T19:25:55.532165Z",
     "iopub.status.busy": "2021-11-26T19:25:55.531540Z",
     "iopub.status.idle": "2021-11-26T19:25:55.535236Z",
     "shell.execute_reply": "2021-11-26T19:25:55.535714Z"
    }
   },
   "outputs": [
    {
     "name": "stdout",
     "output_type": "stream",
     "text": [
      "The largest amount of CO2 emitted by any state in 2016 was 89.142017\n"
     ]
    }
   ],
   "source": [
    "# cell 9 of 25\n",
    "\n",
    "coal_max = coal.max()\n",
    "print('The largest amount of CO2 emitted by any state in 2016 was', coal_max)"
   ]
  },
  {
   "cell_type": "code",
   "execution_count": 7,
   "metadata": {
    "execution": {
     "iopub.execute_input": "2021-11-26T19:25:55.548140Z",
     "iopub.status.busy": "2021-11-26T19:25:55.547500Z",
     "iopub.status.idle": "2021-11-26T19:25:55.551106Z",
     "shell.execute_reply": "2021-11-26T19:25:55.551543Z"
    }
   },
   "outputs": [
    {
     "name": "stdout",
     "output_type": "stream",
     "text": [
      "The ratio of CO2 emitted in 2016 by the state with the largest amount of CO2 to the state with the smallest was 403.38492205353305\n"
     ]
    }
   ],
   "source": [
    "# cell 11 of 25\n",
    "\n",
    "coal_ratio = coal_max / coal_min\n",
    "\n",
    "print('The ratio of CO2 emitted in 2016 by the state with the largest amount of CO2 to the state with the smallest was', coal_ratio)"
   ]
  },
  {
   "cell_type": "markdown",
   "metadata": {
    "editable": false
   },
   "source": [
    "***\n",
    "# Plotting data\n",
    "\n",
    "## Q2 Plot each states $CO_2$ emissions by source type\n",
    "\n",
    "<img src=\"plot1.png\" width=\"300\" style=\"float: right\" />\n",
    "\n",
    "Similar to variable `coal`,\n",
    "you may want to create a variable `nat_gas` and `petro` that are copies of the columns in `states_co2`.\n",
    "\n",
    "Plot a line graph of $CO_2$ emissions by each of the three source types\n",
    "The graph you produce should look like the figure to the right.\n",
    "You won't have to put in the title or axis labels as\n",
    "they have been provided for you."
   ]
  },
  {
   "cell_type": "code",
   "execution_count": 8,
   "metadata": {},
   "outputs": [],
   "source": [
    "# Create valriables for nat_gal and petro\n",
    "nat_gas = states_co2_pd['natural gas']\n",
    "petro = states_co2_pd['petroleum']"
   ]
  },
  {
   "cell_type": "code",
   "execution_count": 20,
   "metadata": {
    "execution": {
     "iopub.execute_input": "2021-11-26T19:25:55.582674Z",
     "iopub.status.busy": "2021-11-26T19:25:55.581979Z",
     "iopub.status.idle": "2021-11-26T19:25:56.140710Z",
     "shell.execute_reply": "2021-11-26T19:25:56.141233Z"
    }
   },
   "outputs": [
    {
     "ename": "KeyError",
     "evalue": "'states'",
     "output_type": "error",
     "traceback": [
      "\u001b[1;31m---------------------------------------------------------------------------\u001b[0m",
      "\u001b[1;31mKeyError\u001b[0m                                  Traceback (most recent call last)",
      "File \u001b[1;32mc:\\ProgramData\\anaconda3\\Lib\\site-packages\\pandas\\core\\indexes\\base.py:3805\u001b[0m, in \u001b[0;36mIndex.get_loc\u001b[1;34m(self, key)\u001b[0m\n\u001b[0;32m   3804\u001b[0m \u001b[38;5;28;01mtry\u001b[39;00m:\n\u001b[1;32m-> 3805\u001b[0m     \u001b[38;5;28;01mreturn\u001b[39;00m \u001b[38;5;28mself\u001b[39m\u001b[38;5;241m.\u001b[39m_engine\u001b[38;5;241m.\u001b[39mget_loc(casted_key)\n\u001b[0;32m   3806\u001b[0m \u001b[38;5;28;01mexcept\u001b[39;00m \u001b[38;5;167;01mKeyError\u001b[39;00m \u001b[38;5;28;01mas\u001b[39;00m err:\n",
      "File \u001b[1;32mindex.pyx:167\u001b[0m, in \u001b[0;36mpandas._libs.index.IndexEngine.get_loc\u001b[1;34m()\u001b[0m\n",
      "File \u001b[1;32mindex.pyx:196\u001b[0m, in \u001b[0;36mpandas._libs.index.IndexEngine.get_loc\u001b[1;34m()\u001b[0m\n",
      "File \u001b[1;32mpandas\\\\_libs\\\\hashtable_class_helper.pxi:7081\u001b[0m, in \u001b[0;36mpandas._libs.hashtable.PyObjectHashTable.get_item\u001b[1;34m()\u001b[0m\n",
      "File \u001b[1;32mpandas\\\\_libs\\\\hashtable_class_helper.pxi:7089\u001b[0m, in \u001b[0;36mpandas._libs.hashtable.PyObjectHashTable.get_item\u001b[1;34m()\u001b[0m\n",
      "\u001b[1;31mKeyError\u001b[0m: 'states'",
      "\nThe above exception was the direct cause of the following exception:\n",
      "\u001b[1;31mKeyError\u001b[0m                                  Traceback (most recent call last)",
      "Cell \u001b[1;32mIn[20], line 20\u001b[0m\n\u001b[0;32m     18\u001b[0m plt\u001b[38;5;241m.\u001b[39mxlabel(\u001b[38;5;124m'\u001b[39m\u001b[38;5;124mStates\u001b[39m\u001b[38;5;124m'\u001b[39m)\n\u001b[0;32m     19\u001b[0m plt\u001b[38;5;241m.\u001b[39mlegend((\u001b[38;5;124m'\u001b[39m\u001b[38;5;124mCoal\u001b[39m\u001b[38;5;124m'\u001b[39m, \u001b[38;5;124m'\u001b[39m\u001b[38;5;124mNatural gas\u001b[39m\u001b[38;5;124m'\u001b[39m, \u001b[38;5;124m'\u001b[39m\u001b[38;5;124mPetroleum\u001b[39m\u001b[38;5;124m'\u001b[39m), loc\u001b[38;5;241m=\u001b[39m\u001b[38;5;124m'\u001b[39m\u001b[38;5;124mupper right\u001b[39m\u001b[38;5;124m'\u001b[39m)\n\u001b[1;32m---> 20\u001b[0m plt\u001b[38;5;241m.\u001b[39mxticks(\u001b[38;5;28mrange\u001b[39m(\u001b[38;5;28mlen\u001b[39m(states_co2_pd\u001b[38;5;241m.\u001b[39mindex)), states_co2_pd[\u001b[38;5;124m'\u001b[39m\u001b[38;5;124mstates\u001b[39m\u001b[38;5;124m'\u001b[39m], rotation\u001b[38;5;241m=\u001b[39m\u001b[38;5;124m'\u001b[39m\u001b[38;5;124mvertical\u001b[39m\u001b[38;5;124m'\u001b[39m)\n\u001b[0;32m     21\u001b[0m q2_graph \u001b[38;5;241m=\u001b[39m plt\u001b[38;5;241m.\u001b[39mgcf()\n",
      "File \u001b[1;32mc:\\ProgramData\\anaconda3\\Lib\\site-packages\\pandas\\core\\frame.py:4102\u001b[0m, in \u001b[0;36mDataFrame.__getitem__\u001b[1;34m(self, key)\u001b[0m\n\u001b[0;32m   4100\u001b[0m \u001b[38;5;28;01mif\u001b[39;00m \u001b[38;5;28mself\u001b[39m\u001b[38;5;241m.\u001b[39mcolumns\u001b[38;5;241m.\u001b[39mnlevels \u001b[38;5;241m>\u001b[39m \u001b[38;5;241m1\u001b[39m:\n\u001b[0;32m   4101\u001b[0m     \u001b[38;5;28;01mreturn\u001b[39;00m \u001b[38;5;28mself\u001b[39m\u001b[38;5;241m.\u001b[39m_getitem_multilevel(key)\n\u001b[1;32m-> 4102\u001b[0m indexer \u001b[38;5;241m=\u001b[39m \u001b[38;5;28mself\u001b[39m\u001b[38;5;241m.\u001b[39mcolumns\u001b[38;5;241m.\u001b[39mget_loc(key)\n\u001b[0;32m   4103\u001b[0m \u001b[38;5;28;01mif\u001b[39;00m is_integer(indexer):\n\u001b[0;32m   4104\u001b[0m     indexer \u001b[38;5;241m=\u001b[39m [indexer]\n",
      "File \u001b[1;32mc:\\ProgramData\\anaconda3\\Lib\\site-packages\\pandas\\core\\indexes\\base.py:3812\u001b[0m, in \u001b[0;36mIndex.get_loc\u001b[1;34m(self, key)\u001b[0m\n\u001b[0;32m   3807\u001b[0m     \u001b[38;5;28;01mif\u001b[39;00m \u001b[38;5;28misinstance\u001b[39m(casted_key, \u001b[38;5;28mslice\u001b[39m) \u001b[38;5;129;01mor\u001b[39;00m (\n\u001b[0;32m   3808\u001b[0m         \u001b[38;5;28misinstance\u001b[39m(casted_key, abc\u001b[38;5;241m.\u001b[39mIterable)\n\u001b[0;32m   3809\u001b[0m         \u001b[38;5;129;01mand\u001b[39;00m \u001b[38;5;28many\u001b[39m(\u001b[38;5;28misinstance\u001b[39m(x, \u001b[38;5;28mslice\u001b[39m) \u001b[38;5;28;01mfor\u001b[39;00m x \u001b[38;5;129;01min\u001b[39;00m casted_key)\n\u001b[0;32m   3810\u001b[0m     ):\n\u001b[0;32m   3811\u001b[0m         \u001b[38;5;28;01mraise\u001b[39;00m InvalidIndexError(key)\n\u001b[1;32m-> 3812\u001b[0m     \u001b[38;5;28;01mraise\u001b[39;00m \u001b[38;5;167;01mKeyError\u001b[39;00m(key) \u001b[38;5;28;01mfrom\u001b[39;00m \u001b[38;5;21;01merr\u001b[39;00m\n\u001b[0;32m   3813\u001b[0m \u001b[38;5;28;01mexcept\u001b[39;00m \u001b[38;5;167;01mTypeError\u001b[39;00m:\n\u001b[0;32m   3814\u001b[0m     \u001b[38;5;66;03m# If we have a listlike key, _check_indexing_error will raise\u001b[39;00m\n\u001b[0;32m   3815\u001b[0m     \u001b[38;5;66;03m#  InvalidIndexError. Otherwise we fall through and re-raise\u001b[39;00m\n\u001b[0;32m   3816\u001b[0m     \u001b[38;5;66;03m#  the TypeError.\u001b[39;00m\n\u001b[0;32m   3817\u001b[0m     \u001b[38;5;28mself\u001b[39m\u001b[38;5;241m.\u001b[39m_check_indexing_error(key)\n",
      "\u001b[1;31mKeyError\u001b[0m: 'states'"
     ]
    }
   ],
   "source": [
    "# cell 13 of 25\n",
    "\n",
    "# First plot the coal line\n",
    "plt.plot(coal, color='black', marker='1')\n",
    "\n",
    "# Then natural gas\n",
    "\n",
    "plt.plot(nat_gas, color='blue', marker='2')\n",
    "\n",
    "# Finally petroleum\n",
    "plt.plot(petro, color='grey', marker='3')\n",
    "\n",
    "\n",
    "# The following statements show how to label the figure\n",
    "# DO NOT UPDATE THE FOLLOWING LINES OF CODE!!!!\n",
    "plt.title('State emission of CO2 by source type')\n",
    "plt.ylabel('CO2 emission million metric tons')\n",
    "plt.xlabel('States')\n",
    "plt.legend(('Coal', 'Natural gas', 'Petroleum'), loc='upper right')\n",
    "plt.xticks(range(len(states_co2_pd.index)), states_co2_pd['states'], rotation='vertical')\n",
    "q2_graph = plt.gcf()  # DO NOT TOUCH THIS LINE. ENSURE IT'S THE LAST LINE IN THIS CELL"
   ]
  },
  {
   "cell_type": "markdown",
   "metadata": {
    "editable": false
   },
   "source": [
    "***\n",
    "## Q3 Total emission by type\n",
    "\n",
    "Create a variable `total` that is an array that has each state's sum of its three emission source types\n"
   ]
  },
  {
   "cell_type": "code",
   "execution_count": 10,
   "metadata": {
    "execution": {
     "iopub.execute_input": "2021-11-26T19:25:56.159514Z",
     "iopub.status.busy": "2021-11-26T19:25:56.158856Z",
     "iopub.status.idle": "2021-11-26T19:25:56.164836Z",
     "shell.execute_reply": "2021-11-26T19:25:56.164260Z"
    }
   },
   "outputs": [
    {
     "data": {
      "text/plain": [
       "0     230.062990\n",
       "1      73.132408\n",
       "2     181.853103\n",
       "3      34.909446\n",
       "4      87.005951\n",
       "5      34.301329\n",
       "6      57.557960\n",
       "7      89.254966\n",
       "8      30.459165\n",
       "9      13.752912\n",
       "10     36.651105\n",
       "11    120.553143\n",
       "12    217.408711\n",
       "13     14.995021\n",
       "14    104.237818\n",
       "15     95.609028\n",
       "16     58.761516\n",
       "dtype: float64"
      ]
     },
     "metadata": {},
     "output_type": "display_data"
    },
    {
     "data": {
      "text/html": [
       "<div>\n",
       "<style scoped>\n",
       "    .dataframe tbody tr th:only-of-type {\n",
       "        vertical-align: middle;\n",
       "    }\n",
       "\n",
       "    .dataframe tbody tr th {\n",
       "        vertical-align: top;\n",
       "    }\n",
       "\n",
       "    .dataframe thead th {\n",
       "        text-align: right;\n",
       "    }\n",
       "</style>\n",
       "<table border=\"1\" class=\"dataframe\">\n",
       "  <thead>\n",
       "    <tr style=\"text-align: right;\">\n",
       "      <th></th>\n",
       "      <th>state</th>\n",
       "      <th>coal</th>\n",
       "      <th>natural gas</th>\n",
       "      <th>petroleum</th>\n",
       "      <th>total emissions</th>\n",
       "    </tr>\n",
       "  </thead>\n",
       "  <tbody>\n",
       "    <tr>\n",
       "      <th>0</th>\n",
       "      <td>Florida</td>\n",
       "      <td>40.242420</td>\n",
       "      <td>75.027273</td>\n",
       "      <td>114.793297</td>\n",
       "      <td>230.062990</td>\n",
       "    </tr>\n",
       "    <tr>\n",
       "      <th>1</th>\n",
       "      <td>Iowa</td>\n",
       "      <td>28.120345</td>\n",
       "      <td>16.828779</td>\n",
       "      <td>28.183284</td>\n",
       "      <td>73.132408</td>\n",
       "    </tr>\n",
       "    <tr>\n",
       "      <th>2</th>\n",
       "      <td>Indiana</td>\n",
       "      <td>89.142017</td>\n",
       "      <td>41.388710</td>\n",
       "      <td>51.322376</td>\n",
       "      <td>181.853103</td>\n",
       "    </tr>\n",
       "    <tr>\n",
       "      <th>3</th>\n",
       "      <td>Alaska</td>\n",
       "      <td>1.563846</td>\n",
       "      <td>17.556345</td>\n",
       "      <td>15.789255</td>\n",
       "      <td>34.909446</td>\n",
       "    </tr>\n",
       "    <tr>\n",
       "      <th>4</th>\n",
       "      <td>Arizona</td>\n",
       "      <td>30.584560</td>\n",
       "      <td>19.711348</td>\n",
       "      <td>36.710043</td>\n",
       "      <td>87.005951</td>\n",
       "    </tr>\n",
       "  </tbody>\n",
       "</table>\n",
       "</div>"
      ],
      "text/plain": [
       "     state       coal  natural gas   petroleum  total emissions\n",
       "0  Florida  40.242420    75.027273  114.793297       230.062990\n",
       "1     Iowa  28.120345    16.828779   28.183284        73.132408\n",
       "2  Indiana  89.142017    41.388710   51.322376       181.853103\n",
       "3   Alaska   1.563846    17.556345   15.789255        34.909446\n",
       "4  Arizona  30.584560    19.711348   36.710043        87.005951"
      ]
     },
     "metadata": {},
     "output_type": "display_data"
    }
   ],
   "source": [
    "# cell 15 of 25\n",
    "columns = ['coal', 'natural gas', 'petroleum']\n",
    "total = states_co2_pd[columns].sum(axis=1)\n",
    "display(total.head(30))\n",
    "\n",
    "# go ahead and add the total column to the states_co2_pd dataframe\n",
    "states_co2_pd['total emissions'] = total\n",
    "display(states_co2_pd.head(5))"
   ]
  },
  {
   "cell_type": "markdown",
   "metadata": {
    "editable": false
   },
   "source": [
    "***\n",
    "## Q4 Fraction of coal $CO_2$ emission\n",
    "\n",
    "<img src=\"plot2.png\" width=\"300\" style=\"float: right\" />\n",
    "\n",
    "For each state, plot the fraction of $CO_2$ emissions that are attributable to coal.\n",
    "\n",
    "**NOTE** that you will have to put in the label, legend, tick, and title."
   ]
  },
  {
   "cell_type": "code",
   "execution_count": 16,
   "metadata": {
    "execution": {
     "iopub.execute_input": "2021-11-26T19:25:56.326562Z",
     "iopub.status.busy": "2021-11-26T19:25:56.184016Z",
     "iopub.status.idle": "2021-11-26T19:25:56.767460Z",
     "shell.execute_reply": "2021-11-26T19:25:56.768046Z"
    }
   },
   "outputs": [],
   "source": [
    "# cell 17 of 25\n",
    "\n",
    "coal_fraction = coal / total\n",
    "\n",
    "# Add title, x labels, y labels, and xticks\n",
    "plt.bar(range(len(states_co2_pd)), coal_fraction, color='black')\n",
    "plt.title('Fraction of CO2 emissions from coal')\n",
    "plt.ylabel('Fraction')\n",
    "plt.xlabel('States')\n",
    "plt.xticks(range(len(states_co2_pd.index)), states_co2_pd['state'], rotation='vertical')\n",
    "q4_graph = plt.gcf() # DO NOT TOUCH THIS LINE. ENSURE IT'S THE LAST LINE IN THIS CELL"
   ]
  },
  {
   "cell_type": "markdown",
   "metadata": {
    "editable": false
   },
   "source": [
    "***\n",
    "## Q5 Total North Carolina $CO_2$ in chronological order\n",
    "\n",
    "* Compute the total $CO_2$ produced in North Carolina from coal, natural gas, and petroleum.\n",
    "* Assign the value to variable `total_nc`.\n",
    "\n",
    "* Put `total_nc` to be in increasing chronological order.\n",
    "* In other words, the last element in `total_nc` should be from 2016. The next to last element should be from 2015, etc.\n"
   ]
  },
  {
   "cell_type": "code",
   "execution_count": 12,
   "metadata": {},
   "outputs": [
    {
     "data": {
      "text/html": [
       "<div>\n",
       "<style scoped>\n",
       "    .dataframe tbody tr th:only-of-type {\n",
       "        vertical-align: middle;\n",
       "    }\n",
       "\n",
       "    .dataframe tbody tr th {\n",
       "        vertical-align: top;\n",
       "    }\n",
       "\n",
       "    .dataframe thead th {\n",
       "        text-align: right;\n",
       "    }\n",
       "</style>\n",
       "<table border=\"1\" class=\"dataframe\">\n",
       "  <thead>\n",
       "    <tr style=\"text-align: right;\">\n",
       "      <th></th>\n",
       "      <th>year</th>\n",
       "      <th>coal</th>\n",
       "      <th>natural gas</th>\n",
       "      <th>petroleum</th>\n",
       "    </tr>\n",
       "  </thead>\n",
       "  <tbody>\n",
       "    <tr>\n",
       "      <th>0</th>\n",
       "      <td>2016</td>\n",
       "      <td>36.044177</td>\n",
       "      <td>28.662326</td>\n",
       "      <td>55.846640</td>\n",
       "    </tr>\n",
       "    <tr>\n",
       "      <th>1</th>\n",
       "      <td>2015</td>\n",
       "      <td>38.287672</td>\n",
       "      <td>27.378673</td>\n",
       "      <td>55.383228</td>\n",
       "    </tr>\n",
       "    <tr>\n",
       "      <th>2</th>\n",
       "      <td>2014</td>\n",
       "      <td>47.359348</td>\n",
       "      <td>24.527619</td>\n",
       "      <td>55.488194</td>\n",
       "    </tr>\n",
       "    <tr>\n",
       "      <th>3</th>\n",
       "      <td>2013</td>\n",
       "      <td>46.620151</td>\n",
       "      <td>23.611172</td>\n",
       "      <td>54.828050</td>\n",
       "    </tr>\n",
       "    <tr>\n",
       "      <th>4</th>\n",
       "      <td>2012</td>\n",
       "      <td>50.486940</td>\n",
       "      <td>19.522147</td>\n",
       "      <td>51.297146</td>\n",
       "    </tr>\n",
       "  </tbody>\n",
       "</table>\n",
       "</div>"
      ],
      "text/plain": [
       "   year       coal  natural gas  petroleum\n",
       "0  2016  36.044177    28.662326  55.846640\n",
       "1  2015  38.287672    27.378673  55.383228\n",
       "2  2014  47.359348    24.527619  55.488194\n",
       "3  2013  46.620151    23.611172  54.828050\n",
       "4  2012  50.486940    19.522147  51.297146"
      ]
     },
     "execution_count": 12,
     "metadata": {},
     "output_type": "execute_result"
    }
   ],
   "source": [
    "\n",
    "# import the nc data\n",
    "nc_data = pd.read_csv('nc_co2.csv')\n",
    "# Update the column name\n",
    "nc_data.rename(columns={'Unnamed: 0': 'year'}, inplace=True)\n",
    "\n",
    "nc_data.head(5)"
   ]
  },
  {
   "cell_type": "code",
   "execution_count": 13,
   "metadata": {
    "execution": {
     "iopub.execute_input": "2021-11-26T19:25:56.784915Z",
     "iopub.status.busy": "2021-11-26T19:25:56.784201Z",
     "iopub.status.idle": "2021-11-26T19:25:56.787672Z",
     "shell.execute_reply": "2021-11-26T19:25:56.788204Z"
    }
   },
   "outputs": [
    {
     "name": "stdout",
     "output_type": "stream",
     "text": [
      "0     120.553143\n",
      "1     121.049573\n",
      "2     127.375161\n",
      "3     125.059373\n",
      "4     121.306233\n",
      "5     128.624282\n",
      "6     143.008967\n",
      "7     132.991562\n",
      "8     149.198769\n",
      "9     154.458804\n",
      "10    148.628039\n",
      "11    154.028166\n",
      "12    149.714438\n",
      "13    146.500279\n",
      "14    145.333685\n",
      "15    143.810536\n",
      "16    148.851011\n",
      "17    140.780871\n",
      "18    142.466784\n",
      "19    143.130764\n",
      "20    140.647141\n",
      "21    128.709154\n",
      "22    122.388064\n",
      "23    127.082332\n",
      "24    121.140638\n",
      "25    110.888882\n",
      "26    111.113882\n",
      "27    115.510696\n",
      "28    111.425114\n",
      "29    107.298984\n",
      "30    112.107540\n",
      "31    106.760886\n",
      "32    108.807569\n",
      "33    107.343971\n",
      "34    107.742362\n",
      "35    111.861576\n",
      "36    112.346916\n",
      "Name: NC Total Emissions, dtype: float64\n"
     ]
    }
   ],
   "source": [
    "# cell 19 of 25\n",
    "\n",
    "columns = ['coal', 'natural gas', 'petroleum']\n",
    "\n",
    "\n",
    "total_nc = nc_data[columns].sum(axis=1)\n",
    "total_nc.name = 'NC Total Emissions'\n",
    "print(total_nc)\n"
   ]
  },
  {
   "cell_type": "code",
   "execution_count": 14,
   "metadata": {},
   "outputs": [
    {
     "data": {
      "text/html": [
       "<div>\n",
       "<style scoped>\n",
       "    .dataframe tbody tr th:only-of-type {\n",
       "        vertical-align: middle;\n",
       "    }\n",
       "\n",
       "    .dataframe tbody tr th {\n",
       "        vertical-align: top;\n",
       "    }\n",
       "\n",
       "    .dataframe thead th {\n",
       "        text-align: right;\n",
       "    }\n",
       "</style>\n",
       "<table border=\"1\" class=\"dataframe\">\n",
       "  <thead>\n",
       "    <tr style=\"text-align: right;\">\n",
       "      <th></th>\n",
       "      <th>year</th>\n",
       "      <th>coal</th>\n",
       "      <th>natural gas</th>\n",
       "      <th>petroleum</th>\n",
       "      <th>NC Total Emissions</th>\n",
       "    </tr>\n",
       "  </thead>\n",
       "  <tbody>\n",
       "    <tr>\n",
       "      <th>0</th>\n",
       "      <td>1980</td>\n",
       "      <td>58.557925</td>\n",
       "      <td>8.231636</td>\n",
       "      <td>45.557355</td>\n",
       "      <td>112.346916</td>\n",
       "    </tr>\n",
       "    <tr>\n",
       "      <th>1</th>\n",
       "      <td>1981</td>\n",
       "      <td>61.450579</td>\n",
       "      <td>8.185689</td>\n",
       "      <td>42.225308</td>\n",
       "      <td>111.861576</td>\n",
       "    </tr>\n",
       "    <tr>\n",
       "      <th>2</th>\n",
       "      <td>1982</td>\n",
       "      <td>58.418547</td>\n",
       "      <td>7.786490</td>\n",
       "      <td>41.537325</td>\n",
       "      <td>107.742362</td>\n",
       "    </tr>\n",
       "    <tr>\n",
       "      <th>3</th>\n",
       "      <td>1983</td>\n",
       "      <td>55.891661</td>\n",
       "      <td>7.482316</td>\n",
       "      <td>43.969994</td>\n",
       "      <td>107.343971</td>\n",
       "    </tr>\n",
       "    <tr>\n",
       "      <th>4</th>\n",
       "      <td>1984</td>\n",
       "      <td>52.508441</td>\n",
       "      <td>7.888518</td>\n",
       "      <td>48.410610</td>\n",
       "      <td>108.807569</td>\n",
       "    </tr>\n",
       "  </tbody>\n",
       "</table>\n",
       "</div>"
      ],
      "text/plain": [
       "   year       coal  natural gas  petroleum  NC Total Emissions\n",
       "0  1980  58.557925     8.231636  45.557355          112.346916\n",
       "1  1981  61.450579     8.185689  42.225308          111.861576\n",
       "2  1982  58.418547     7.786490  41.537325          107.742362\n",
       "3  1983  55.891661     7.482316  43.969994          107.343971\n",
       "4  1984  52.508441     7.888518  48.410610          108.807569"
      ]
     },
     "metadata": {},
     "output_type": "display_data"
    },
    {
     "data": {
      "text/html": [
       "<div>\n",
       "<style scoped>\n",
       "    .dataframe tbody tr th:only-of-type {\n",
       "        vertical-align: middle;\n",
       "    }\n",
       "\n",
       "    .dataframe tbody tr th {\n",
       "        vertical-align: top;\n",
       "    }\n",
       "\n",
       "    .dataframe thead th {\n",
       "        text-align: right;\n",
       "    }\n",
       "</style>\n",
       "<table border=\"1\" class=\"dataframe\">\n",
       "  <thead>\n",
       "    <tr style=\"text-align: right;\">\n",
       "      <th></th>\n",
       "      <th>year</th>\n",
       "      <th>coal</th>\n",
       "      <th>natural gas</th>\n",
       "      <th>petroleum</th>\n",
       "      <th>NC Total Emissions</th>\n",
       "    </tr>\n",
       "  </thead>\n",
       "  <tbody>\n",
       "    <tr>\n",
       "      <th>32</th>\n",
       "      <td>2012</td>\n",
       "      <td>50.486940</td>\n",
       "      <td>19.522147</td>\n",
       "      <td>51.297146</td>\n",
       "      <td>121.306233</td>\n",
       "    </tr>\n",
       "    <tr>\n",
       "      <th>33</th>\n",
       "      <td>2013</td>\n",
       "      <td>46.620151</td>\n",
       "      <td>23.611172</td>\n",
       "      <td>54.828050</td>\n",
       "      <td>125.059373</td>\n",
       "    </tr>\n",
       "    <tr>\n",
       "      <th>34</th>\n",
       "      <td>2014</td>\n",
       "      <td>47.359348</td>\n",
       "      <td>24.527619</td>\n",
       "      <td>55.488194</td>\n",
       "      <td>127.375161</td>\n",
       "    </tr>\n",
       "    <tr>\n",
       "      <th>35</th>\n",
       "      <td>2015</td>\n",
       "      <td>38.287672</td>\n",
       "      <td>27.378673</td>\n",
       "      <td>55.383228</td>\n",
       "      <td>121.049573</td>\n",
       "    </tr>\n",
       "    <tr>\n",
       "      <th>36</th>\n",
       "      <td>2016</td>\n",
       "      <td>36.044177</td>\n",
       "      <td>28.662326</td>\n",
       "      <td>55.846640</td>\n",
       "      <td>120.553143</td>\n",
       "    </tr>\n",
       "  </tbody>\n",
       "</table>\n",
       "</div>"
      ],
      "text/plain": [
       "    year       coal  natural gas  petroleum  NC Total Emissions\n",
       "32  2012  50.486940    19.522147  51.297146          121.306233\n",
       "33  2013  46.620151    23.611172  54.828050          125.059373\n",
       "34  2014  47.359348    24.527619  55.488194          127.375161\n",
       "35  2015  38.287672    27.378673  55.383228          121.049573\n",
       "36  2016  36.044177    28.662326  55.846640          120.553143"
      ]
     },
     "metadata": {},
     "output_type": "display_data"
    }
   ],
   "source": [
    "# add total_nc to the nc_data dataframe\n",
    "nc_data[total_nc.name] = total_nc\n",
    "\n",
    "# order the columns chronoligically, reset the index \n",
    "nc_data_sorted = nc_data.sort_values(by='year', ascending=True).reset_index(drop=True)\n",
    "\n",
    "# show the first 5  and last 5 rows of the dataframe\n",
    "display(nc_data_sorted.head(5))\n",
    "display(nc_data_sorted.tail(5))"
   ]
  },
  {
   "cell_type": "markdown",
   "metadata": {
    "editable": false
   },
   "source": [
    "***\n",
    "## Q6 North Carolina $CO_2$ emmissions\n",
    "\n",
    "<img src=\"plot3.png\" width=\"300\" style=\"float: right\" />\n",
    "\n",
    "\n",
    "Using `total_nc`, plot a graph, similar to the graph to the right, that shows North Carolina's total emission of $CO_2$ over the years in increasing chronological order."
   ]
  },
  {
   "cell_type": "code",
   "execution_count": 15,
   "metadata": {
    "execution": {
     "iopub.execute_input": "2021-11-26T19:25:56.820220Z",
     "iopub.status.busy": "2021-11-26T19:25:56.818360Z",
     "iopub.status.idle": "2021-11-26T19:25:57.396117Z",
     "shell.execute_reply": "2021-11-26T19:25:57.396582Z"
    },
    "scrolled": true
   },
   "outputs": [],
   "source": [
    "# cell 21 of 25\n",
    "\n",
    "\n",
    "plt.plot(nc_data_sorted['year'], nc_data_sorted['NC Total Emissions'], color='black', marker='1')\n",
    "plt.xlabel( 'Year')\n",
    "plt.ylabel('CO2 emissions')\n",
    "plt.title('CO2 emissions in North Carolina')\n",
    "plt.xticks(range(len(total_nc)), nc_data_sorted['year'], rotation='vertical')\n",
    "\n",
    "plt.gcf().savefig('plot3.png', bbox_inches='tight')\n",
    "q6_graph = plt.gcf()  # DO NOT TOUCH THIS LINE. ENSURE IT'S THE LAST LINE IN THIS CELL"
   ]
  },
  {
   "cell_type": "markdown",
   "metadata": {
    "editable": false
   },
   "source": [
    "***\n",
    "## Terminology \n",
    "\n",
    "**Change or difference** is simply the second number minus the first number.\n",
    "The change from 100 to 101 is 1.\n",
    "The change from 101 to 102 is 1.\n",
    "\n",
    "**Relative change** is the __change__ divided by the first value. The relative change from 100 to 101 is 0.01.\n",
    "\n",
    "When we're talking about multiple years, use the terms above applied to each pair of years.\n",
    "Consider the values `[1, 2, 1, 4]`.\n",
    "\n",
    "* The __change__ is `[1, -1, 3]`,\n",
    "* The __relative change__ is `[1/1, -1/2, 3/1]` or `[1.0, -0.5, 3.0]`."
   ]
  },
  {
   "cell_type": "markdown",
   "metadata": {
    "editable": false
   },
   "source": [
    "## Q7 Relative change in $CO_2$\n",
    "\n",
    "<img src=\"plot4.png\" width=\"300\" style=\"float: right\" />\n",
    "\n",
    " 1. Plot the relative change in North Carolina's total $CO_2$ emissions.\n",
    "    The plot should appear similar to the graph at the right.\n",
    "    - A negative relative change for any year implies a decrease in $CO_2$ emmissions\n",
    "    - You may want to print out the numbers so that you understand to help you understand the data!!!\n",
    " 1. Add a red line at 0 height to facilitate knowing positive relative change versus negative relative change\n",
    " 1. Compute the minimum, maximum, and average relative change in North Carolina's total $CO_2$ emissions.\n",
    " 1. How many years had negative relative change from the previous year?\n",
    " 1. How many years had non-negative relative change?\n",
    "\n",
    "Again, since you will be doing multiple computations, you may want to print out your results at each step."
   ]
  },
  {
   "cell_type": "code",
   "execution_count": null,
   "metadata": {
    "execution": {
     "iopub.execute_input": "2021-11-26T19:25:57.432379Z",
     "iopub.status.busy": "2021-11-26T19:25:57.430722Z",
     "iopub.status.idle": "2021-11-26T19:25:58.056162Z",
     "shell.execute_reply": "2021-11-26T19:25:58.056613Z"
    }
   },
   "outputs": [],
   "source": [
    "# cell 23 of 25\n",
    "\n",
    "relative_difference = \n",
    "nc_max = \n",
    "nc_min = \n",
    "nc_avg = \n",
    "\n",
    "nc_neg = \n",
    "nc_pos = \n",
    "\n",
    "plt.plot(stuff)\n",
    "# add the x and y label\n",
    "# add the title \n",
    "# add the xticks\n",
    "\n",
    "print('The maximum, minimum, and average relative change is', nc_max, nc_min, nc_avg)\n",
    "print(nc_neg, 'years had increases (negative relative change) in CO2 emissions in North Carolina.')\n",
    "print(nc_pos, 'years had decreases (positive relative change) in CO2 emissions in North Carolina.')"
   ]
  }
 ],
 "metadata": {
  "kernelspec": {
   "display_name": "base",
   "language": "python",
   "name": "python3"
  },
  "language_info": {
   "codemirror_mode": {
    "name": "ipython",
    "version": 3
   },
   "file_extension": ".py",
   "mimetype": "text/x-python",
   "name": "python",
   "nbconvert_exporter": "python",
   "pygments_lexer": "ipython3",
   "version": "3.12.7"
  }
 },
 "nbformat": 4,
 "nbformat_minor": 4
}
