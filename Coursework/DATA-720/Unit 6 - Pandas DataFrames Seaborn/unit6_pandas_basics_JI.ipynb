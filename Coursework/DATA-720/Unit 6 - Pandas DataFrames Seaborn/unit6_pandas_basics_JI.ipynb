{
 "cells": [
  {
   "cell_type": "markdown",
   "id": "8937bdd6-936e-4138-858e-612849e7cf90",
   "metadata": {},
   "source": [
    "# Graded: 3 of 3 correct\n",
    "- [x] Create `df`\n",
    "- [x] Add `primes` column\n",
    "- [x] Show head\n",
    "\n",
    "Comments: "
   ]
  },
  {
   "cell_type": "code",
   "execution_count": 1,
   "id": "9b6c31ac",
   "metadata": {},
   "outputs": [],
   "source": [
    "import pandas as pd"
   ]
  },
  {
   "cell_type": "markdown",
   "id": "0f5f58c3",
   "metadata": {},
   "source": [
    "Here is a dictionary:"
   ]
  },
  {
   "cell_type": "code",
   "execution_count": 2,
   "id": "31b42938",
   "metadata": {},
   "outputs": [],
   "source": [
    "data = {\n",
    "    \"odds\": [1, 3, 5, 7, 9, 11],\n",
    "    \"evens\": [2, 4, 6, 8, 10, 12]\n",
    "}"
   ]
  },
  {
   "cell_type": "markdown",
   "id": "15fbe1d3",
   "metadata": {},
   "source": [
    "Create a Pandas DataFrame called `df` using those data."
   ]
  },
  {
   "cell_type": "code",
   "execution_count": 3,
   "id": "6d1cd8f2",
   "metadata": {},
   "outputs": [],
   "source": [
    "df = pd.DataFrame(data)"
   ]
  },
  {
   "cell_type": "markdown",
   "id": "f419b82d",
   "metadata": {},
   "source": [
    "Add the array below as a column called `primes` to the DataFrame."
   ]
  },
  {
   "cell_type": "code",
   "execution_count": 4,
   "id": "db135211",
   "metadata": {},
   "outputs": [],
   "source": [
    "primes = [2, 3, 5, 7, 11, 13]\n",
    "df[\"primes\"] = primes\n"
   ]
  },
  {
   "cell_type": "markdown",
   "id": "051bad72",
   "metadata": {},
   "source": [
    "Display the first 5 rows of `df`"
   ]
  },
  {
   "cell_type": "code",
   "execution_count": 8,
   "id": "f094da61",
   "metadata": {},
   "outputs": [
    {
     "name": "stdout",
     "output_type": "stream",
     "text": [
      "   odds  evens  primes\n",
      "0     1      2       2\n",
      "1     3      4       3\n",
      "2     5      6       5\n",
      "3     7      8       7\n",
      "4     9     10      11\n"
     ]
    }
   ],
   "source": [
    "print(df.head(5)) "
   ]
  }
 ],
 "metadata": {
  "kernelspec": {
   "display_name": "base",
   "language": "python",
   "name": "python3"
  },
  "language_info": {
   "codemirror_mode": {
    "name": "ipython",
    "version": 3
   },
   "file_extension": ".py",
   "mimetype": "text/x-python",
   "name": "python",
   "nbconvert_exporter": "python",
   "pygments_lexer": "ipython3",
   "version": "3.12.7"
  }
 },
 "nbformat": 4,
 "nbformat_minor": 5
}
