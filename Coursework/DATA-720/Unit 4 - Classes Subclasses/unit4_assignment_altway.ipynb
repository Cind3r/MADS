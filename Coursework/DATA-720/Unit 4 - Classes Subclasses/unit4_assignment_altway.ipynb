{
 "cells": [
  {
   "cell_type": "markdown",
   "id": "d2e48087-9836-46de-9741-dc219b8c3267",
   "metadata": {},
   "source": [
    "# Graded: 14 of 14 correct\n",
    "1. Song class\n",
    "- [x] Title\n",
    "- [x] Length\n",
    "- [x] Magic function for string\n",
    "\n",
    "2. Album class\n",
    "- [x] Title\n",
    "- [x] Song list\n",
    "- [x] Artist\n",
    "- [x] Year\n",
    "- [x] Print function\n",
    "- [x] Magic functions for comparing years\n",
    "\n",
    "3. Artist class\n",
    "- [x] Name\n",
    "- [x] Discography\n",
    "- [x] Sort albums function\n",
    "- [x] Print function\n",
    "\n",
    "4. Adding data\n",
    "- [x] Function(s) add data\n",
    "\n",
    "Comments: \n"
   ]
  },
  {
   "cell_type": "markdown",
   "id": "5eb4b924",
   "metadata": {},
   "source": [
    "***\n",
    "# Assignment 4: Creating a music library\n",
    "In this example, you will create classes for song, album, and artist objects. Here are some things to consider:\n",
    "1. Think of each larger class to be a container of objects from the smaller class (e.g. an Album contains a list of Songs)\n",
    "2. Because these classes do not share many characteristics, you don't need to subclass to accomplish the task"
   ]
  },
  {
   "cell_type": "code",
   "execution_count": null,
   "id": "068aa8f0",
   "metadata": {
    "tags": []
   },
   "outputs": [],
   "source": []
  },
  {
   "cell_type": "markdown",
   "id": "fcf1ebac",
   "metadata": {},
   "source": [
    "***\n",
    "## Create a new class for songs\n",
    "Start by creating a class called `Song` with the following attributes:\n",
    "1. title: a string representing the song title\n",
    "2. length: a string representing the length of the song\n",
    "4. A magic function that allows you to print a string representation of the song as shown below\n",
    "        <br />Title: title\n",
    "        <br />Length: length s (the s stands for seconds)"
   ]
  },
  {
   "cell_type": "code",
   "execution_count": 90,
   "id": "41d39296",
   "metadata": {
    "tags": []
   },
   "outputs": [],
   "source": [
    "class Song():\n",
    "    \n",
    "    \"\"\" Object class for songs \"\"\"\n",
    "\n",
    "    def __init__(self, song_title, length):\n",
    "        self.title = song_title\n",
    "        self.length = length\n",
    "\n",
    "\n",
    "    def __str__(self):\n",
    "        return f'Title: {self.title} \\nLength: {self.length} s'\n",
    "\n",
    "    "
   ]
  },
  {
   "cell_type": "markdown",
   "id": "548246d7",
   "metadata": {},
   "source": [
    "***\n",
    "## Create an album class\n",
    "An album is a collection of songs. Make a class called `Album` that has the following characteristics:\n",
    "1. title: a string representing the album title\n",
    "2. songs: a list of Song objects within the album\n",
    "3. artist: a string representing the artist name\n",
    "4. year: an integer representation of the album release year\n",
    "5. A function that allows you to print a string representation of the album as shown below\n",
    "        <br />Title: album title\n",
    "        <br />Artist: artist\n",
    "        <br />Year: year\n",
    "        <br />Songs: print each song on the album\n",
    "6. Magic function(s) for mathematical comparisons based on year for sorting purposes. This can be accomplished using the `sorted()` function (see documentation). **Note:** Do not use the `key` argument of `sorted`, as this would defeat the purpose of including magic functions. Instead define enough mathematical functions to satisfy the default usage `sorted([list of class objects])`"
   ]
  },
  {
   "cell_type": "code",
   "execution_count": 131,
   "id": "81b613f2",
   "metadata": {},
   "outputs": [],
   "source": [
    "class Album():\n",
    "\n",
    "    def __init__(self, title, songs, artist, year):\n",
    "        \n",
    "        self.title = title\n",
    "        self.songs = songs\n",
    "        self.artist = artist\n",
    "        self.year = year\n",
    "    \n",
    "    # Magic functions for sort comparison \n",
    "    def __eq__(self, obj):\n",
    "        return (self.year == obj.year)\n",
    "    \n",
    "    def __lt__(self, obj):\n",
    "        return ((self.year) < (obj.year))\n",
    "\n",
    "    def __le__(self, obj):\n",
    "        return ((self.year) <= (obj.year))\n",
    "\n",
    "    def __gt__(self, obj):\n",
    "        return ((self.year) > (obj.year))\n",
    "\n",
    "    def __ge__(self, obj):\n",
    "        return ((self.year) >= (obj.year))\n",
    "    \n",
    "    def __str__(self):\n",
    "        string = ', '.join(self.songs)\n",
    "        return f'Title: {self.title} \\nArtist: {self.artist} \\nYear: {self.year} \\nSongs: ' + string"
   ]
  },
  {
   "cell_type": "markdown",
   "id": "f9d0fcfc",
   "metadata": {},
   "source": [
    "***\n",
    "## Create an artist class\n",
    "An artist is a collection of songs. Make a class called `Artist` that has the following characteristics:\n",
    "1. name: a string representing the artist name\n",
    "2. discography: a list of Album objects made by this artist\n",
    "3. A function that sorts the artist's albums by year\n",
    "4. A function that allows you to print a string representation of the artist as shown below\n",
    "        <br />Artist: artist\n",
    "        <br />Albums: print each album (sorted by year)\n"
   ]
  },
  {
   "cell_type": "code",
   "execution_count": 129,
   "id": "bf7daa83",
   "metadata": {},
   "outputs": [],
   "source": [
    "class Artist():\n",
    "    \n",
    "    def __init__(self, name, discography):\n",
    "\n",
    "        self.name = name\n",
    "        self.discography = discography\n",
    "\n",
    "    def get_sorted_albums(self):\n",
    "        self.discography = sorted(self.discography)\n",
    "        return self.discography\n",
    "    \n",
    "    def __str__(self):\n",
    "        return f'Artist: {self.name} \\nAlbums: {self.get_sorted_albums()}'\n",
    "        "
   ]
  },
  {
   "cell_type": "markdown",
   "id": "dffc2a38",
   "metadata": {},
   "source": [
    "***\n",
    "## Add a batch of data into the new structures\n",
    "The file `music_data.json` contains a batch of music data. JSON files are structured similarly to dictionaries and are used for many purposes (like configuration files, for example). The cell below uses the built-in `json` Python library to read the file in as a dictionary. The keys are artist names (\"Taylor Swift\", \"Drake\", \"BTS\") and each key will return a list of dictionaries, each an album, that have `title`, `year`, and `songs` keys, the latter returning another list of dictionaries containing the `title` and `length` (in seconds) of each song. Here is a summary of how the data are formatted:\n",
    "```\n",
    "{artist name: [\n",
    "        {\n",
    "            title: album title,\n",
    "            year: year,\n",
    "            songs: [\n",
    "                {\n",
    "                    title: song title,\n",
    "                    length: length\n",
    "                },\n",
    "                ...\n",
    "            ]\n",
    "        },\n",
    "        ...\n",
    "    ]\n",
    "}\n",
    "\n",
    "```"
   ]
  },
  {
   "cell_type": "code",
   "execution_count": 34,
   "id": "fc98e322",
   "metadata": {},
   "outputs": [],
   "source": [
    "import json\n",
    "with open('music_data.json', 'r') as f:\n",
    "    artist_dict = json.load(f)\n"
   ]
  },
  {
   "cell_type": "markdown",
   "id": "4bb946ae",
   "metadata": {},
   "source": [
    "Create one or more functions that add these data to each of the data structures you have created.\n",
    "\n",
    "***\n",
    "### List of Keys that appear in the dict\n",
    "- Artist Name: ['Taylor Swift', 'Drake', 'BTS']\n",
    "- ['title', 'year', 'songs']\n",
    "- ['title', 'length']\n",
    "\n",
    "This goes top down when returning `list(artist_dict.keys())` which is necessary to index to preform the next function of `list(artist_dict[artist].keys())`"
   ]
  },
  {
   "cell_type": "code",
   "execution_count": 132,
   "id": "afd2a34a",
   "metadata": {},
   "outputs": [
    {
     "name": "stdout",
     "output_type": "stream",
     "text": [
      "Artist: Taylor Swift \n",
      "Albums: [<__main__.Album object at 0x000001EB566A48C0>, <__main__.Album object at 0x000001EB566A5A60>, <__main__.Album object at 0x000001EB566A4950>, <__main__.Album object at 0x000001EB566A5D60>, <__main__.Album object at 0x000001EB566A4A40>, <__main__.Album object at 0x000001EB566A58B0>, <__main__.Album object at 0x000001EB566A5010>, <__main__.Album object at 0x000001EB566A5610>, <__main__.Album object at 0x000001EB566A50A0>, <__main__.Album object at 0x000001EB566A5700>]\n"
     ]
    }
   ],
   "source": [
    "\n",
    "\n",
    "def add_songs(artist_name):\n",
    "    \n",
    "    song_objs = []\n",
    "\n",
    "    for item in artist_dict[artist_name]:\n",
    "\n",
    "        for x in item:\n",
    "\n",
    "            if isinstance(item[x], list):\n",
    "\n",
    "                for song in item[x]:\n",
    "                    song_title = song.get('title')\n",
    "                    song_length = song.get('length')\n",
    "                    song_objs.append(Song(song_title,song_length))\n",
    "    \n",
    "    return song_objs\n",
    "\n",
    "\n",
    "\n",
    "def add_album(artist_name):\n",
    "    \n",
    "    album_objs = []\n",
    "\n",
    "    for item in artist_dict[artist_name]:\n",
    "\n",
    "        artist = artist_name\n",
    "        albumn_title = item.get('title')\n",
    "        year = item.get('year')\n",
    "        songs = item.get('songs')\n",
    "\n",
    "        output_songs = []\n",
    "\n",
    "        for song in songs:\n",
    "            song_title = song.get('title')\n",
    "            output_songs.append(song_title)\n",
    "\n",
    "        album_objs.append(Album(albumn_title, output_songs, artist, year))\n",
    "    \n",
    "    return album_objs\n",
    "\n",
    "\n",
    "\n",
    "def add_artist(artist_name):\n",
    "\n",
    "    artist_objs = []\n",
    "\n",
    "    discography = add_album(artist_name)\n",
    "\n",
    "    artist_objs.append(Artist(artist_name, discography))\n",
    "\n",
    "    return artist_objs\n",
    "\n",
    "    \n",
    "\n",
    "# okay this works\n",
    "output = add_songs('Taylor Swift')\n",
    "output2 = add_album('Taylor Swift')\n",
    "output2 = sorted(output2)\n",
    "\n",
    "output3 = add_artist('Taylor Swift')\n",
    "\n",
    "print(output3[0])\n"
   ]
  },
  {
   "cell_type": "markdown",
   "id": "07e55455",
   "metadata": {},
   "source": [
    "Finally, print any artist's discography and the track list for one of their albums"
   ]
  },
  {
   "cell_type": "code",
   "execution_count": null,
   "id": "c737e5af",
   "metadata": {},
   "outputs": [],
   "source": [
    "\n"
   ]
  }
 ],
 "metadata": {
  "kernelspec": {
   "display_name": "base",
   "language": "python",
   "name": "python3"
  },
  "language_info": {
   "codemirror_mode": {
    "name": "ipython",
    "version": 3
   },
   "file_extension": ".py",
   "mimetype": "text/x-python",
   "name": "python",
   "nbconvert_exporter": "python",
   "pygments_lexer": "ipython3",
   "version": "3.12.7"
  }
 },
 "nbformat": 4,
 "nbformat_minor": 5
}
