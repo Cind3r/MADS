{
 "cells": [
  {
   "cell_type": "markdown",
   "id": "2b138be1",
   "metadata": {},
   "source": [
    "## Unit 5 Numpy_Random_Matrix Quiz\n",
    "* The objective of this quiz is to use Numpy for generating random values and look at simple array manipulation."
   ]
  },
  {
   "cell_type": "code",
   "execution_count": 1,
   "id": "ecd853d7",
   "metadata": {},
   "outputs": [
    {
     "name": "stdout",
     "output_type": "stream",
     "text": [
      "Numpy version is 1.26.4\n"
     ]
    }
   ],
   "source": [
    "## Import Numpy and check version\n",
    "import numpy as np\n",
    "print(f\"Numpy version is {np.__version__}\")"
   ]
  },
  {
   "cell_type": "markdown",
   "id": "b42e7de0",
   "metadata": {},
   "source": [
    "### Random numbers are frequently used in Data Science.\n",
    "* Generating random numbers (or rather pseudo-random numbers) is an important function.\n",
    "* Numpy provides a random number module called `numpy.random`.\n",
    "* You can learn more about generating random numbers [here](https://numpy.org/doc/stable/reference/random/index.html) and [here](https://numpy.org/doc/stable/reference/random/generated/numpy.random.Generator.random.html#numpy.random.Generator.random)."
   ]
  },
  {
   "cell_type": "markdown",
   "id": "1bffb647",
   "metadata": {},
   "source": [
    "### Create a random number generator called `my_rng` using the `default_rng()` method in `np.random`. Use the default seed."
   ]
  },
  {
   "cell_type": "code",
   "execution_count": 59,
   "id": "696d68d1",
   "metadata": {},
   "outputs": [],
   "source": [
    "# Write your code below.\n",
    "#def my_rng(r = 1,c = 1, num1 = 0, num2 = 2):\n",
    "#   rng = np.random.default_rng()\n",
    "#   return rng.integers(low = num1, high = num2, size=[r,c])\n",
    "\n",
    "#def my_rng(r = 1, c = 1, num1 = 0, num2 = 2):\n",
    "#    np.random.default_rng()\n",
    "#    return np.random.rand(r,c)\n",
    "\n",
    "def my_rng(r = 1, c = 1, num1 = 0, num2 = 2):\n",
    "    np.random.default_rng()\n",
    "    return np.random.uniform(low=num1, high=num2, size = [r,c])\n",
    "\n",
    "# it took me too long to realize I was just supposed to do this\n",
    "my_rng = np.random.default_rng()"
   ]
  },
  {
   "cell_type": "markdown",
   "id": "b151b270",
   "metadata": {},
   "source": [
    "### Now use `my_rng` to generate a 3X3 numpy array of random values.\n",
    "* Print out this array"
   ]
  },
  {
   "cell_type": "code",
   "execution_count": 56,
   "id": "d9e15e17",
   "metadata": {},
   "outputs": [
    {
     "name": "stdout",
     "output_type": "stream",
     "text": [
      "[[0.93408663 0.57249503 0.74259829]\n",
      " [0.22236197 0.98081689 0.43966015]\n",
      " [0.5627087  0.78953752 0.87843753]]\n"
     ]
    }
   ],
   "source": [
    "# Write your code below.\n",
    "print(my_rng(3,3))"
   ]
  },
  {
   "cell_type": "markdown",
   "id": "04c7973f",
   "metadata": {},
   "source": [
    "### What is the distribution of the random numbers generated and what is the range?\n",
    "* This is not something to be computed, simply look up this information in the [`np.random` web page](https://numpy.org/doc/stable/reference/random/generated/numpy.random.rand.html)."
   ]
  },
  {
   "cell_type": "markdown",
   "id": "79bae629",
   "metadata": {},
   "source": [
    "Creates an array of the given shape and populate it with random samples from a **uniform distribution** over [0,1], thus we can use `np.random.uniform` for the question below.\n"
   ]
  },
  {
   "cell_type": "markdown",
   "id": "a536b7dd",
   "metadata": {},
   "source": [
    "### Use the Numpy array created above to create a second Numpy array of random numbers that is between -10.0 and 10.0.\n",
    "* This question requires you to figure out the mapping that will convert a set of random numbers that are distributed as found in the previous question to have the range from -10.0 to 10.0.\n",
    "* The form of the distributon does not change."
   ]
  },
  {
   "cell_type": "code",
   "execution_count": 58,
   "id": "062efd7f",
   "metadata": {},
   "outputs": [
    {
     "name": "stdout",
     "output_type": "stream",
     "text": [
      "[[-8.51571628 -1.44831582 -2.74253647]\n",
      " [-8.84337472  7.01019185  5.35380599]\n",
      " [ 4.00802138  4.92393026 -6.03844156]]\n"
     ]
    }
   ],
   "source": [
    "# Show your code below.\n",
    "print(my_rng(3,3,-10,10))"
   ]
  },
  {
   "cell_type": "markdown",
   "id": "12eca1f5",
   "metadata": {},
   "source": [
    "### `np.random` can also generate random integers. Generate a 3X3 array of random integers between 0 and 10."
   ]
  },
  {
   "cell_type": "code",
   "execution_count": 61,
   "id": "fc12c7c6",
   "metadata": {},
   "outputs": [
    {
     "name": "stdout",
     "output_type": "stream",
     "text": [
      "[[2 0 1]\n",
      " [9 2 3]\n",
      " [2 3 4]]\n"
     ]
    }
   ],
   "source": [
    "# Your code here.\n",
    "print(np.random.randint(0, 10, [3, 3] ))"
   ]
  },
  {
   "cell_type": "markdown",
   "id": "3999c2c2",
   "metadata": {},
   "source": [
    "### `np.random` can also generate various common distributions. Generate a 3X3 array of numbers from a normal distribution with mean 10 and standard deviation 2."
   ]
  },
  {
   "cell_type": "code",
   "execution_count": 64,
   "id": "60cd8b2b",
   "metadata": {},
   "outputs": [
    {
     "name": "stdout",
     "output_type": "stream",
     "text": [
      "[[ 7.07308865 10.79450086  6.4274544 ]\n",
      " [ 8.7938588   7.09250144 13.34681276]\n",
      " [10.98958341  7.14865853 12.30993312]]\n"
     ]
    }
   ],
   "source": [
    "# Your code here\n",
    "gm3 = np.random.normal(10, 2, [3, 3])\n",
    "print(gm3)"
   ]
  },
  {
   "cell_type": "markdown",
   "id": "41d5bab2",
   "metadata": {},
   "source": [
    "### Call the 3X3 matrix of normal random variables generated in the last step `gm3`.\n",
    "* Use Numpy methods to create two other numpy arrays, `row_sum` and `col_sum`:\n",
    "* `row_sum` should be the length 3 array of the sum of the rows of `gm3`.\n",
    "* `col_sum` should be the length 3 array of the sum of the columns of `gm3`"
   ]
  },
  {
   "cell_type": "code",
   "execution_count": 72,
   "id": "f567b820",
   "metadata": {},
   "outputs": [
    {
     "name": "stdout",
     "output_type": "stream",
     "text": [
      "Sum of the rows of gm3: [24.29504391 29.23317301 30.44817506]\n",
      "Sum of the colums of gm3: [26.85653087 25.03566083 32.08420029]\n",
      "\n",
      "Row 1 sum: 24.295043909999997\n",
      "Col 1 sum: 26.85653086\n"
     ]
    }
   ],
   "source": [
    "# Your code here\n",
    "row_sum = np.sum(gm3, 1)\n",
    "col_sum = np.sum(gm3, 0)\n",
    "print(f'Sum of the rows of gm3: {row_sum}\\nSum of the colums of gm3: {col_sum}\\n')\n",
    "\n",
    "# check work\n",
    "r1 = 7.07308865 + 10.79450086 + 6.4274544\n",
    "c1 = 7.07308865 + 8.7938588 + 10.98958341\n",
    "print(f'Row 1 sum: {r1}\\nCol 1 sum: {c1}')\n"
   ]
  }
 ],
 "metadata": {
  "kernelspec": {
   "display_name": "base",
   "language": "python",
   "name": "python3"
  },
  "language_info": {
   "codemirror_mode": {
    "name": "ipython",
    "version": 3
   },
   "file_extension": ".py",
   "mimetype": "text/x-python",
   "name": "python",
   "nbconvert_exporter": "python",
   "pygments_lexer": "ipython3",
   "version": "3.12.7"
  }
 },
 "nbformat": 4,
 "nbformat_minor": 5
}
