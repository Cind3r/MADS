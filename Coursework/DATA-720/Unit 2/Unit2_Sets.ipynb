{
 "cells": [
  {
   "cell_type": "markdown",
   "id": "b4522b94-c728-4075-9352-8013e828e4da",
   "metadata": {},
   "source": [
    "# Graded: x of 5 correct\n",
    "- [x] Function accepts list\n",
    "- [x] Function uses set\n",
    "- [x] Function returns list of uniques\n",
    "- [x] Tested with myList\n",
    "- [x] Tested with larger and non-numerical values\n",
    "\n",
    "Comments:"
   ]
  },
  {
   "cell_type": "markdown",
   "id": "79b9b181-ebe4-49aa-ae71-0bd72176b056",
   "metadata": {},
   "source": [
    "## Unit 2 Sets Quiz\n",
    "* The objective of this quiz is for you to write code that uses sets.\n",
    "* Please write a `function` called `keep_unique` that should do the following:\n",
    "    * Accept an input list.\n",
    "    * Return another list that contains only the unique elements in the input list.\n",
    "* Print out the number of items in the original list and the number of unique elements in the list.\n",
    "* A list called `myList` is included below for you to test your code.\n",
    "    * Please test you code with other larger lists as well as lists with non-numerical values."
   ]
  },
  {
   "cell_type": "code",
   "execution_count": 11,
   "id": "003dc922-6347-477b-84fe-397c0c0ce58b",
   "metadata": {},
   "outputs": [],
   "source": [
    "import random\n",
    "\n",
    "## List for testing\n",
    "myList = [0, 1, 22, 1, 34, 67, 0, 67, 120, 33, 33, 0, 1]\n",
    "myList2 = [0, 'abc', 144, 1, 65, 1, 0, 'def', 'a', 32, 480, 0, 'abc', 'b']\n",
    "myList3 = [random.randint(0,1000) for _ in range(0, 1000)] "
   ]
  },
  {
   "cell_type": "code",
   "execution_count": 12,
   "id": "79112d3d-c6af-405b-b8f4-cc54aeedfa84",
   "metadata": {},
   "outputs": [
    {
     "name": "stdout",
     "output_type": "stream",
     "text": [
      "Original number of items in the list: 13\n",
      "Number of unique items in the list: 7\n",
      "Unique items in the list: [0, 1, 34, 67, 33, 22, 120]\n",
      "\n",
      "Original number of items in the list: 14\n",
      "Number of unique items in the list: 10\n",
      "Unique items in the list: [0, 1, 65, 32, 480, 'def', 'abc', 'a', 'b', 144]\n",
      "\n",
      "Original number of items in the list: 1000\n",
      "Number of unique items in the list: 635\n",
      "Unique items in the list: [0, 1, 3, 6, 7, 8, 10, 13, 16, 17, 18, 19, 21, 22, 23, 24, 27, 28, 29, 30, 31, 33, 36, 37, 41, 42, 43, 44, 46, 47, 49, 52, 53, 54, 55, 57, 58, 61, 62, 63, 64, 65, 66, 67, 69, 70, 71, 73, 74, 75, 76, 78, 79, 81, 84, 85, 87, 89, 90, 92, 93, 95, 96, 97, 98, 100, 102, 103, 104, 105, 106, 107, 108, 111, 112, 113, 114, 115, 117, 118, 119, 120, 121, 125, 126, 129, 131, 133, 134, 135, 136, 139, 141, 142, 143, 145, 146, 147, 148, 149, 150, 152, 153, 154, 155, 157, 158, 159, 166, 168, 169, 170, 172, 173, 175, 176, 177, 178, 179, 185, 186, 188, 189, 190, 192, 193, 194, 195, 197, 198, 199, 200, 201, 204, 205, 208, 212, 213, 214, 215, 216, 218, 220, 221, 222, 223, 224, 225, 227, 230, 231, 233, 234, 235, 238, 242, 243, 245, 246, 247, 250, 251, 252, 253, 254, 255, 256, 257, 258, 262, 263, 266, 267, 269, 270, 271, 272, 273, 274, 275, 276, 278, 279, 280, 281, 282, 284, 286, 287, 288, 290, 293, 294, 295, 296, 299, 300, 301, 303, 304, 309, 310, 311, 314, 315, 316, 317, 318, 320, 321, 322, 323, 325, 327, 328, 330, 333, 335, 336, 338, 342, 343, 344, 345, 346, 347, 349, 350, 351, 352, 353, 354, 355, 359, 360, 361, 362, 364, 366, 367, 368, 370, 373, 375, 377, 378, 379, 380, 381, 384, 385, 386, 387, 388, 389, 391, 393, 396, 399, 400, 401, 404, 405, 406, 407, 408, 410, 412, 414, 415, 416, 417, 418, 419, 420, 422, 423, 424, 425, 426, 430, 431, 433, 436, 437, 439, 440, 442, 445, 448, 449, 450, 451, 455, 456, 457, 458, 460, 461, 464, 465, 468, 469, 470, 473, 475, 477, 478, 481, 482, 484, 486, 487, 489, 491, 492, 494, 496, 498, 501, 504, 506, 509, 510, 511, 512, 514, 516, 517, 518, 521, 522, 524, 525, 526, 528, 529, 530, 531, 535, 536, 538, 542, 543, 544, 545, 546, 547, 548, 549, 550, 551, 552, 554, 555, 558, 559, 561, 564, 565, 566, 568, 574, 575, 576, 579, 580, 581, 582, 583, 585, 592, 593, 595, 596, 597, 598, 599, 600, 602, 605, 606, 607, 610, 611, 612, 613, 614, 615, 616, 617, 618, 619, 620, 621, 624, 626, 627, 629, 630, 631, 632, 634, 636, 637, 640, 641, 644, 645, 647, 648, 649, 650, 651, 652, 654, 656, 657, 659, 660, 662, 664, 668, 670, 673, 674, 678, 679, 681, 682, 685, 687, 688, 690, 691, 692, 694, 695, 698, 699, 700, 701, 703, 704, 705, 706, 707, 708, 709, 712, 714, 715, 716, 719, 721, 723, 725, 727, 731, 733, 734, 736, 737, 738, 739, 741, 742, 743, 744, 747, 749, 750, 751, 752, 753, 756, 757, 759, 761, 762, 763, 766, 767, 770, 771, 773, 776, 778, 781, 782, 784, 786, 787, 788, 789, 791, 792, 793, 794, 795, 797, 798, 799, 800, 801, 805, 806, 809, 810, 811, 813, 816, 817, 818, 819, 821, 822, 823, 825, 826, 827, 828, 829, 830, 831, 834, 836, 837, 838, 839, 840, 841, 842, 846, 847, 848, 849, 851, 852, 853, 854, 855, 857, 859, 862, 863, 864, 869, 872, 873, 874, 876, 877, 879, 880, 881, 882, 883, 884, 886, 888, 889, 890, 891, 893, 894, 895, 896, 897, 899, 900, 902, 903, 904, 905, 906, 909, 910, 911, 913, 914, 915, 916, 918, 919, 920, 923, 924, 925, 926, 928, 933, 935, 936, 937, 940, 941, 944, 945, 948, 951, 953, 954, 955, 956, 958, 959, 962, 963, 964, 965, 966, 967, 968, 969, 970, 972, 973, 974, 975, 978, 979, 980, 981, 982, 984, 985, 987, 990, 991, 992, 993, 994, 996, 1000]\n"
     ]
    }
   ],
   "source": [
    "# Write the code for your program below.\n",
    "\n",
    "def keep_unique(array):\n",
    "    return list(set(array))\n",
    "\n",
    "\n",
    "print(f\"Original number of items in the list: {len(myList)}\")\n",
    "print(f\"Number of unique items in the list: {len(keep_unique(myList))}\")\n",
    "print(f\"Unique items in the list: {keep_unique(myList)}\\n\")\n",
    "\n",
    "print(f\"Original number of items in the list: {len(myList2)}\")\n",
    "print(f\"Number of unique items in the list: {len(keep_unique(myList2))}\")\n",
    "print(f\"Unique items in the list: {keep_unique(myList2)}\\n\")\n",
    "\n",
    "print(f\"Original number of items in the list: {len(myList3)}\")\n",
    "print(f\"Number of unique items in the list: {len(keep_unique(myList3))}\")\n",
    "print(f\"Unique items in the list: {keep_unique(myList3)}\")"
   ]
  }
 ],
 "metadata": {
  "kernelspec": {
   "display_name": "Python 3",
   "language": "python",
   "name": "python3"
  },
  "language_info": {
   "codemirror_mode": {
    "name": "ipython",
    "version": 3
   },
   "file_extension": ".py",
   "mimetype": "text/x-python",
   "name": "python",
   "nbconvert_exporter": "python",
   "pygments_lexer": "ipython3",
   "version": "3.11.9"
  }
 },
 "nbformat": 4,
 "nbformat_minor": 5
}
