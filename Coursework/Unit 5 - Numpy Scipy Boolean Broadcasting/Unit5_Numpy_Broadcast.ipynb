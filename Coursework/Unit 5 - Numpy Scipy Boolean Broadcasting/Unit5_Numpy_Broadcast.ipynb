{
 "cells": [
  {
   "cell_type": "markdown",
   "id": "c62036fb-a578-48ee-aaef-531e69f6045c",
   "metadata": {},
   "source": [
    "# Graded: 7 of 7 correct\n",
    "- [x] Array `A`: (3,3) random ints\n",
    "- [x] Array `b`: (3,) random ints\n",
    "- [x] `A * b`\n",
    "- [x] Explanation of `A * b`: show broadcast versions\n",
    "- [x] Array `c`: (2,) random ints\n",
    "- [x] `A * c`\n",
    "- [x] Explanation of `A * c`\n",
    "\n",
    "Comments:\n"
   ]
  },
  {
   "cell_type": "markdown",
   "id": "8fb72e31",
   "metadata": {},
   "source": [
    "## Unit 5 Numpy_Broadcast Quiz\n",
    "* The objective of this quiz is to understand how to use how broadcasting works with Numpy arrays."
   ]
  },
  {
   "cell_type": "code",
   "execution_count": 12,
   "id": "7fae945f",
   "metadata": {
    "tags": []
   },
   "outputs": [
    {
     "name": "stdout",
     "output_type": "stream",
     "text": [
      "<IPython.core.display.Latex object>\n",
      "Numpy version is 1.26.4\n"
     ]
    }
   ],
   "source": [
    "## Import Numpy and check version\n",
    "import numpy as np\n",
    "from IPython.display import Latex as lt\n",
    "\n",
    "# Room_length [m]\n",
    "\n",
    "print(f\"Numpy version is {np.__version__}\")"
   ]
  },
  {
   "cell_type": "markdown",
   "id": "757c3bc7",
   "metadata": {},
   "source": [
    "***\n",
    "## Broadcasting is a feature of Numpy arrays that allows arithmetic operations between arrays that are not necessarily of compatible dimension for the computation.\n",
    "* During such an operation, the arrays are \"broadcast\" to a certain size that makes the operartion possible.\n",
    "* Knowledge of broadcasting is useful in a number of places, for example deep learning methids."
   ]
  },
  {
   "cell_type": "markdown",
   "id": "f4633495-8623-41f3-99bf-4f9e1c590508",
   "metadata": {},
   "source": [
    "## Create  a Numpy array `A` as a (3, 3) array of random integers."
   ]
  },
  {
   "cell_type": "code",
   "execution_count": 6,
   "id": "77cf6d66",
   "metadata": {
    "tags": []
   },
   "outputs": [
    {
     "name": "stdout",
     "output_type": "stream",
     "text": [
      "[[6 5 9]\n",
      " [6 7 1]\n",
      " [9 6 4]]\n"
     ]
    }
   ],
   "source": [
    "# Your code here\n",
    "A = np.random.randint(0,10,size=[3,3])\n",
    "print(A)\n",
    "\n"
   ]
  },
  {
   "cell_type": "markdown",
   "id": "c3b1ce6a-67e1-4d64-a71b-37f4e695d6a3",
   "metadata": {},
   "source": [
    "## Create a second numpy array, `b` of size (3,) of random integers."
   ]
  },
  {
   "cell_type": "code",
   "execution_count": 8,
   "id": "6ed21e4a-1ae9-48dc-91d5-332bf7ebab99",
   "metadata": {
    "tags": []
   },
   "outputs": [
    {
     "name": "stdout",
     "output_type": "stream",
     "text": [
      "[8 0 9]\n"
     ]
    }
   ],
   "source": [
    "# Your code here\n",
    "b = np.random.randint(0, 10, size=[ 3])\n",
    "print(b)"
   ]
  },
  {
   "cell_type": "markdown",
   "id": "2e776ac1-0f55-4edb-b885-f02662f56504",
   "metadata": {},
   "source": [
    "## Perform the operation `A*b`"
   ]
  },
  {
   "cell_type": "code",
   "execution_count": 30,
   "id": "f42c9b1f-a211-4b49-a2c5-f3970275fdf1",
   "metadata": {
    "tags": []
   },
   "outputs": [
    {
     "name": "stdout",
     "output_type": "stream",
     "text": [
      "[[48  0 81]\n",
      " [48  0  9]\n",
      " [72  0 36]]\n",
      "[129  57 108]\n"
     ]
    }
   ],
   "source": [
    "# Your code below\n",
    "print(A*b)\n"
   ]
  },
  {
   "cell_type": "markdown",
   "id": "7061a3f7-4e03-4cab-93cb-d80669ee16d3",
   "metadata": {
    "tags": []
   },
   "source": [
    "***\n",
    "## Explain why it was possible to compute `A*b` in the above case. \n",
    "* As part of your explanation, show the broadcast versions of `A` and `b`"
   ]
  },
  {
   "cell_type": "markdown",
   "id": "2d664b45-550d-4237-a8d8-dde5c16caea7",
   "metadata": {},
   "source": [
    "### Explanation here.\n",
    "The multiplication becomes possible due to `broadcasting`, which supplements a scalar value across n-dimensions to make multiplication possible. To demonstrate: \n",
    "\n",
    "$$\n",
    "\\begin{bmatrix}\n",
    "6 & 5 & 9 \\\\\n",
    "6 & 7 & 1 \\\\\n",
    "9 & 6  & 4\n",
    "\\end{bmatrix}\n",
    "*\n",
    "\\begin{bmatrix}\n",
    "8 & 0 & 9 \n",
    "\\end{bmatrix}\n",
    "$$\n",
    "\n",
    "Becomes the below operation: \n",
    "$$\n",
    "\\begin{bmatrix}\n",
    "6 & 5 & 9 \\\\\n",
    "6 & 7 & 1 \\\\\n",
    "9 & 6  & 4\n",
    "\\end{bmatrix}\n",
    "*\n",
    "\\begin{bmatrix}\n",
    "8 & 0 & 9 \\\\\n",
    "8 & 0 & 9 \\\\\n",
    "8 & 0 & 9 \n",
    "\\end{bmatrix}\n",
    "$$\n",
    "\n",
    "Which we can see due to the result operation being:\n",
    "$$\n",
    "\\begin{bmatrix}\n",
    "48 & 0 & 81 \\\\\n",
    " 48 & 0 & 9 \\\\\n",
    " 72 & 0 & 36\n",
    "\\end{bmatrix}\n",
    "$$\n",
    "\n",
    "#### Note:\n",
    "This is **not** complete matrix multiplication, to perform complete multiplication `np.matmul(A, b)` should be used instead, which would get you the correct answer as shown below. "
   ]
  },
  {
   "cell_type": "code",
   "execution_count": 31,
   "id": "39a9d8cb",
   "metadata": {},
   "outputs": [
    {
     "name": "stdout",
     "output_type": "stream",
     "text": [
      "[129  57 108]\n"
     ]
    }
   ],
   "source": [
    "print(np.matmul(A, b))"
   ]
  },
  {
   "cell_type": "markdown",
   "id": "7ba24f10",
   "metadata": {},
   "source": [
    "$$\n",
    "\\begin{bmatrix}\n",
    "48 & 0 & 81 \\\\\n",
    " 48 & 0 & 9 \\\\\n",
    " 72 & 0 & 36\n",
    "\\end{bmatrix}\n",
    "$$\n",
    "\n",
    "Where if we sum together all the rows, we get the expected output of a 3x3 * 3x1 matrix. \n",
    "\n",
    "$$\n",
    "\\begin{bmatrix}\n",
    " 129 & 57 & 108\n",
    "\\end{bmatrix}\n",
    "$$\n"
   ]
  },
  {
   "cell_type": "markdown",
   "id": "68923ee1-b4b2-44cb-a597-09c1687efad3",
   "metadata": {},
   "source": [
    "***\n",
    "## Now create a third array `c` that is a (2,) array of random integers."
   ]
  },
  {
   "cell_type": "code",
   "execution_count": 19,
   "id": "dc9edde4-2a86-47f7-98d4-e7147d472ce0",
   "metadata": {
    "tags": []
   },
   "outputs": [
    {
     "name": "stdout",
     "output_type": "stream",
     "text": [
      "[6 1]\n"
     ]
    }
   ],
   "source": [
    "# Your code here\n",
    "c = np.random.randint(0, 10, size=[2,])\n",
    "print(c)"
   ]
  },
  {
   "cell_type": "markdown",
   "id": "1c6a8858-ea34-4d0f-b725-be9cafcca73a",
   "metadata": {},
   "source": [
    "## Perform the operation `A*c`"
   ]
  },
  {
   "cell_type": "code",
   "execution_count": 20,
   "id": "e5f3521c-48a8-4d3a-b45f-38de67fef388",
   "metadata": {
    "tags": []
   },
   "outputs": [
    {
     "ename": "ValueError",
     "evalue": "operands could not be broadcast together with shapes (3,3) (2,) ",
     "output_type": "error",
     "traceback": [
      "\u001b[1;31m---------------------------------------------------------------------------\u001b[0m",
      "\u001b[1;31mValueError\u001b[0m                                Traceback (most recent call last)",
      "Cell \u001b[1;32mIn[20], line 2\u001b[0m\n\u001b[0;32m      1\u001b[0m \u001b[38;5;66;03m# Your code here\u001b[39;00m\n\u001b[1;32m----> 2\u001b[0m \u001b[38;5;28mprint\u001b[39m(A\u001b[38;5;241m*\u001b[39mc)\n",
      "\u001b[1;31mValueError\u001b[0m: operands could not be broadcast together with shapes (3,3) (2,) "
     ]
    }
   ],
   "source": [
    "# Your code here\n",
    "print(A*c)"
   ]
  },
  {
   "cell_type": "markdown",
   "id": "3084d4cd-7dca-48a8-b006-752ce9c81b3a",
   "metadata": {},
   "source": [
    "***\n",
    "## Explain, in terms of broadcasting, why it was not possible to compute `A*c`"
   ]
  },
  {
   "cell_type": "markdown",
   "id": "cb9bea9c-86f6-4bc5-a7db-e85a60bc218a",
   "metadata": {},
   "source": [
    "### Your explanation here."
   ]
  },
  {
   "cell_type": "markdown",
   "id": "baeb790c-7b7d-4329-831b-d67a9eebdae2",
   "metadata": {},
   "source": [
    "Numpy considers matrix compatibility (for broadcasting) off of two rules; two dimensions are compatible when,\n",
    "\n",
    "1. they are equal, or\n",
    "2. one of them is 1.\n",
    "\n",
    "as `c = [2,]` and `A = [3, 3]`their sizes are incompatible and `c` cannot be stretched to fit accordingly. To demonstrate: \n",
    "\n",
    "$$\n",
    "\\begin{bmatrix}\n",
    "6 & 5 & 9 \\\\\n",
    "6 & 7 & 1 \\\\\n",
    "9 & 6  & 4\n",
    "\\end{bmatrix}\n",
    "*\n",
    "\\begin{bmatrix}\n",
    "6 & 1  \n",
    "\\end{bmatrix}\n",
    "$$\n",
    "\n",
    "Becomes the below operation: \n",
    "$$\n",
    "\\begin{bmatrix}\n",
    "6 & 5 & 9 \\\\\n",
    "6 & 7 & 1 \\\\\n",
    "9 & 6  & 4\n",
    "\\end{bmatrix}\n",
    "*\n",
    "\\begin{bmatrix}\n",
    "6 & 1  \\\\\n",
    "6 & 1  \\\\\n",
    "6 & 1  \n",
    "\\end{bmatrix}\n",
    "$$\n",
    "\n",
    "Which **is possible** for matrix multiplication, but **not broadcasting**. It's a bit confusing since the stretched values of c results in a dimension of `c = 2x3`, with `c` having 3 rows, it is compatible for `A = 3x3` as it has only 3 columns. This case, you'd want to use `np.matmul()`, however that also doesn't work since the function doesn't perform broadcasting. \n",
    "\n",
    "\n"
   ]
  },
  {
   "cell_type": "code",
   "execution_count": 34,
   "id": "42231cbd",
   "metadata": {},
   "outputs": [
    {
     "ename": "ValueError",
     "evalue": "matmul: Input operand 1 has a mismatch in its core dimension 0, with gufunc signature (n?,k),(k,m?)->(n?,m?) (size 2 is different from 3)",
     "output_type": "error",
     "traceback": [
      "\u001b[1;31m---------------------------------------------------------------------------\u001b[0m",
      "\u001b[1;31mValueError\u001b[0m                                Traceback (most recent call last)",
      "Cell \u001b[1;32mIn[34], line 1\u001b[0m\n\u001b[1;32m----> 1\u001b[0m \u001b[38;5;28mprint\u001b[39m(np\u001b[38;5;241m.\u001b[39mmatmul(A,c))\n",
      "\u001b[1;31mValueError\u001b[0m: matmul: Input operand 1 has a mismatch in its core dimension 0, with gufunc signature (n?,k),(k,m?)->(n?,m?) (size 2 is different from 3)"
     ]
    }
   ],
   "source": [
    "print(np.matmul(A,c))"
   ]
  },
  {
   "cell_type": "markdown",
   "id": "285acd05",
   "metadata": {},
   "source": [
    "Now what if we were to implement that broadcasting ourselves? "
   ]
  },
  {
   "cell_type": "code",
   "execution_count": 53,
   "id": "dce5ddd0",
   "metadata": {},
   "outputs": [
    {
     "name": "stdout",
     "output_type": "stream",
     "text": [
      "[[120  20]\n",
      " [ 84  14]\n",
      " [114  19]]\n"
     ]
    }
   ],
   "source": [
    "# Get the number of columns for the first matrix (A)\n",
    "col = A.shape[1]\n",
    "\n",
    "# broadcast with a place holder array of 0s based off column of first matrix\n",
    "# i is a disposable array of 0s\n",
    "c_b, i = np.broadcast_arrays(c, np.zeros(shape=[col,1])) # we want the number of rows to match, so we need to scale the rows of c by the number of columns of A\n",
    "\n",
    "# Now perform matrix multiplication \n",
    "print(np.matmul(A, c_b))\n",
    "\n"
   ]
  },
  {
   "cell_type": "markdown",
   "id": "ce1fcb54",
   "metadata": {},
   "source": [
    "This being said, I don't know if it necessary serves any purpose, as you're generating data that doesn't exist. This was more just a thought experiment and trying to see how the broadcasting feature worked. "
   ]
  }
 ],
 "metadata": {
  "kernelspec": {
   "display_name": "base",
   "language": "python",
   "name": "python3"
  },
  "language_info": {
   "codemirror_mode": {
    "name": "ipython",
    "version": 3
   },
   "file_extension": ".py",
   "mimetype": "text/x-python",
   "name": "python",
   "nbconvert_exporter": "python",
   "pygments_lexer": "ipython3",
   "version": "3.12.7"
  }
 },
 "nbformat": 4,
 "nbformat_minor": 5
}
