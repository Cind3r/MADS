{
 "cells": [
  {
   "cell_type": "markdown",
   "id": "cf6026a9-ffb8-47e5-9b45-8351a921bd97",
   "metadata": {},
   "source": [
    "# Graded: 5 of 5 correct\n",
    "- [x] Compute the list of all manufacturers whose \"Real-World Comb MPG\" was higher than 25\n",
    "- [x] Find the list of all manufacturers whose real-world comb MPG was higher that 25 AND whose 0-60 time is less than 8 seconds\n",
    "- [x] What was the HP for GM vehicles?\n",
    "- [x] What were the real-world comb MPG and weight for VW?\n",
    "- [x] Create a Numpy array that has the real-world comb MPG, weight and 0-60 time (in that order) for Ford, VW and Honda (in that order)\n",
    "\n",
    "Comments:\n"
   ]
  },
  {
   "cell_type": "markdown",
   "id": "8fb72e31",
   "metadata": {},
   "source": [
    "## Unit 5 Numpy_Boolean_Selection Quiz\n",
    "* The objective of this quiz is to understand how to use boolean arrays for selecting subsets from Numpy arrays."
   ]
  },
  {
   "cell_type": "code",
   "execution_count": 74,
   "id": "7fae945f",
   "metadata": {},
   "outputs": [
    {
     "name": "stdout",
     "output_type": "stream",
     "text": [
      "Numpy version is 1.26.4\n"
     ]
    }
   ],
   "source": [
    "## Import Numpy and check version\n",
    "import numpy as np\n",
    "print(f\"Numpy version is {np.__version__}\")\n",
    "import pickle\n",
    "import comp116\n",
    "import pandas as pd"
   ]
  },
  {
   "cell_type": "markdown",
   "id": "757c3bc7",
   "metadata": {},
   "source": [
    "### Boolean arrays are very useful in selecting subsets of arrays.\n",
    "* Boolean array selection is useful not just for Numpy arays but also Pandas data frames.\n",
    "* In this quiz you will be working with fuel economy data for selected autmotive vehicle manufacturers for the year 2017.\n",
    "    * You can get current data similar to this from [here](https://www.fueleconomy.gov/feg/download.shtml).\n",
    "    * The data you get will need to be cleaned up to get into a format like what we are using in this quiz.\n",
    "* You will be reading in 3 Numpy arrays, `data_var_names`, `manufacturer_names`, and `mpgData`.\n",
    "    * `data_var_names` is the array of the type of data that has been read in.\n",
    "    * `manufacturer_names` is the array of the names of the manufacturer.\n",
    "    * `mpgData` is the data itself\n",
    "* You should consider these three arrays as jointly describing a table.\n",
    "    * `data_var_names` is the first row of the table with headers;\n",
    "    * `manufacturer_names` is the first column of row labels;\n",
    "    * `mpgData` is the data itself\n",
    "    \n",
    "* When you learn about pandas, you will see that the pandas data frame is an elegant way of keeping these 3 pieces of information in one object, the data frame. For now, we work with numpy arrays."
   ]
  },
  {
   "cell_type": "code",
   "execution_count": 3,
   "id": "35ea335a",
   "metadata": {},
   "outputs": [
    {
     "data": {
      "text/html": [
       "<h1>2017 Fuel Economy data by Manufacturer</h1>"
      ],
      "text/plain": [
       "<IPython.core.display.HTML object>"
      ]
     },
     "metadata": {},
     "output_type": "display_data"
    },
    {
     "data": {
      "text/html": [
       "<table border=\"1\" class=\"dataframe\">\n",
       "  <thead>\n",
       "    <tr style=\"text-align: right;\">\n",
       "      <th></th>\n",
       "      <th>Real-World Comb MPG</th>\n",
       "      <th>Real-World Comb CO2 g/mi</th>\n",
       "      <th>Weight (lbs)</th>\n",
       "      <th>HP</th>\n",
       "      <th>0-60 Time (s)</th>\n",
       "    </tr>\n",
       "  </thead>\n",
       "  <tbody>\n",
       "    <tr>\n",
       "      <th>GM</th>\n",
       "      <td>22.9</td>\n",
       "      <td>388.0</td>\n",
       "      <td>4520.0</td>\n",
       "      <td>265.0</td>\n",
       "      <td>8.0</td>\n",
       "    </tr>\n",
       "    <tr>\n",
       "      <th>Toyota</th>\n",
       "      <td>25.3</td>\n",
       "      <td>351.0</td>\n",
       "      <td>4059.0</td>\n",
       "      <td>216.0</td>\n",
       "      <td>8.5</td>\n",
       "    </tr>\n",
       "    <tr>\n",
       "      <th>Ford</th>\n",
       "      <td>22.9</td>\n",
       "      <td>388.0</td>\n",
       "      <td>4360.0</td>\n",
       "      <td>262.0</td>\n",
       "      <td>7.9</td>\n",
       "    </tr>\n",
       "    <tr>\n",
       "      <th>FCA</th>\n",
       "      <td>21.2</td>\n",
       "      <td>420.0</td>\n",
       "      <td>4510.0</td>\n",
       "      <td>280.0</td>\n",
       "      <td>7.5</td>\n",
       "    </tr>\n",
       "    <tr>\n",
       "      <th>Nissan-Mitsubishi</th>\n",
       "      <td>27.1</td>\n",
       "      <td>327.0</td>\n",
       "      <td>3770.0</td>\n",
       "      <td>201.0</td>\n",
       "      <td>8.9</td>\n",
       "    </tr>\n",
       "    <tr>\n",
       "      <th>Honda</th>\n",
       "      <td>29.4</td>\n",
       "      <td>302.0</td>\n",
       "      <td>3595.0</td>\n",
       "      <td>203.0</td>\n",
       "      <td>8.1</td>\n",
       "    </tr>\n",
       "    <tr>\n",
       "      <th>Hyundai</th>\n",
       "      <td>28.6</td>\n",
       "      <td>311.0</td>\n",
       "      <td>3458.0</td>\n",
       "      <td>176.0</td>\n",
       "      <td>8.9</td>\n",
       "    </tr>\n",
       "    <tr>\n",
       "      <th>Subaru</th>\n",
       "      <td>28.5</td>\n",
       "      <td>312.0</td>\n",
       "      <td>3724.0</td>\n",
       "      <td>181.0</td>\n",
       "      <td>9.3</td>\n",
       "    </tr>\n",
       "    <tr>\n",
       "      <th>VW</th>\n",
       "      <td>26.5</td>\n",
       "      <td>335.0</td>\n",
       "      <td>3894.0</td>\n",
       "      <td>225.0</td>\n",
       "      <td>7.9</td>\n",
       "    </tr>\n",
       "    <tr>\n",
       "      <th>Kia</th>\n",
       "      <td>27.2</td>\n",
       "      <td>327.0</td>\n",
       "      <td>3592.0</td>\n",
       "      <td>186.0</td>\n",
       "      <td>8.8</td>\n",
       "    </tr>\n",
       "    <tr>\n",
       "      <th>Mercedes</th>\n",
       "      <td>23.1</td>\n",
       "      <td>385.0</td>\n",
       "      <td>4536.0</td>\n",
       "      <td>288.0</td>\n",
       "      <td>7.0</td>\n",
       "    </tr>\n",
       "    <tr>\n",
       "      <th>BMW</th>\n",
       "      <td>25.9</td>\n",
       "      <td>341.0</td>\n",
       "      <td>4107.0</td>\n",
       "      <td>257.0</td>\n",
       "      <td>7.0</td>\n",
       "    </tr>\n",
       "    <tr>\n",
       "      <th>Mazda</th>\n",
       "      <td>29.0</td>\n",
       "      <td>306.0</td>\n",
       "      <td>3569.0</td>\n",
       "      <td>178.0</td>\n",
       "      <td>8.9</td>\n",
       "    </tr>\n",
       "  </tbody>\n",
       "</table>"
      ],
      "text/plain": [
       "<IPython.core.display.HTML object>"
      ]
     },
     "metadata": {},
     "output_type": "display_data"
    }
   ],
   "source": [
    "### Read the pickle file\n",
    "with open('fuel_economy.data.pickle', 'rb') as fid:\n",
    "    (data_var_names, manufacturer_names, mpgData) = pickle.load(fid)\n",
    "comp116.array_to_html(mpgData, row_names=manufacturer_names, col_names=data_var_names,\n",
    "                      title='2017 Fuel Economy data by Manufacturer')"
   ]
  },
  {
   "cell_type": "markdown",
   "id": "d9662f47",
   "metadata": {},
   "source": [
    "***\n",
    "### For the rest of this quiz, you should use comparisons and boolean values to select subsets. You should not make use of the absolute index of the data.\n",
    "* For example, you know that `\"Real-World Comb MPG\"` is in the column with index 0, and `\"Ford\"` is the row with index 2 in `mpgData`. But do not use `mpgData[2, 0]` to get to the real-world mpg data for Ford. Look at the course lecture on this topic to refresh."
   ]
  },
  {
   "cell_type": "markdown",
   "id": "8a71c20c",
   "metadata": {},
   "source": [
    "### Compute the list of all manufacturers whose `\"Real-World Comb MPG\"` was higher than 25."
   ]
  },
  {
   "cell_type": "code",
   "execution_count": 28,
   "id": "f4e4b882",
   "metadata": {},
   "outputs": [
    {
     "name": "stdout",
     "output_type": "stream",
     "text": [
      "\n",
      " Col Offset: 0\n",
      "\n",
      "MPG Boolean: [False  True False False  True  True  True  True  True  True False  True\n",
      "  True]\n",
      "\n",
      "List of manufacturers > 25 RWC MPG: ['Toyota' 'Nissan-Mitsubishi' 'Honda' 'Hyundai' 'Subaru' 'VW' 'Kia' 'BMW'\n",
      " 'Mazda']\n"
     ]
    }
   ],
   "source": [
    "# Your code here\n",
    "col_boolean = (data_var_names == \"Real-World Comb MPG\")\n",
    "col_offset = np.argmax(col_boolean)\n",
    "print(\"\\nCol Offset:\", col_offset)\n",
    "\n",
    "mpg_boolean = (mpgData[:, col_offset] > 25)\n",
    "print(\"\\nMPG Boolean:\",mpg_boolean)\n",
    "\n",
    "print(f'\\nList of manufacturers > 25 RWC MPG: {manufacturer_names[mpg_boolean]}')\n"
   ]
  },
  {
   "cell_type": "markdown",
   "id": "19b93aa3",
   "metadata": {},
   "source": [
    "### Find the list of all manufacturers whose real-world comb MPG was higher that 25 AND whose 0-60 time is less than 8 seconds"
   ]
  },
  {
   "cell_type": "code",
   "execution_count": 32,
   "id": "14c1adbb",
   "metadata": {},
   "outputs": [
    {
     "name": "stdout",
     "output_type": "stream",
     "text": [
      "\n",
      "MPG Offset: 0\n",
      "0-60 Offset: 4\n",
      "\n",
      "MPG Boolean: [False  True False False  True  True  True  True  True  True False  True\n",
      "  True]\n",
      "0-60 Boolean: [False False  True  True False False False False  True False  True  True\n",
      " False]\n",
      "\n",
      "List of manufacturers where RWC MPG > 25 and 0-60 time < 8s: ['VW' 'BMW']\n"
     ]
    }
   ],
   "source": [
    "# Your code here\n",
    "# Grab column for MPG\n",
    "col_boolean_1 = (data_var_names == \"Real-World Comb MPG\")\n",
    "col_offset_1 = np.argmax(col_boolean_1)\n",
    "\n",
    "# Grab column for 0-60 time\n",
    "col_boolean_2 = (data_var_names == \"0-60 Time (s)\")\n",
    "col_offset_2 = np.argmax(col_boolean_2)\n",
    "\n",
    "print(f\"\\nMPG Offset: {col_offset_1}\\n0-60 Offset: {col_offset_2}\")\n",
    "\n",
    "# Logic for MPG\n",
    "mpg_boolean = (mpgData[:, col_offset_1] > 25)\n",
    "\n",
    "# Logic for 0-60 \n",
    "time_boolean = (mpgData[:, col_offset_2] < 8)\n",
    "\n",
    "print(f\"\\nMPG Boolean: {mpg_boolean}\\n0-60 Boolean: {time_boolean}\")\n",
    "\n",
    "# Create mask for both requirements\n",
    "mask_boolean = mpg_boolean & time_boolean\n",
    "\n",
    "print(f'\\nList of manufacturers where RWC MPG > 25 and 0-60 time < 8s: {manufacturer_names[mask_boolean]}')"
   ]
  },
  {
   "cell_type": "markdown",
   "id": "ef5e8d44",
   "metadata": {},
   "source": [
    "### What was the HP for GM vehicles?"
   ]
  },
  {
   "cell_type": "code",
   "execution_count": 40,
   "id": "c2bb6abb",
   "metadata": {},
   "outputs": [
    {
     "name": "stdout",
     "output_type": "stream",
     "text": [
      "The HP for GM vehicles: [265.]\n"
     ]
    }
   ],
   "source": [
    "# Your code here\n",
    "GM_vehicles = (manufacturer_names == \"GM\")\n",
    "HP_offset = np.argmax(data_var_names == \"HP\")\n",
    "\n",
    "print(f'The HP for GM vehicles: {mpgData[GM_vehicles, HP_offset]}')"
   ]
  },
  {
   "cell_type": "markdown",
   "id": "5ac98492",
   "metadata": {},
   "source": [
    "### What were the real-world comb MPG and weight for VW?"
   ]
  },
  {
   "cell_type": "code",
   "execution_count": 43,
   "id": "b71a43a3",
   "metadata": {},
   "outputs": [
    {
     "name": "stdout",
     "output_type": "stream",
     "text": [
      "Real World Comb MPG for VW: [26.5]\n",
      "Weight for VW: [3894.]\n"
     ]
    }
   ],
   "source": [
    "# Your code here\n",
    "\n",
    "# get indexes\n",
    "VW_vehicles = (manufacturer_names == \"VW\")\n",
    "weight_offset = np.argmax(data_var_names == \"Weight (lbs)\")\n",
    "mpg_offset = col_offset_1 # from previous\n",
    "\n",
    "print(f'Real World Comb MPG for VW: {mpgData[VW_vehicles, mpg_offset]}\\nWeight for VW: {mpgData[VW_vehicles, weight_offset]}')"
   ]
  },
  {
   "cell_type": "markdown",
   "id": "4f6b5b82",
   "metadata": {},
   "source": [
    "***"
   ]
  },
  {
   "cell_type": "markdown",
   "id": "63cfd83a",
   "metadata": {},
   "source": [
    "### Create a Numpy array that has the real-world comb MPG, weight and 0-60 time (in that order) for Ford, VW and Honda (in that order)"
   ]
  },
  {
   "cell_type": "code",
   "execution_count": 73,
   "id": "77cf6d66",
   "metadata": {},
   "outputs": [
    {
     "name": "stdout",
     "output_type": "stream",
     "text": [
      "[[['Ford']\n",
      "  ['22.9']\n",
      "  ['4360.0']\n",
      "  ['7.9']]\n",
      "\n",
      " [['VW']\n",
      "  ['26.5']\n",
      "  ['3894.0']\n",
      "  ['7.9']]\n",
      "\n",
      " [['Honda']\n",
      "  ['29.4']\n",
      "  ['3595.0']\n",
      "  ['8.1']]]\n"
     ]
    }
   ],
   "source": [
    "# Your code here\n",
    "\n",
    "# Create indexes for Ford & Honda / copy over VW\n",
    "Ford_vehicles = (manufacturer_names == \"Ford\")\n",
    "VW_vehicles = (manufacturer_names == \"VW\")\n",
    "Honda_vehicles = (manufacturer_names == \"Honda\")\n",
    "\n",
    "#  Index necessary columns\n",
    "mpg_offset = np.argmax(data_var_names == \"Real-World Comb MPG\") # from previous\n",
    "weight_offset = np.argmax(data_var_names == \"Weight (lbs)\")\n",
    "time_offset = np.argmax(data_var_names == \"0-60 Time (s)\")\n",
    "\n",
    "# Create array \n",
    "output_array = np.array([\n",
    "    [\n",
    "        manufacturer_names[Ford_vehicles], \n",
    "        mpgData[Ford_vehicles, mpg_offset], \n",
    "        mpgData[Ford_vehicles, weight_offset], \n",
    "        mpgData[Ford_vehicles, time_offset]\n",
    "    ],\n",
    "    [\n",
    "        manufacturer_names[VW_vehicles], \n",
    "        mpgData[VW_vehicles, mpg_offset], \n",
    "        mpgData[VW_vehicles, weight_offset], \n",
    "        mpgData[VW_vehicles, time_offset]\n",
    "    ],\n",
    "    [\n",
    "        manufacturer_names[Honda_vehicles], \n",
    "        mpgData[Honda_vehicles, mpg_offset], \n",
    "        mpgData[Honda_vehicles, weight_offset], \n",
    "        mpgData[Honda_vehicles, time_offset]\n",
    "    ]\n",
    "])\n",
    "\n",
    "# Print\n",
    "print(output_array)\n",
    "\n"
   ]
  },
  {
   "cell_type": "markdown",
   "id": "3570406f",
   "metadata": {},
   "source": [
    "***\n",
    "#### Testing\n",
    "\n",
    "Attempting to build an output table"
   ]
  },
  {
   "cell_type": "code",
   "execution_count": 90,
   "id": "afe23b04",
   "metadata": {},
   "outputs": [
    {
     "data": {
      "text/html": [
       "<h1>2017 Fuel Economy data (RWC MPG, Weight, 0-60 Time) by Manufacturer (Ford, VW, Honda)</h1>"
      ],
      "text/plain": [
       "<IPython.core.display.HTML object>"
      ]
     },
     "metadata": {},
     "output_type": "display_data"
    },
    {
     "data": {
      "text/html": [
       "<table border=\"1\" class=\"dataframe\">\n",
       "  <thead>\n",
       "    <tr style=\"text-align: right;\">\n",
       "      <th></th>\n",
       "      <th>Real-World Comb MPG</th>\n",
       "      <th>Weight (lbs)</th>\n",
       "      <th>0-60 Time (s)</th>\n",
       "    </tr>\n",
       "  </thead>\n",
       "  <tbody>\n",
       "    <tr>\n",
       "      <th>Ford</th>\n",
       "      <td>22.9</td>\n",
       "      <td>4360.0</td>\n",
       "      <td>7.9</td>\n",
       "    </tr>\n",
       "    <tr>\n",
       "      <th>VW</th>\n",
       "      <td>26.5</td>\n",
       "      <td>3894.0</td>\n",
       "      <td>7.9</td>\n",
       "    </tr>\n",
       "    <tr>\n",
       "      <th>Honda</th>\n",
       "      <td>29.4</td>\n",
       "      <td>3595.0</td>\n",
       "      <td>8.1</td>\n",
       "    </tr>\n",
       "  </tbody>\n",
       "</table>"
      ],
      "text/plain": [
       "<IPython.core.display.HTML object>"
      ]
     },
     "metadata": {},
     "output_type": "display_data"
    }
   ],
   "source": [
    "row_names = [\n",
    "    manufacturer_names[Ford_vehicles].item(), \n",
    "    manufacturer_names[VW_vehicles].item(), \n",
    "    manufacturer_names[Honda_vehicles].item()\n",
    "    ]\n",
    "\n",
    "col_names = [\n",
    "    data_var_names[mpg_offset], \n",
    "    data_var_names[weight_offset], \n",
    "    data_var_names[time_offset]\n",
    "    ]\n",
    "\n",
    "data_table = [\n",
    "    [\n",
    "        mpgData[Ford_vehicles, mpg_offset].item(), \n",
    "        mpgData[Ford_vehicles, weight_offset].item(), \n",
    "        mpgData[Ford_vehicles, time_offset].item()\n",
    "    ],\n",
    "    [\n",
    "        mpgData[VW_vehicles, mpg_offset].item(), \n",
    "        mpgData[VW_vehicles, weight_offset].item(), \n",
    "        mpgData[VW_vehicles, time_offset].item()\n",
    "    ],\n",
    "    [\n",
    "        mpgData[Honda_vehicles, mpg_offset].item(), \n",
    "        mpgData[Honda_vehicles, weight_offset].item(), \n",
    "        mpgData[Honda_vehicles, time_offset].item()\n",
    "    ]\n",
    "]\n",
    "\n",
    "data_table = np.array(data_table)\n",
    "\n",
    "comp116.array_to_html(data_table, row_names=row_names, col_names=col_names,\n",
    "                     title='2017 Fuel Economy data (RWC MPG, Weight, 0-60 Time) by Manufacturer (Ford, VW, Honda)')"
   ]
  }
 ],
 "metadata": {
  "kernelspec": {
   "display_name": "base",
   "language": "python",
   "name": "python3"
  },
  "language_info": {
   "codemirror_mode": {
    "name": "ipython",
    "version": 3
   },
   "file_extension": ".py",
   "mimetype": "text/x-python",
   "name": "python",
   "nbconvert_exporter": "python",
   "pygments_lexer": "ipython3",
   "version": "3.12.7"
  }
 },
 "nbformat": 4,
 "nbformat_minor": 5
}
