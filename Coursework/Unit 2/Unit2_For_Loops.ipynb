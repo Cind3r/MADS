{
 "cells": [
  {
   "cell_type": "markdown",
   "id": "dd8776d3-0d41-498b-9581-a9392b6c52be",
   "metadata": {},
   "source": [
    "# Graded: x of 8 correct\n",
    "- [x] Print message that explains rules\n",
    "- [x] Generate random number between\n",
    "- [x] Guess prompt\n",
    "- [x] Check value\n",
    "- [x] Provide guess feedback\n",
    "- [x] Exit when correct or guess limit is reached\n",
    "- [x] Success/failure message\n",
    "- [x] Test with different ranges/guess amounts\n",
    "\n",
    "Comments: "
   ]
  },
  {
   "cell_type": "markdown",
   "id": "79b9b181-ebe4-49aa-ae71-0bd72176b056",
   "metadata": {},
   "source": [
    "## Unit 2 For Loops Quiz\n",
    "* The objective of this quiz is for you to write code that implements a number guessing game.\n",
    "* The objective of the game is for the player to guess a randomly chosen number within a given number of guesses.\n",
    "* Your program should do the following:\n",
    "    * Print a suitable message that explains the rules of the game.\n",
    "    * Generate a random number within a specified range.\n",
    "        * Consider using the Python function `randint` from the [`random`](https://docs.python.org/3/library/random.html) module. Example usage is shown below.\n",
    "        * To begin with, assume that the range is from 0-100 and the player has to guess it within 6 guesses.\n",
    "    * Create a `for` loop that:\n",
    "        * Prompts the player to enter a guess.\n",
    "        * Checks if the entered value is equal to the randomly chosen value, greater than it or less than it.\n",
    "        * Provide feedback to the user on how the enetered value is related to the randomly chosen value.\n",
    "        * Exit the `for` loop if the guess is correct or the number of guesses exceeds the allowed number.\n",
    "    * Present a suitable message to the player about their success or failure in guessing the number.\n",
    "    \n",
    "* Test you code for different values of the range within which the random integer lies, and differeent numbers of allowed guesses.."
   ]
  },
  {
   "cell_type": "code",
   "execution_count": null,
   "id": "53aeda80-8714-47eb-b914-76c37e7858ac",
   "metadata": {},
   "outputs": [],
   "source": [
    "# Example of generating a random integer between 1 and 10\n",
    "import random\n",
    "rInt = random.randint(1, 10)\n",
    "print(\"Random integer: \", rInt)"
   ]
  },
  {
   "cell_type": "code",
   "execution_count": 4,
   "id": "79112d3d-c6af-405b-b8f4-cc54aeedfa84",
   "metadata": {},
   "outputs": [
    {
     "name": "stdout",
     "output_type": "stream",
     "text": [
      "Welcome to the number guessing game!\n",
      "I'm thinking of a number between 1 and 100.\n",
      "Try to guess it within 6 tries. Each time you guess, I'll tell you if you're too high or too low.\n",
      "\n",
      "\n",
      "32\n",
      "Congratulations! You guessed the correct number, 32, in 1 guesses.\n"
     ]
    }
   ],
   "source": [
    "# Write the code for your program below.\n",
    "import random\n",
    "\n",
    "def main():\n",
    "\n",
    "    print(\"Welcome to the number guessing game!\")\n",
    "    print(\"I'm thinking of a number between 1 and 100.\")\n",
    "    print(\"Try to guess it within 6 tries. Each time you guess, I'll tell you if you're too high or too low.\")\n",
    "    print(\"\\n\")\n",
    "\n",
    "    # Generate a random number between 1 and 100\n",
    "    random_number = random.randint(1, 100)\n",
    "    # print(random_number)    # For testing purposes\n",
    "    \n",
    "    # Initialize the number of guesses\n",
    "    num_guesses = 0\n",
    "\n",
    "    # Initialize the user's guess\n",
    "    user_guess = 0\n",
    "\n",
    "    # Set the maximum number of guesses\n",
    "    max_guesses = 6\n",
    "\n",
    "    # Loop until the user guesses the correct number\n",
    "    for i in range(max_guesses):\n",
    "        # Get the user's guess\n",
    "        user_guess = int(input(\"Enter your guess: \"))\n",
    "\n",
    "        # Increment the number of guesses\n",
    "        num_guesses += 1\n",
    "\n",
    "        # Check if the user's guess is correct\n",
    "        if user_guess == random_number:\n",
    "            print(f\"Congratulations! You guessed the correct number, {random_number}, in {num_guesses} guesses.\")\n",
    "            break\n",
    "        elif user_guess < random_number:\n",
    "            print(\"Too low! Try again.\")\n",
    "        else:\n",
    "            print(\"Too high! Try again.\")\n",
    "    \n",
    "    if num_guesses == max_guesses:\n",
    "        print(f\"Sorry, you have used all {max_guesses} guesses. The correct number was {random_number}.\")\n",
    "\n",
    "main()"
   ]
  }
 ],
 "metadata": {
  "kernelspec": {
   "display_name": "Python 3",
   "language": "python",
   "name": "python3"
  },
  "language_info": {
   "codemirror_mode": {
    "name": "ipython",
    "version": 3
   },
   "file_extension": ".py",
   "mimetype": "text/x-python",
   "name": "python",
   "nbconvert_exporter": "python",
   "pygments_lexer": "ipython3",
   "version": "3.11.9"
  }
 },
 "nbformat": 4,
 "nbformat_minor": 5
}
