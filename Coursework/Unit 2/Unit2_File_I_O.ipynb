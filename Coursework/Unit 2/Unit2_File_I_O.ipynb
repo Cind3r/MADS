{
 "cells": [
  {
   "cell_type": "markdown",
   "id": "9a0761f7-f192-4395-9001-a3c48509ce59",
   "metadata": {},
   "source": [
    "# Graded: x of 4 correct\n",
    "- [x] Read the data from the file\n",
    "- [x] Extract the date, city, and temperature values\n",
    "- [x] Calculate mean temperature for each city\n",
    "- [x] Identify dates where the city temperature was above the city average\n",
    "\n",
    "Comments: "
   ]
  },
  {
   "cell_type": "markdown",
   "id": "79b9b181-ebe4-49aa-ae71-0bd72176b056",
   "metadata": {},
   "source": [
    "## Unit 2 File I/O Quiz\n",
    "* The objective of this quiz is for you to write code that reads data from a file and does simple analysis on the data.\n",
    "* The name of the file is `Unit2_city_weather_data.csv`.\n",
    "* The file contains weather data for two North Carolina cities.\n",
    "* The file is in the CSV format.\n",
    "* The file has three columns: a date, a city and the temperature for that city and date.\n",
    "* Your code should do the following:\n",
    "    * Read the data from Unit2_city_weather_data.txt.\n",
    "    * Extract the date, city, and temperature values.\n",
    "    * Calculate the average temperature for each city.\n",
    "    * Print out the average temperature for each city.\n",
    "    * Identify and print the dates for each city where the temperature was above the city's average.\n",
    "* **Note: Do not use Pandas to read in data**"
   ]
  },
  {
   "cell_type": "code",
   "execution_count": 24,
   "id": "79112d3d-c6af-405b-b8f4-cc54aeedfa84",
   "metadata": {},
   "outputs": [
    {
     "name": "stdout",
     "output_type": "stream",
     "text": [
      "The average temperature in Charlotte is 21.33 degrees.\n",
      "The average temperature in Raleigh is 21.75 degrees.\n",
      "\n",
      "\n",
      "The temperature in Charlotte on 2024-01-04 was above average.\n",
      "The temperature in Raleigh on 2024-01-01 was above average.\n",
      "The temperature in Raleigh on 2024-01-03 was above average.\n",
      "The temperature in Raleigh on 2024-01-07 was above average.\n"
     ]
    }
   ],
   "source": [
    "# Write the code for your program below.\n",
    "import csv\n",
    "\n",
    "# Create empty lists to store data\n",
    "Date = []\n",
    "City = []\n",
    "Temperature = []\n",
    "    \n",
    "# Grab file for context\n",
    "with open(\"Unit2_city_weather_data.csv\", \"r\") as file:\n",
    "    \n",
    "    # Read the file\n",
    "    data = csv.reader(file)\n",
    "\n",
    "\n",
    "    # Skip the header\n",
    "    next(data)\n",
    "\n",
    "    for row in data:\n",
    "        Date.append(row[0])\n",
    "        City.append(row[1])\n",
    "        Temperature.append(row[2])\n",
    "    \n",
    "    file.close()\n",
    "\n",
    "def avg_temp(city):\n",
    "\n",
    "    # Create a counter to keep track of the number of times the city appears\n",
    "    count = 0\n",
    "\n",
    "    # Create a variable to store the sum of the temperature\n",
    "    total = 0\n",
    "\n",
    "    # Loop through the list of cities\n",
    "    for i in range(len(City)):\n",
    "        if City[i] == city:\n",
    "            total += float(Temperature[i])\n",
    "            count += 1\n",
    "\n",
    "    # Calculate the average temperature\n",
    "    avg = total / count\n",
    "\n",
    "    # Return the average temperature\n",
    "    return round(avg, 2)\n",
    "\n",
    "# Create a list to store the unique cities\n",
    "unique_var = list(set(City))\n",
    "\n",
    "\n",
    "# Loop through the unique cities and print the average temperature\n",
    "for city in unique_var:\n",
    "    print(f\"The average temperature in {city} is {avg_temp(city)} degrees.\")\n",
    "\n",
    "print(\"\\n\")\n",
    "\n",
    "# Loop through the list of cities and print whether the temperature was above or below average\n",
    "for city in unique_var:\n",
    "    for i in range(len(City)):\n",
    "        if City[i] == city:\n",
    "            if float(Temperature[i]) > avg_temp(city):\n",
    "                print(f\"The temperature in {city} on {Date[i]} was above average.\")\n",
    "            else:\n",
    "                pass\n",
    "\n",
    "\n",
    "\n"
   ]
  }
 ],
 "metadata": {
  "kernelspec": {
   "display_name": "Python 3",
   "language": "python",
   "name": "python3"
  },
  "language_info": {
   "codemirror_mode": {
    "name": "ipython",
    "version": 3
   },
   "file_extension": ".py",
   "mimetype": "text/x-python",
   "name": "python",
   "nbconvert_exporter": "python",
   "pygments_lexer": "ipython3",
   "version": "3.11.9"
  }
 },
 "nbformat": 4,
 "nbformat_minor": 5
}
