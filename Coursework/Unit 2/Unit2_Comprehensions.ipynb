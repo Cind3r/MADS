{
 "cells": [
  {
   "cell_type": "markdown",
   "id": "f5deae5b-bd88-41e9-bc35-55dd35f16b94",
   "metadata": {},
   "source": [
    "# Graded: x of 4 correct\n",
    "- [x] Function accepts integer\n",
    "- [x] Function uses list comprehension\n",
    "- [x] Function returns list of squares for evens from 1 to N\n",
    "- [x] Function returns list of cubes for odds from 1 to N\n",
    "\n",
    "Comments:"
   ]
  },
  {
   "cell_type": "markdown",
   "id": "79b9b181-ebe4-49aa-ae71-0bd72176b056",
   "metadata": {},
   "source": [
    "## Unit 2 Comprehensions Quiz\n",
    "* The objective of this quiz is for you to write code that uses list comprehension.\n",
    "* Please write a `function` called `even_odd_powers` that should do the following:\n",
    "    * Accept as input an integer > 0. Let us call it `N`.\n",
    "    * Use list comprehension to generate two lists:\n",
    "        * The first list should contain the squares of all integers between 1 and `N` that are even.\n",
    "        * The second list should contain the cubes of all integers between 1 and `N` that are odd.\n",
    "        * You function should return both lists.\n",
    "* Test you code for different values of `N`."
   ]
  },
  {
   "cell_type": "code",
   "execution_count": 4,
   "id": "79112d3d-c6af-405b-b8f4-cc54aeedfa84",
   "metadata": {},
   "outputs": [
    {
     "name": "stdout",
     "output_type": "stream",
     "text": [
      "Test case (N): 1\n",
      "Even: []\n",
      "Odd: [1]\n",
      "\n",
      "Test case (N): 2\n",
      "Even: [4]\n",
      "Odd: [1]\n",
      "\n",
      "Test case (N): 3\n",
      "Even: [4]\n",
      "Odd: [1, 27]\n",
      "\n",
      "Test case (N): 4\n",
      "Even: [4, 16]\n",
      "Odd: [1, 27]\n",
      "\n",
      "Test case (N): 5\n",
      "Even: [4, 16]\n",
      "Odd: [1, 27, 125]\n",
      "\n",
      "Test case (N): 6\n",
      "Even: [4, 16, 36]\n",
      "Odd: [1, 27, 125]\n",
      "\n",
      "Test case (N): 7\n",
      "Even: [4, 16, 36]\n",
      "Odd: [1, 27, 125, 343]\n",
      "\n",
      "Test case (N): 8\n",
      "Even: [4, 16, 36, 64]\n",
      "Odd: [1, 27, 125, 343]\n",
      "\n",
      "Test case (N): 9\n",
      "Even: [4, 16, 36, 64]\n",
      "Odd: [1, 27, 125, 343, 729]\n",
      "\n",
      "Test case (N): 10\n",
      "Even: [4, 16, 36, 64, 100]\n",
      "Odd: [1, 27, 125, 343, 729]\n",
      "\n"
     ]
    }
   ],
   "source": [
    "# Write the code for your program below.\n",
    "\n",
    "def even_odd_powers(N):\n",
    "    \"\"\"\n",
    "        This function takes an integer N as input and returns two lists.\n",
    "\n",
    "        Args:\n",
    "            N (int): The input integer\n",
    "        \n",
    "        Returns:\n",
    "            even (list): A list of the square of even numbers from 1 to N\n",
    "            odd (list): A list of the cube of odd numbers from 1 to N\n",
    "\n",
    "    \"\"\"\n",
    "    even = [i*i for i in range(1, N+1) if i % 2 == 0]\n",
    "    odd = [i*i*i for i in range(1, N+1) if i % 2 != 0]\n",
    "\n",
    "    return even, odd\n",
    "\n",
    "\n",
    "test_cases = [1, 2, 3, 4, 5, 6, 7, 8, 9, 10]\n",
    "\n",
    "# Loop through test cases and print results\n",
    "for test_case in test_cases:\n",
    "    even, odd = even_odd_powers(test_case)\n",
    "    print(f\"Test case (N): {test_case}\")\n",
    "    print(f\"Even: {even}\")\n",
    "    print(f\"Odd: {odd}\\n\")\n"
   ]
  }
 ],
 "metadata": {
  "kernelspec": {
   "display_name": "Python 3",
   "language": "python",
   "name": "python3"
  },
  "language_info": {
   "codemirror_mode": {
    "name": "ipython",
    "version": 3
   },
   "file_extension": ".py",
   "mimetype": "text/x-python",
   "name": "python",
   "nbconvert_exporter": "python",
   "pygments_lexer": "ipython3",
   "version": "3.11.9"
  }
 },
 "nbformat": 4,
 "nbformat_minor": 5
}
